{
 "cells": [
  {
   "cell_type": "code",
   "execution_count": 2,
   "metadata": {},
   "outputs": [],
   "source": [
    "%reload_ext autoreload\n",
    "%autoreload 2\n",
    "from plot_logger import *"
   ]
  },
  {
   "cell_type": "code",
   "execution_count": 5,
   "metadata": {},
   "outputs": [
    {
     "data": {
      "text/html": [
       "<div>\n",
       "<style scoped>\n",
       "    .dataframe tbody tr th:only-of-type {\n",
       "        vertical-align: middle;\n",
       "    }\n",
       "\n",
       "    .dataframe tbody tr th {\n",
       "        vertical-align: top;\n",
       "    }\n",
       "\n",
       "    .dataframe thead th {\n",
       "        text-align: right;\n",
       "    }\n",
       "</style>\n",
       "<table border=\"1\" class=\"dataframe\">\n",
       "  <thead>\n",
       "    <tr style=\"text-align: right;\">\n",
       "      <th></th>\n",
       "      <th>fecha</th>\n",
       "      <th>device</th>\n",
       "      <th>metric</th>\n",
       "      <th>value</th>\n",
       "    </tr>\n",
       "  </thead>\n",
       "  <tbody>\n",
       "    <tr>\n",
       "      <th>0</th>\n",
       "      <td>2024-12-10 21:23:38+01:00</td>\n",
       "      <td>solar</td>\n",
       "      <td>power</td>\n",
       "      <td>0.00</td>\n",
       "    </tr>\n",
       "    <tr>\n",
       "      <th>1</th>\n",
       "      <td>2024-12-10 21:23:38+01:00</td>\n",
       "      <td>humedad suelo</td>\n",
       "      <td>temperature</td>\n",
       "      <td>16.50</td>\n",
       "    </tr>\n",
       "    <tr>\n",
       "      <th>2</th>\n",
       "      <td>2024-12-10 21:23:38+01:00</td>\n",
       "      <td>humedad suelo</td>\n",
       "      <td>humidity</td>\n",
       "      <td>35.02</td>\n",
       "    </tr>\n",
       "    <tr>\n",
       "      <th>3</th>\n",
       "      <td>2024-12-10 21:23:38+01:00</td>\n",
       "      <td>humedad suelo</td>\n",
       "      <td>ec</td>\n",
       "      <td>275.00</td>\n",
       "    </tr>\n",
       "    <tr>\n",
       "      <th>4</th>\n",
       "      <td>2024-12-10 21:23:38+01:00</td>\n",
       "      <td>pH</td>\n",
       "      <td>pH</td>\n",
       "      <td>8.40</td>\n",
       "    </tr>\n",
       "    <tr>\n",
       "      <th>...</th>\n",
       "      <td>...</td>\n",
       "      <td>...</td>\n",
       "      <td>...</td>\n",
       "      <td>...</td>\n",
       "    </tr>\n",
       "    <tr>\n",
       "      <th>2076</th>\n",
       "      <td>2024-12-13 23:37:25+01:00</td>\n",
       "      <td>temp_interior</td>\n",
       "      <td>temperature</td>\n",
       "      <td>5.50</td>\n",
       "    </tr>\n",
       "    <tr>\n",
       "      <th>2077</th>\n",
       "      <td>2024-12-13 23:37:25+01:00</td>\n",
       "      <td>temp_exterior</td>\n",
       "      <td>humidity</td>\n",
       "      <td>51.80</td>\n",
       "    </tr>\n",
       "    <tr>\n",
       "      <th>2078</th>\n",
       "      <td>2024-12-13 23:37:25+01:00</td>\n",
       "      <td>temp_exterior</td>\n",
       "      <td>temperature</td>\n",
       "      <td>3.40</td>\n",
       "    </tr>\n",
       "    <tr>\n",
       "      <th>2079</th>\n",
       "      <td>2024-12-13 23:37:25+01:00</td>\n",
       "      <td>co2</td>\n",
       "      <td>co2</td>\n",
       "      <td>670.00</td>\n",
       "    </tr>\n",
       "    <tr>\n",
       "      <th>2080</th>\n",
       "      <td>2024-12-13 23:37:25+01:00</td>\n",
       "      <td>presion caldera</td>\n",
       "      <td>presion</td>\n",
       "      <td>1.26</td>\n",
       "    </tr>\n",
       "  </tbody>\n",
       "</table>\n",
       "<p>2081 rows × 4 columns</p>\n",
       "</div>"
      ],
      "text/plain": [
       "                         fecha           device       metric   value\n",
       "0    2024-12-10 21:23:38+01:00            solar        power    0.00\n",
       "1    2024-12-10 21:23:38+01:00    humedad suelo  temperature   16.50\n",
       "2    2024-12-10 21:23:38+01:00    humedad suelo     humidity   35.02\n",
       "3    2024-12-10 21:23:38+01:00    humedad suelo           ec  275.00\n",
       "4    2024-12-10 21:23:38+01:00               pH           pH    8.40\n",
       "...                        ...              ...          ...     ...\n",
       "2076 2024-12-13 23:37:25+01:00    temp_interior  temperature    5.50\n",
       "2077 2024-12-13 23:37:25+01:00    temp_exterior     humidity   51.80\n",
       "2078 2024-12-13 23:37:25+01:00    temp_exterior  temperature    3.40\n",
       "2079 2024-12-13 23:37:25+01:00              co2          co2  670.00\n",
       "2080 2024-12-13 23:37:25+01:00  presion caldera      presion    1.26\n",
       "\n",
       "[2081 rows x 4 columns]"
      ]
     },
     "execution_count": 5,
     "metadata": {},
     "output_type": "execute_result"
    }
   ],
   "source": [
    "query = f\"\"\"\n",
    "        select\n",
    "        to_timestamp(timestamp) as fecha,\n",
    "        device,\n",
    "        metric,\n",
    "        value\n",
    "        from 'csv/*/*.csv'\n",
    "        \"\"\"\n",
    "\n",
    "duckdb.sql(query).df()"
   ]
  },
  {
   "cell_type": "code",
   "execution_count": 7,
   "metadata": {},
   "outputs": [
    {
     "data": {
      "application/vnd.plotly.v1+json": {
       "config": {
        "plotlyServerURL": "https://plot.ly"
       },
       "data": [
        {
         "hovertemplate": "device=temp_exterior<br>fecha=%{x}<br>vpd=%{y}<extra></extra>",
         "legendgroup": "temp_exterior",
         "line": {
          "color": "#636efa",
          "dash": "solid"
         },
         "marker": {
          "symbol": "circle"
         },
         "mode": "lines",
         "name": "temp_exterior",
         "orientation": "v",
         "showlegend": true,
         "type": "scatter",
         "x": [
          "2024-12-13T16:41:31+01:00",
          "2024-12-13T18:21:15+01:00",
          "2024-12-13T18:25:21+01:00",
          "2024-12-13T18:25:58+01:00",
          "2024-12-13T18:26:08+01:00",
          "2024-12-13T18:28:55+01:00",
          "2024-12-13T18:29:12+01:00",
          "2024-12-13T18:29:46+01:00",
          "2024-12-13T18:30:08+01:00",
          "2024-12-13T22:58:09+01:00",
          "2024-12-13T23:00:08+01:00",
          "2024-12-13T23:02:50+01:00",
          "2024-12-13T23:05:30+01:00",
          "2024-12-13T23:06:29+01:00",
          "2024-12-13T23:23:45+01:00",
          "2024-12-13T23:24:10+01:00",
          "2024-12-13T23:26:22+01:00",
          "2024-12-13T23:27:24+01:00",
          "2024-12-13T23:28:25+01:00",
          "2024-12-13T23:29:26+01:00",
          "2024-12-13T23:30:16+01:00",
          "2024-12-13T23:31:17+01:00",
          "2024-12-13T23:32:15+01:00",
          "2024-12-13T23:32:27+01:00",
          "2024-12-13T23:35:24+01:00",
          "2024-12-13T23:36:24+01:00",
          "2024-12-13T23:37:25+01:00",
          "2024-12-13T23:38:26+01:00"
         ],
         "xaxis": "x",
         "y": [
          4.767430787988387,
          4.50269628739917,
          4.50269628739917,
          4.50269628739917,
          4.50269628739917,
          4.50269628739917,
          4.50269628739917,
          4.50269628739917,
          4.50269628739917,
          3.6343653881330935,
          3.59103205861274,
          3.5231610425518873,
          3.565815814105128,
          3.6088869870112212,
          3.685798689417354,
          3.660002340499099,
          3.660002340499099,
          3.6088869870112212,
          3.59103205861274,
          3.565815814105128,
          3.5407559319779076,
          3.515851579808004,
          3.5231610425518873,
          3.5231610425518873,
          3.515851579808004,
          3.4983599369721414,
          3.4737130272956587,
          3.4737130272956587
         ],
         "yaxis": "y"
        },
        {
         "hovertemplate": "device=temp_interior<br>fecha=%{x}<br>vpd=%{y}<extra></extra>",
         "legendgroup": "temp_interior",
         "line": {
          "color": "#EF553B",
          "dash": "solid"
         },
         "marker": {
          "symbol": "circle"
         },
         "mode": "lines",
         "name": "temp_interior",
         "orientation": "v",
         "showlegend": true,
         "type": "scatter",
         "x": [
          "2024-12-13T16:41:31+01:00",
          "2024-12-13T18:21:15+01:00",
          "2024-12-13T18:25:20+01:00",
          "2024-12-13T18:25:58+01:00",
          "2024-12-13T18:26:08+01:00",
          "2024-12-13T18:28:55+01:00",
          "2024-12-13T18:29:12+01:00",
          "2024-12-13T18:29:46+01:00",
          "2024-12-13T18:30:08+01:00",
          "2024-12-13T22:58:09+01:00",
          "2024-12-13T23:00:08+01:00",
          "2024-12-13T23:02:50+01:00",
          "2024-12-13T23:05:30+01:00",
          "2024-12-13T23:06:29+01:00",
          "2024-12-13T23:23:44+01:00",
          "2024-12-13T23:24:10+01:00",
          "2024-12-13T23:26:22+01:00",
          "2024-12-13T23:27:24+01:00",
          "2024-12-13T23:28:25+01:00",
          "2024-12-13T23:29:26+01:00",
          "2024-12-13T23:30:16+01:00",
          "2024-12-13T23:31:17+01:00",
          "2024-12-13T23:32:15+01:00",
          "2024-12-13T23:32:27+01:00",
          "2024-12-13T23:35:24+01:00",
          "2024-12-13T23:36:24+01:00",
          "2024-12-13T23:37:25+01:00",
          "2024-12-13T23:38:26+01:00"
         ],
         "xaxis": "x",
         "y": [
          3.773259580472253,
          2.810259558263753,
          2.738279971455375,
          2.7862533975657175,
          2.770120436239738,
          2.646043270834385,
          2.656585275897471,
          2.656585275897471,
          2.6355012657713006,
          1.8114888015143995,
          1.802903546530918,
          1.8075021480902356,
          1.798976194561507,
          1.7819242875040535,
          1.7573624288342966,
          1.7321371308127507,
          1.7657708615081447,
          1.7741792941819927,
          1.7368435776753444,
          1.7237286981389017,
          1.7451937871833998,
          1.7405455634866005,
          1.7573624288342966,
          1.7657708615081447,
          1.7489539961604468,
          1.7451937871833998,
          1.7535439966914534,
          1.7201431586592353
         ],
         "yaxis": "y"
        }
       ],
       "layout": {
        "annotations": [
         {
          "showarrow": false,
          "text": "y=4",
          "x": 0,
          "xanchor": "left",
          "xref": "x domain",
          "y": 4,
          "yanchor": "bottom",
          "yref": "y"
         },
         {
          "showarrow": false,
          "text": "y=16",
          "x": 0,
          "xanchor": "left",
          "xref": "x domain",
          "y": 16,
          "yanchor": "bottom",
          "yref": "y"
         }
        ],
        "height": 600,
        "legend": {
         "title": {
          "text": ""
         },
         "tracegroupgap": 0,
         "x": 0.01,
         "xanchor": "left",
         "y": 0.99,
         "yanchor": "top"
        },
        "margin": {
         "b": 0,
         "l": 0,
         "r": 0,
         "t": 20
        },
        "shapes": [
         {
          "line": {
           "color": "grey",
           "dash": "dash",
           "width": 1
          },
          "type": "line",
          "x0": 0,
          "x1": 1,
          "xref": "x domain",
          "y0": 4,
          "y1": 4,
          "yref": "y"
         },
         {
          "line": {
           "color": "grey",
           "dash": "dash",
           "width": 1
          },
          "type": "line",
          "x0": 0,
          "x1": 1,
          "xref": "x domain",
          "y0": 16,
          "y1": 16,
          "yref": "y"
         }
        ],
        "template": {
         "data": {
          "bar": [
           {
            "error_x": {
             "color": "#2a3f5f"
            },
            "error_y": {
             "color": "#2a3f5f"
            },
            "marker": {
             "line": {
              "color": "#E5ECF6",
              "width": 0.5
             },
             "pattern": {
              "fillmode": "overlay",
              "size": 10,
              "solidity": 0.2
             }
            },
            "type": "bar"
           }
          ],
          "barpolar": [
           {
            "marker": {
             "line": {
              "color": "#E5ECF6",
              "width": 0.5
             },
             "pattern": {
              "fillmode": "overlay",
              "size": 10,
              "solidity": 0.2
             }
            },
            "type": "barpolar"
           }
          ],
          "carpet": [
           {
            "aaxis": {
             "endlinecolor": "#2a3f5f",
             "gridcolor": "white",
             "linecolor": "white",
             "minorgridcolor": "white",
             "startlinecolor": "#2a3f5f"
            },
            "baxis": {
             "endlinecolor": "#2a3f5f",
             "gridcolor": "white",
             "linecolor": "white",
             "minorgridcolor": "white",
             "startlinecolor": "#2a3f5f"
            },
            "type": "carpet"
           }
          ],
          "choropleth": [
           {
            "colorbar": {
             "outlinewidth": 0,
             "ticks": ""
            },
            "type": "choropleth"
           }
          ],
          "contour": [
           {
            "colorbar": {
             "outlinewidth": 0,
             "ticks": ""
            },
            "colorscale": [
             [
              0,
              "#0d0887"
             ],
             [
              0.1111111111111111,
              "#46039f"
             ],
             [
              0.2222222222222222,
              "#7201a8"
             ],
             [
              0.3333333333333333,
              "#9c179e"
             ],
             [
              0.4444444444444444,
              "#bd3786"
             ],
             [
              0.5555555555555556,
              "#d8576b"
             ],
             [
              0.6666666666666666,
              "#ed7953"
             ],
             [
              0.7777777777777778,
              "#fb9f3a"
             ],
             [
              0.8888888888888888,
              "#fdca26"
             ],
             [
              1,
              "#f0f921"
             ]
            ],
            "type": "contour"
           }
          ],
          "contourcarpet": [
           {
            "colorbar": {
             "outlinewidth": 0,
             "ticks": ""
            },
            "type": "contourcarpet"
           }
          ],
          "heatmap": [
           {
            "colorbar": {
             "outlinewidth": 0,
             "ticks": ""
            },
            "colorscale": [
             [
              0,
              "#0d0887"
             ],
             [
              0.1111111111111111,
              "#46039f"
             ],
             [
              0.2222222222222222,
              "#7201a8"
             ],
             [
              0.3333333333333333,
              "#9c179e"
             ],
             [
              0.4444444444444444,
              "#bd3786"
             ],
             [
              0.5555555555555556,
              "#d8576b"
             ],
             [
              0.6666666666666666,
              "#ed7953"
             ],
             [
              0.7777777777777778,
              "#fb9f3a"
             ],
             [
              0.8888888888888888,
              "#fdca26"
             ],
             [
              1,
              "#f0f921"
             ]
            ],
            "type": "heatmap"
           }
          ],
          "heatmapgl": [
           {
            "colorbar": {
             "outlinewidth": 0,
             "ticks": ""
            },
            "colorscale": [
             [
              0,
              "#0d0887"
             ],
             [
              0.1111111111111111,
              "#46039f"
             ],
             [
              0.2222222222222222,
              "#7201a8"
             ],
             [
              0.3333333333333333,
              "#9c179e"
             ],
             [
              0.4444444444444444,
              "#bd3786"
             ],
             [
              0.5555555555555556,
              "#d8576b"
             ],
             [
              0.6666666666666666,
              "#ed7953"
             ],
             [
              0.7777777777777778,
              "#fb9f3a"
             ],
             [
              0.8888888888888888,
              "#fdca26"
             ],
             [
              1,
              "#f0f921"
             ]
            ],
            "type": "heatmapgl"
           }
          ],
          "histogram": [
           {
            "marker": {
             "pattern": {
              "fillmode": "overlay",
              "size": 10,
              "solidity": 0.2
             }
            },
            "type": "histogram"
           }
          ],
          "histogram2d": [
           {
            "colorbar": {
             "outlinewidth": 0,
             "ticks": ""
            },
            "colorscale": [
             [
              0,
              "#0d0887"
             ],
             [
              0.1111111111111111,
              "#46039f"
             ],
             [
              0.2222222222222222,
              "#7201a8"
             ],
             [
              0.3333333333333333,
              "#9c179e"
             ],
             [
              0.4444444444444444,
              "#bd3786"
             ],
             [
              0.5555555555555556,
              "#d8576b"
             ],
             [
              0.6666666666666666,
              "#ed7953"
             ],
             [
              0.7777777777777778,
              "#fb9f3a"
             ],
             [
              0.8888888888888888,
              "#fdca26"
             ],
             [
              1,
              "#f0f921"
             ]
            ],
            "type": "histogram2d"
           }
          ],
          "histogram2dcontour": [
           {
            "colorbar": {
             "outlinewidth": 0,
             "ticks": ""
            },
            "colorscale": [
             [
              0,
              "#0d0887"
             ],
             [
              0.1111111111111111,
              "#46039f"
             ],
             [
              0.2222222222222222,
              "#7201a8"
             ],
             [
              0.3333333333333333,
              "#9c179e"
             ],
             [
              0.4444444444444444,
              "#bd3786"
             ],
             [
              0.5555555555555556,
              "#d8576b"
             ],
             [
              0.6666666666666666,
              "#ed7953"
             ],
             [
              0.7777777777777778,
              "#fb9f3a"
             ],
             [
              0.8888888888888888,
              "#fdca26"
             ],
             [
              1,
              "#f0f921"
             ]
            ],
            "type": "histogram2dcontour"
           }
          ],
          "mesh3d": [
           {
            "colorbar": {
             "outlinewidth": 0,
             "ticks": ""
            },
            "type": "mesh3d"
           }
          ],
          "parcoords": [
           {
            "line": {
             "colorbar": {
              "outlinewidth": 0,
              "ticks": ""
             }
            },
            "type": "parcoords"
           }
          ],
          "pie": [
           {
            "automargin": true,
            "type": "pie"
           }
          ],
          "scatter": [
           {
            "fillpattern": {
             "fillmode": "overlay",
             "size": 10,
             "solidity": 0.2
            },
            "type": "scatter"
           }
          ],
          "scatter3d": [
           {
            "line": {
             "colorbar": {
              "outlinewidth": 0,
              "ticks": ""
             }
            },
            "marker": {
             "colorbar": {
              "outlinewidth": 0,
              "ticks": ""
             }
            },
            "type": "scatter3d"
           }
          ],
          "scattercarpet": [
           {
            "marker": {
             "colorbar": {
              "outlinewidth": 0,
              "ticks": ""
             }
            },
            "type": "scattercarpet"
           }
          ],
          "scattergeo": [
           {
            "marker": {
             "colorbar": {
              "outlinewidth": 0,
              "ticks": ""
             }
            },
            "type": "scattergeo"
           }
          ],
          "scattergl": [
           {
            "marker": {
             "colorbar": {
              "outlinewidth": 0,
              "ticks": ""
             }
            },
            "type": "scattergl"
           }
          ],
          "scattermapbox": [
           {
            "marker": {
             "colorbar": {
              "outlinewidth": 0,
              "ticks": ""
             }
            },
            "type": "scattermapbox"
           }
          ],
          "scatterpolar": [
           {
            "marker": {
             "colorbar": {
              "outlinewidth": 0,
              "ticks": ""
             }
            },
            "type": "scatterpolar"
           }
          ],
          "scatterpolargl": [
           {
            "marker": {
             "colorbar": {
              "outlinewidth": 0,
              "ticks": ""
             }
            },
            "type": "scatterpolargl"
           }
          ],
          "scatterternary": [
           {
            "marker": {
             "colorbar": {
              "outlinewidth": 0,
              "ticks": ""
             }
            },
            "type": "scatterternary"
           }
          ],
          "surface": [
           {
            "colorbar": {
             "outlinewidth": 0,
             "ticks": ""
            },
            "colorscale": [
             [
              0,
              "#0d0887"
             ],
             [
              0.1111111111111111,
              "#46039f"
             ],
             [
              0.2222222222222222,
              "#7201a8"
             ],
             [
              0.3333333333333333,
              "#9c179e"
             ],
             [
              0.4444444444444444,
              "#bd3786"
             ],
             [
              0.5555555555555556,
              "#d8576b"
             ],
             [
              0.6666666666666666,
              "#ed7953"
             ],
             [
              0.7777777777777778,
              "#fb9f3a"
             ],
             [
              0.8888888888888888,
              "#fdca26"
             ],
             [
              1,
              "#f0f921"
             ]
            ],
            "type": "surface"
           }
          ],
          "table": [
           {
            "cells": {
             "fill": {
              "color": "#EBF0F8"
             },
             "line": {
              "color": "white"
             }
            },
            "header": {
             "fill": {
              "color": "#C8D4E3"
             },
             "line": {
              "color": "white"
             }
            },
            "type": "table"
           }
          ]
         },
         "layout": {
          "annotationdefaults": {
           "arrowcolor": "#2a3f5f",
           "arrowhead": 0,
           "arrowwidth": 1
          },
          "autotypenumbers": "strict",
          "coloraxis": {
           "colorbar": {
            "outlinewidth": 0,
            "ticks": ""
           }
          },
          "colorscale": {
           "diverging": [
            [
             0,
             "#8e0152"
            ],
            [
             0.1,
             "#c51b7d"
            ],
            [
             0.2,
             "#de77ae"
            ],
            [
             0.3,
             "#f1b6da"
            ],
            [
             0.4,
             "#fde0ef"
            ],
            [
             0.5,
             "#f7f7f7"
            ],
            [
             0.6,
             "#e6f5d0"
            ],
            [
             0.7,
             "#b8e186"
            ],
            [
             0.8,
             "#7fbc41"
            ],
            [
             0.9,
             "#4d9221"
            ],
            [
             1,
             "#276419"
            ]
           ],
           "sequential": [
            [
             0,
             "#0d0887"
            ],
            [
             0.1111111111111111,
             "#46039f"
            ],
            [
             0.2222222222222222,
             "#7201a8"
            ],
            [
             0.3333333333333333,
             "#9c179e"
            ],
            [
             0.4444444444444444,
             "#bd3786"
            ],
            [
             0.5555555555555556,
             "#d8576b"
            ],
            [
             0.6666666666666666,
             "#ed7953"
            ],
            [
             0.7777777777777778,
             "#fb9f3a"
            ],
            [
             0.8888888888888888,
             "#fdca26"
            ],
            [
             1,
             "#f0f921"
            ]
           ],
           "sequentialminus": [
            [
             0,
             "#0d0887"
            ],
            [
             0.1111111111111111,
             "#46039f"
            ],
            [
             0.2222222222222222,
             "#7201a8"
            ],
            [
             0.3333333333333333,
             "#9c179e"
            ],
            [
             0.4444444444444444,
             "#bd3786"
            ],
            [
             0.5555555555555556,
             "#d8576b"
            ],
            [
             0.6666666666666666,
             "#ed7953"
            ],
            [
             0.7777777777777778,
             "#fb9f3a"
            ],
            [
             0.8888888888888888,
             "#fdca26"
            ],
            [
             1,
             "#f0f921"
            ]
           ]
          },
          "colorway": [
           "#636efa",
           "#EF553B",
           "#00cc96",
           "#ab63fa",
           "#FFA15A",
           "#19d3f3",
           "#FF6692",
           "#B6E880",
           "#FF97FF",
           "#FECB52"
          ],
          "font": {
           "color": "#2a3f5f"
          },
          "geo": {
           "bgcolor": "white",
           "lakecolor": "white",
           "landcolor": "#E5ECF6",
           "showlakes": true,
           "showland": true,
           "subunitcolor": "white"
          },
          "hoverlabel": {
           "align": "left"
          },
          "hovermode": "closest",
          "mapbox": {
           "style": "light"
          },
          "paper_bgcolor": "white",
          "plot_bgcolor": "#E5ECF6",
          "polar": {
           "angularaxis": {
            "gridcolor": "white",
            "linecolor": "white",
            "ticks": ""
           },
           "bgcolor": "#E5ECF6",
           "radialaxis": {
            "gridcolor": "white",
            "linecolor": "white",
            "ticks": ""
           }
          },
          "scene": {
           "xaxis": {
            "backgroundcolor": "#E5ECF6",
            "gridcolor": "white",
            "gridwidth": 2,
            "linecolor": "white",
            "showbackground": true,
            "ticks": "",
            "zerolinecolor": "white"
           },
           "yaxis": {
            "backgroundcolor": "#E5ECF6",
            "gridcolor": "white",
            "gridwidth": 2,
            "linecolor": "white",
            "showbackground": true,
            "ticks": "",
            "zerolinecolor": "white"
           },
           "zaxis": {
            "backgroundcolor": "#E5ECF6",
            "gridcolor": "white",
            "gridwidth": 2,
            "linecolor": "white",
            "showbackground": true,
            "ticks": "",
            "zerolinecolor": "white"
           }
          },
          "shapedefaults": {
           "line": {
            "color": "#2a3f5f"
           }
          },
          "ternary": {
           "aaxis": {
            "gridcolor": "white",
            "linecolor": "white",
            "ticks": ""
           },
           "baxis": {
            "gridcolor": "white",
            "linecolor": "white",
            "ticks": ""
           },
           "bgcolor": "#E5ECF6",
           "caxis": {
            "gridcolor": "white",
            "linecolor": "white",
            "ticks": ""
           }
          },
          "title": {
           "x": 0.05
          },
          "xaxis": {
           "automargin": true,
           "gridcolor": "white",
           "linecolor": "white",
           "ticks": "",
           "title": {
            "standoff": 15
           },
           "zerolinecolor": "white",
           "zerolinewidth": 2
          },
          "yaxis": {
           "automargin": true,
           "gridcolor": "white",
           "linecolor": "white",
           "ticks": "",
           "title": {
            "standoff": 15
           },
           "zerolinecolor": "white",
           "zerolinewidth": 2
          }
         }
        },
        "title": {
         "text": ""
        },
        "xaxis": {
         "anchor": "y",
         "domain": [
          0,
          1
         ],
         "title": {
          "text": ""
         }
        },
        "yaxis": {
         "anchor": "x",
         "domain": [
          0,
          1
         ],
         "title": {
          "text": ""
         }
        }
       }
      }
     },
     "metadata": {},
     "output_type": "display_data"
    },
    {
     "data": {
      "application/vnd.plotly.v1+json": {
       "config": {
        "plotlyServerURL": "https://plot.ly"
       },
       "data": [
        {
         "hovertemplate": "device=humedad suelo<br>fecha=%{x}<br>temperature=%{y}<extra></extra>",
         "legendgroup": "humedad suelo",
         "line": {
          "color": "#636efa",
          "dash": "solid"
         },
         "marker": {
          "symbol": "circle"
         },
         "mode": "lines",
         "name": "humedad suelo",
         "orientation": "v",
         "showlegend": true,
         "type": "scatter",
         "x": [
          "2024-12-13T16:41:30+01:00",
          "2024-12-13T18:21:14+01:00",
          "2024-12-13T18:25:20+01:00",
          "2024-12-13T18:25:58+01:00",
          "2024-12-13T18:26:08+01:00",
          "2024-12-13T18:28:55+01:00",
          "2024-12-13T18:29:12+01:00",
          "2024-12-13T18:29:45+01:00",
          "2024-12-13T18:30:08+01:00",
          "2024-12-13T22:58:09+01:00",
          "2024-12-13T23:00:07+01:00",
          "2024-12-13T23:02:50+01:00",
          "2024-12-13T23:05:30+01:00",
          "2024-12-13T23:06:29+01:00",
          "2024-12-13T23:23:44+01:00",
          "2024-12-13T23:24:09+01:00",
          "2024-12-13T23:26:21+01:00",
          "2024-12-13T23:27:24+01:00",
          "2024-12-13T23:28:25+01:00",
          "2024-12-13T23:29:26+01:00",
          "2024-12-13T23:30:16+01:00",
          "2024-12-13T23:31:17+01:00",
          "2024-12-13T23:32:15+01:00",
          "2024-12-13T23:32:27+01:00",
          "2024-12-13T23:35:23+01:00",
          "2024-12-13T23:36:24+01:00",
          "2024-12-13T23:37:25+01:00",
          "2024-12-13T23:38:26+01:00"
         ],
         "xaxis": "x",
         "y": [
          18.14,
          18.77,
          18.77,
          18.82,
          18.82,
          18.82,
          18.82,
          18.82,
          18.85,
          16.25,
          16.22,
          16.17,
          16.14,
          16.14,
          15.97,
          15.97,
          15.94,
          15.94,
          15.91,
          15.91,
          15.91,
          15.91,
          15.91,
          15.91,
          15.91,
          15.88,
          15.88,
          15.91
         ],
         "yaxis": "y"
        },
        {
         "hovertemplate": "device=suelo<br>fecha=%{x}<br>temperature=%{y}<extra></extra>",
         "legendgroup": "suelo",
         "line": {
          "color": "#EF553B",
          "dash": "solid"
         },
         "marker": {
          "symbol": "circle"
         },
         "mode": "lines",
         "name": "suelo",
         "orientation": "v",
         "showlegend": true,
         "type": "scatter",
         "x": [
          "2024-12-13T16:41:31+01:00",
          "2024-12-13T18:21:15+01:00",
          "2024-12-13T18:25:20+01:00",
          "2024-12-13T18:25:58+01:00",
          "2024-12-13T18:26:08+01:00",
          "2024-12-13T18:28:55+01:00",
          "2024-12-13T18:29:12+01:00",
          "2024-12-13T18:29:46+01:00",
          "2024-12-13T18:30:08+01:00",
          "2024-12-13T22:58:09+01:00",
          "2024-12-13T23:00:08+01:00",
          "2024-12-13T23:02:50+01:00",
          "2024-12-13T23:05:30+01:00",
          "2024-12-13T23:06:29+01:00",
          "2024-12-13T23:23:44+01:00",
          "2024-12-13T23:24:10+01:00",
          "2024-12-13T23:26:22+01:00",
          "2024-12-13T23:27:24+01:00",
          "2024-12-13T23:28:25+01:00",
          "2024-12-13T23:29:26+01:00",
          "2024-12-13T23:30:16+01:00",
          "2024-12-13T23:31:17+01:00",
          "2024-12-13T23:32:15+01:00",
          "2024-12-13T23:32:27+01:00",
          "2024-12-13T23:35:24+01:00",
          "2024-12-13T23:36:24+01:00",
          "2024-12-13T23:37:25+01:00",
          "2024-12-13T23:38:26+01:00"
         ],
         "xaxis": "x",
         "y": [
          19.4,
          23.8,
          24,
          24,
          24,
          24.1,
          24,
          24.1,
          24.1,
          14.2,
          14.1,
          14.1,
          14,
          14.1,
          13.9,
          13.9,
          14.3,
          14.5,
          14.6,
          14.7,
          14.8,
          14.9,
          15,
          15,
          15.3,
          15.4,
          15.5,
          15.6
         ],
         "yaxis": "y"
        },
        {
         "hovertemplate": "device=temp_exterior<br>fecha=%{x}<br>temperature=%{y}<extra></extra>",
         "legendgroup": "temp_exterior",
         "line": {
          "color": "#00cc96",
          "dash": "solid"
         },
         "marker": {
          "symbol": "circle"
         },
         "mode": "lines",
         "name": "temp_exterior",
         "orientation": "v",
         "showlegend": true,
         "type": "scatter",
         "x": [
          "2024-12-13T16:41:31+01:00",
          "2024-12-13T18:21:15+01:00",
          "2024-12-13T18:25:21+01:00",
          "2024-12-13T18:25:58+01:00",
          "2024-12-13T18:26:08+01:00",
          "2024-12-13T18:28:55+01:00",
          "2024-12-13T18:29:12+01:00",
          "2024-12-13T18:29:46+01:00",
          "2024-12-13T18:30:08+01:00",
          "2024-12-13T22:58:09+01:00",
          "2024-12-13T23:00:08+01:00",
          "2024-12-13T23:02:50+01:00",
          "2024-12-13T23:05:30+01:00",
          "2024-12-13T23:06:29+01:00",
          "2024-12-13T23:23:45+01:00",
          "2024-12-13T23:24:10+01:00",
          "2024-12-13T23:26:22+01:00",
          "2024-12-13T23:27:24+01:00",
          "2024-12-13T23:28:25+01:00",
          "2024-12-13T23:29:26+01:00",
          "2024-12-13T23:30:16+01:00",
          "2024-12-13T23:31:17+01:00",
          "2024-12-13T23:32:15+01:00",
          "2024-12-13T23:32:27+01:00",
          "2024-12-13T23:35:24+01:00",
          "2024-12-13T23:36:24+01:00",
          "2024-12-13T23:37:25+01:00",
          "2024-12-13T23:38:26+01:00"
         ],
         "xaxis": "x",
         "y": [
          8.3,
          7.4,
          7.4,
          7.4,
          7.4,
          7.4,
          7.4,
          7.4,
          7.4,
          4.1,
          3.9,
          3.6,
          3.8,
          4,
          4.3,
          4.2,
          4.2,
          4,
          3.9,
          3.8,
          3.7,
          3.6,
          3.6,
          3.6,
          3.6,
          3.5,
          3.4,
          3.4
         ],
         "yaxis": "y"
        },
        {
         "hovertemplate": "device=temp_interior<br>fecha=%{x}<br>temperature=%{y}<extra></extra>",
         "legendgroup": "temp_interior",
         "line": {
          "color": "#ab63fa",
          "dash": "solid"
         },
         "marker": {
          "symbol": "circle"
         },
         "mode": "lines",
         "name": "temp_interior",
         "orientation": "v",
         "showlegend": true,
         "type": "scatter",
         "x": [
          "2024-12-13T16:41:31+01:00",
          "2024-12-13T18:21:15+01:00",
          "2024-12-13T18:25:20+01:00",
          "2024-12-13T18:25:58+01:00",
          "2024-12-13T18:26:08+01:00",
          "2024-12-13T18:28:55+01:00",
          "2024-12-13T18:29:12+01:00",
          "2024-12-13T18:29:46+01:00",
          "2024-12-13T18:30:08+01:00",
          "2024-12-13T22:58:09+01:00",
          "2024-12-13T23:00:08+01:00",
          "2024-12-13T23:02:50+01:00",
          "2024-12-13T23:05:30+01:00",
          "2024-12-13T23:06:29+01:00",
          "2024-12-13T23:23:44+01:00",
          "2024-12-13T23:24:10+01:00",
          "2024-12-13T23:26:22+01:00",
          "2024-12-13T23:27:24+01:00",
          "2024-12-13T23:28:25+01:00",
          "2024-12-13T23:29:26+01:00",
          "2024-12-13T23:30:16+01:00",
          "2024-12-13T23:31:17+01:00",
          "2024-12-13T23:32:15+01:00",
          "2024-12-13T23:32:27+01:00",
          "2024-12-13T23:35:24+01:00",
          "2024-12-13T23:36:24+01:00",
          "2024-12-13T23:37:25+01:00",
          "2024-12-13T23:38:26+01:00"
         ],
         "xaxis": "x",
         "y": [
          10.9,
          9.1,
          9,
          9.2,
          9,
          8.9,
          8.9,
          8.9,
          8.9,
          5.9,
          5.9,
          5.8,
          5.8,
          5.8,
          5.6,
          5.6,
          5.6,
          5.6,
          5.5,
          5.6,
          5.5,
          5.6,
          5.6,
          5.6,
          5.6,
          5.5,
          5.5,
          5.5
         ],
         "yaxis": "y"
        }
       ],
       "layout": {
        "height": 500,
        "legend": {
         "title": {
          "text": ""
         },
         "tracegroupgap": 0,
         "x": 0.01,
         "xanchor": "left",
         "y": 0.99,
         "yanchor": "top"
        },
        "margin": {
         "b": 0,
         "l": 0,
         "r": 0,
         "t": 20
        },
        "template": {
         "data": {
          "bar": [
           {
            "error_x": {
             "color": "#2a3f5f"
            },
            "error_y": {
             "color": "#2a3f5f"
            },
            "marker": {
             "line": {
              "color": "#E5ECF6",
              "width": 0.5
             },
             "pattern": {
              "fillmode": "overlay",
              "size": 10,
              "solidity": 0.2
             }
            },
            "type": "bar"
           }
          ],
          "barpolar": [
           {
            "marker": {
             "line": {
              "color": "#E5ECF6",
              "width": 0.5
             },
             "pattern": {
              "fillmode": "overlay",
              "size": 10,
              "solidity": 0.2
             }
            },
            "type": "barpolar"
           }
          ],
          "carpet": [
           {
            "aaxis": {
             "endlinecolor": "#2a3f5f",
             "gridcolor": "white",
             "linecolor": "white",
             "minorgridcolor": "white",
             "startlinecolor": "#2a3f5f"
            },
            "baxis": {
             "endlinecolor": "#2a3f5f",
             "gridcolor": "white",
             "linecolor": "white",
             "minorgridcolor": "white",
             "startlinecolor": "#2a3f5f"
            },
            "type": "carpet"
           }
          ],
          "choropleth": [
           {
            "colorbar": {
             "outlinewidth": 0,
             "ticks": ""
            },
            "type": "choropleth"
           }
          ],
          "contour": [
           {
            "colorbar": {
             "outlinewidth": 0,
             "ticks": ""
            },
            "colorscale": [
             [
              0,
              "#0d0887"
             ],
             [
              0.1111111111111111,
              "#46039f"
             ],
             [
              0.2222222222222222,
              "#7201a8"
             ],
             [
              0.3333333333333333,
              "#9c179e"
             ],
             [
              0.4444444444444444,
              "#bd3786"
             ],
             [
              0.5555555555555556,
              "#d8576b"
             ],
             [
              0.6666666666666666,
              "#ed7953"
             ],
             [
              0.7777777777777778,
              "#fb9f3a"
             ],
             [
              0.8888888888888888,
              "#fdca26"
             ],
             [
              1,
              "#f0f921"
             ]
            ],
            "type": "contour"
           }
          ],
          "contourcarpet": [
           {
            "colorbar": {
             "outlinewidth": 0,
             "ticks": ""
            },
            "type": "contourcarpet"
           }
          ],
          "heatmap": [
           {
            "colorbar": {
             "outlinewidth": 0,
             "ticks": ""
            },
            "colorscale": [
             [
              0,
              "#0d0887"
             ],
             [
              0.1111111111111111,
              "#46039f"
             ],
             [
              0.2222222222222222,
              "#7201a8"
             ],
             [
              0.3333333333333333,
              "#9c179e"
             ],
             [
              0.4444444444444444,
              "#bd3786"
             ],
             [
              0.5555555555555556,
              "#d8576b"
             ],
             [
              0.6666666666666666,
              "#ed7953"
             ],
             [
              0.7777777777777778,
              "#fb9f3a"
             ],
             [
              0.8888888888888888,
              "#fdca26"
             ],
             [
              1,
              "#f0f921"
             ]
            ],
            "type": "heatmap"
           }
          ],
          "heatmapgl": [
           {
            "colorbar": {
             "outlinewidth": 0,
             "ticks": ""
            },
            "colorscale": [
             [
              0,
              "#0d0887"
             ],
             [
              0.1111111111111111,
              "#46039f"
             ],
             [
              0.2222222222222222,
              "#7201a8"
             ],
             [
              0.3333333333333333,
              "#9c179e"
             ],
             [
              0.4444444444444444,
              "#bd3786"
             ],
             [
              0.5555555555555556,
              "#d8576b"
             ],
             [
              0.6666666666666666,
              "#ed7953"
             ],
             [
              0.7777777777777778,
              "#fb9f3a"
             ],
             [
              0.8888888888888888,
              "#fdca26"
             ],
             [
              1,
              "#f0f921"
             ]
            ],
            "type": "heatmapgl"
           }
          ],
          "histogram": [
           {
            "marker": {
             "pattern": {
              "fillmode": "overlay",
              "size": 10,
              "solidity": 0.2
             }
            },
            "type": "histogram"
           }
          ],
          "histogram2d": [
           {
            "colorbar": {
             "outlinewidth": 0,
             "ticks": ""
            },
            "colorscale": [
             [
              0,
              "#0d0887"
             ],
             [
              0.1111111111111111,
              "#46039f"
             ],
             [
              0.2222222222222222,
              "#7201a8"
             ],
             [
              0.3333333333333333,
              "#9c179e"
             ],
             [
              0.4444444444444444,
              "#bd3786"
             ],
             [
              0.5555555555555556,
              "#d8576b"
             ],
             [
              0.6666666666666666,
              "#ed7953"
             ],
             [
              0.7777777777777778,
              "#fb9f3a"
             ],
             [
              0.8888888888888888,
              "#fdca26"
             ],
             [
              1,
              "#f0f921"
             ]
            ],
            "type": "histogram2d"
           }
          ],
          "histogram2dcontour": [
           {
            "colorbar": {
             "outlinewidth": 0,
             "ticks": ""
            },
            "colorscale": [
             [
              0,
              "#0d0887"
             ],
             [
              0.1111111111111111,
              "#46039f"
             ],
             [
              0.2222222222222222,
              "#7201a8"
             ],
             [
              0.3333333333333333,
              "#9c179e"
             ],
             [
              0.4444444444444444,
              "#bd3786"
             ],
             [
              0.5555555555555556,
              "#d8576b"
             ],
             [
              0.6666666666666666,
              "#ed7953"
             ],
             [
              0.7777777777777778,
              "#fb9f3a"
             ],
             [
              0.8888888888888888,
              "#fdca26"
             ],
             [
              1,
              "#f0f921"
             ]
            ],
            "type": "histogram2dcontour"
           }
          ],
          "mesh3d": [
           {
            "colorbar": {
             "outlinewidth": 0,
             "ticks": ""
            },
            "type": "mesh3d"
           }
          ],
          "parcoords": [
           {
            "line": {
             "colorbar": {
              "outlinewidth": 0,
              "ticks": ""
             }
            },
            "type": "parcoords"
           }
          ],
          "pie": [
           {
            "automargin": true,
            "type": "pie"
           }
          ],
          "scatter": [
           {
            "fillpattern": {
             "fillmode": "overlay",
             "size": 10,
             "solidity": 0.2
            },
            "type": "scatter"
           }
          ],
          "scatter3d": [
           {
            "line": {
             "colorbar": {
              "outlinewidth": 0,
              "ticks": ""
             }
            },
            "marker": {
             "colorbar": {
              "outlinewidth": 0,
              "ticks": ""
             }
            },
            "type": "scatter3d"
           }
          ],
          "scattercarpet": [
           {
            "marker": {
             "colorbar": {
              "outlinewidth": 0,
              "ticks": ""
             }
            },
            "type": "scattercarpet"
           }
          ],
          "scattergeo": [
           {
            "marker": {
             "colorbar": {
              "outlinewidth": 0,
              "ticks": ""
             }
            },
            "type": "scattergeo"
           }
          ],
          "scattergl": [
           {
            "marker": {
             "colorbar": {
              "outlinewidth": 0,
              "ticks": ""
             }
            },
            "type": "scattergl"
           }
          ],
          "scattermapbox": [
           {
            "marker": {
             "colorbar": {
              "outlinewidth": 0,
              "ticks": ""
             }
            },
            "type": "scattermapbox"
           }
          ],
          "scatterpolar": [
           {
            "marker": {
             "colorbar": {
              "outlinewidth": 0,
              "ticks": ""
             }
            },
            "type": "scatterpolar"
           }
          ],
          "scatterpolargl": [
           {
            "marker": {
             "colorbar": {
              "outlinewidth": 0,
              "ticks": ""
             }
            },
            "type": "scatterpolargl"
           }
          ],
          "scatterternary": [
           {
            "marker": {
             "colorbar": {
              "outlinewidth": 0,
              "ticks": ""
             }
            },
            "type": "scatterternary"
           }
          ],
          "surface": [
           {
            "colorbar": {
             "outlinewidth": 0,
             "ticks": ""
            },
            "colorscale": [
             [
              0,
              "#0d0887"
             ],
             [
              0.1111111111111111,
              "#46039f"
             ],
             [
              0.2222222222222222,
              "#7201a8"
             ],
             [
              0.3333333333333333,
              "#9c179e"
             ],
             [
              0.4444444444444444,
              "#bd3786"
             ],
             [
              0.5555555555555556,
              "#d8576b"
             ],
             [
              0.6666666666666666,
              "#ed7953"
             ],
             [
              0.7777777777777778,
              "#fb9f3a"
             ],
             [
              0.8888888888888888,
              "#fdca26"
             ],
             [
              1,
              "#f0f921"
             ]
            ],
            "type": "surface"
           }
          ],
          "table": [
           {
            "cells": {
             "fill": {
              "color": "#EBF0F8"
             },
             "line": {
              "color": "white"
             }
            },
            "header": {
             "fill": {
              "color": "#C8D4E3"
             },
             "line": {
              "color": "white"
             }
            },
            "type": "table"
           }
          ]
         },
         "layout": {
          "annotationdefaults": {
           "arrowcolor": "#2a3f5f",
           "arrowhead": 0,
           "arrowwidth": 1
          },
          "autotypenumbers": "strict",
          "coloraxis": {
           "colorbar": {
            "outlinewidth": 0,
            "ticks": ""
           }
          },
          "colorscale": {
           "diverging": [
            [
             0,
             "#8e0152"
            ],
            [
             0.1,
             "#c51b7d"
            ],
            [
             0.2,
             "#de77ae"
            ],
            [
             0.3,
             "#f1b6da"
            ],
            [
             0.4,
             "#fde0ef"
            ],
            [
             0.5,
             "#f7f7f7"
            ],
            [
             0.6,
             "#e6f5d0"
            ],
            [
             0.7,
             "#b8e186"
            ],
            [
             0.8,
             "#7fbc41"
            ],
            [
             0.9,
             "#4d9221"
            ],
            [
             1,
             "#276419"
            ]
           ],
           "sequential": [
            [
             0,
             "#0d0887"
            ],
            [
             0.1111111111111111,
             "#46039f"
            ],
            [
             0.2222222222222222,
             "#7201a8"
            ],
            [
             0.3333333333333333,
             "#9c179e"
            ],
            [
             0.4444444444444444,
             "#bd3786"
            ],
            [
             0.5555555555555556,
             "#d8576b"
            ],
            [
             0.6666666666666666,
             "#ed7953"
            ],
            [
             0.7777777777777778,
             "#fb9f3a"
            ],
            [
             0.8888888888888888,
             "#fdca26"
            ],
            [
             1,
             "#f0f921"
            ]
           ],
           "sequentialminus": [
            [
             0,
             "#0d0887"
            ],
            [
             0.1111111111111111,
             "#46039f"
            ],
            [
             0.2222222222222222,
             "#7201a8"
            ],
            [
             0.3333333333333333,
             "#9c179e"
            ],
            [
             0.4444444444444444,
             "#bd3786"
            ],
            [
             0.5555555555555556,
             "#d8576b"
            ],
            [
             0.6666666666666666,
             "#ed7953"
            ],
            [
             0.7777777777777778,
             "#fb9f3a"
            ],
            [
             0.8888888888888888,
             "#fdca26"
            ],
            [
             1,
             "#f0f921"
            ]
           ]
          },
          "colorway": [
           "#636efa",
           "#EF553B",
           "#00cc96",
           "#ab63fa",
           "#FFA15A",
           "#19d3f3",
           "#FF6692",
           "#B6E880",
           "#FF97FF",
           "#FECB52"
          ],
          "font": {
           "color": "#2a3f5f"
          },
          "geo": {
           "bgcolor": "white",
           "lakecolor": "white",
           "landcolor": "#E5ECF6",
           "showlakes": true,
           "showland": true,
           "subunitcolor": "white"
          },
          "hoverlabel": {
           "align": "left"
          },
          "hovermode": "closest",
          "mapbox": {
           "style": "light"
          },
          "paper_bgcolor": "white",
          "plot_bgcolor": "#E5ECF6",
          "polar": {
           "angularaxis": {
            "gridcolor": "white",
            "linecolor": "white",
            "ticks": ""
           },
           "bgcolor": "#E5ECF6",
           "radialaxis": {
            "gridcolor": "white",
            "linecolor": "white",
            "ticks": ""
           }
          },
          "scene": {
           "xaxis": {
            "backgroundcolor": "#E5ECF6",
            "gridcolor": "white",
            "gridwidth": 2,
            "linecolor": "white",
            "showbackground": true,
            "ticks": "",
            "zerolinecolor": "white"
           },
           "yaxis": {
            "backgroundcolor": "#E5ECF6",
            "gridcolor": "white",
            "gridwidth": 2,
            "linecolor": "white",
            "showbackground": true,
            "ticks": "",
            "zerolinecolor": "white"
           },
           "zaxis": {
            "backgroundcolor": "#E5ECF6",
            "gridcolor": "white",
            "gridwidth": 2,
            "linecolor": "white",
            "showbackground": true,
            "ticks": "",
            "zerolinecolor": "white"
           }
          },
          "shapedefaults": {
           "line": {
            "color": "#2a3f5f"
           }
          },
          "ternary": {
           "aaxis": {
            "gridcolor": "white",
            "linecolor": "white",
            "ticks": ""
           },
           "baxis": {
            "gridcolor": "white",
            "linecolor": "white",
            "ticks": ""
           },
           "bgcolor": "#E5ECF6",
           "caxis": {
            "gridcolor": "white",
            "linecolor": "white",
            "ticks": ""
           }
          },
          "title": {
           "x": 0.05
          },
          "xaxis": {
           "automargin": true,
           "gridcolor": "white",
           "linecolor": "white",
           "ticks": "",
           "title": {
            "standoff": 15
           },
           "zerolinecolor": "white",
           "zerolinewidth": 2
          },
          "yaxis": {
           "automargin": true,
           "gridcolor": "white",
           "linecolor": "white",
           "ticks": "",
           "title": {
            "standoff": 15
           },
           "zerolinecolor": "white",
           "zerolinewidth": 2
          }
         }
        },
        "title": {
         "text": ""
        },
        "xaxis": {
         "anchor": "y",
         "domain": [
          0,
          1
         ],
         "title": {
          "text": ""
         }
        },
        "yaxis": {
         "anchor": "x",
         "domain": [
          0,
          1
         ],
         "title": {
          "text": ""
         }
        }
       }
      }
     },
     "metadata": {},
     "output_type": "display_data"
    },
    {
     "data": {
      "application/vnd.plotly.v1+json": {
       "config": {
        "plotlyServerURL": "https://plot.ly"
       },
       "data": [
        {
         "hovertemplate": "device=humedad suelo<br>fecha=%{x}<br>humidity=%{y}<extra></extra>",
         "legendgroup": "humedad suelo",
         "line": {
          "color": "#636efa",
          "dash": "solid"
         },
         "marker": {
          "symbol": "circle"
         },
         "mode": "lines",
         "name": "humedad suelo",
         "orientation": "v",
         "showlegend": true,
         "type": "scatter",
         "x": [
          "2024-12-13T16:41:30+01:00",
          "2024-12-13T18:21:14+01:00",
          "2024-12-13T18:25:20+01:00",
          "2024-12-13T18:25:58+01:00",
          "2024-12-13T18:26:08+01:00",
          "2024-12-13T18:28:55+01:00",
          "2024-12-13T18:29:12+01:00",
          "2024-12-13T18:29:45+01:00",
          "2024-12-13T18:30:08+01:00",
          "2024-12-13T22:58:09+01:00",
          "2024-12-13T23:00:07+01:00",
          "2024-12-13T23:02:50+01:00",
          "2024-12-13T23:05:30+01:00",
          "2024-12-13T23:06:29+01:00",
          "2024-12-13T23:23:44+01:00",
          "2024-12-13T23:24:09+01:00",
          "2024-12-13T23:26:21+01:00",
          "2024-12-13T23:27:24+01:00",
          "2024-12-13T23:28:25+01:00",
          "2024-12-13T23:29:26+01:00",
          "2024-12-13T23:30:16+01:00",
          "2024-12-13T23:31:17+01:00",
          "2024-12-13T23:32:15+01:00",
          "2024-12-13T23:32:27+01:00",
          "2024-12-13T23:35:23+01:00",
          "2024-12-13T23:36:24+01:00",
          "2024-12-13T23:37:25+01:00",
          "2024-12-13T23:38:26+01:00"
         ],
         "xaxis": "x",
         "y": [
          32.89,
          32.79,
          32.84,
          32.79,
          32.84,
          32.79,
          32.79,
          32.84,
          32.84,
          32.39,
          32.39,
          32.39,
          32.39,
          32.39,
          32.39,
          32.39,
          32.39,
          32.39,
          32.39,
          32.39,
          32.39,
          32.39,
          32.39,
          32.39,
          32.39,
          32.39,
          32.39,
          32.39
         ],
         "yaxis": "y"
        },
        {
         "hovertemplate": "device=suelo<br>fecha=%{x}<br>humidity=%{y}<extra></extra>",
         "legendgroup": "suelo",
         "line": {
          "color": "#EF553B",
          "dash": "solid"
         },
         "marker": {
          "symbol": "circle"
         },
         "mode": "lines",
         "name": "suelo",
         "orientation": "v",
         "showlegend": true,
         "type": "scatter",
         "x": [
          "2024-12-13T16:41:31+01:00",
          "2024-12-13T18:21:15+01:00",
          "2024-12-13T18:25:20+01:00",
          "2024-12-13T18:25:58+01:00",
          "2024-12-13T18:26:08+01:00",
          "2024-12-13T18:28:55+01:00",
          "2024-12-13T18:29:12+01:00",
          "2024-12-13T18:29:46+01:00",
          "2024-12-13T18:30:08+01:00",
          "2024-12-13T22:58:09+01:00",
          "2024-12-13T23:00:08+01:00",
          "2024-12-13T23:02:50+01:00",
          "2024-12-13T23:05:30+01:00",
          "2024-12-13T23:06:29+01:00",
          "2024-12-13T23:23:44+01:00",
          "2024-12-13T23:24:10+01:00",
          "2024-12-13T23:26:22+01:00",
          "2024-12-13T23:27:24+01:00",
          "2024-12-13T23:28:25+01:00",
          "2024-12-13T23:29:26+01:00",
          "2024-12-13T23:30:16+01:00",
          "2024-12-13T23:31:17+01:00",
          "2024-12-13T23:32:15+01:00",
          "2024-12-13T23:32:27+01:00",
          "2024-12-13T23:35:24+01:00",
          "2024-12-13T23:36:24+01:00",
          "2024-12-13T23:37:25+01:00",
          "2024-12-13T23:38:26+01:00"
         ],
         "xaxis": "x",
         "y": [
          44.5,
          44.3,
          44.2,
          44.3,
          44,
          44.2,
          44.2,
          44.3,
          44,
          43.7,
          43.4,
          43.7,
          43.7,
          43.6,
          43,
          43.6,
          43,
          43.3,
          43.6,
          43,
          43.7,
          43.4,
          43.4,
          43.4,
          43,
          43,
          43.6,
          43.5
         ],
         "yaxis": "y"
        },
        {
         "hovertemplate": "device=temp_exterior<br>fecha=%{x}<br>humidity=%{y}<extra></extra>",
         "legendgroup": "temp_exterior",
         "line": {
          "color": "#00cc96",
          "dash": "solid"
         },
         "marker": {
          "symbol": "circle"
         },
         "mode": "lines",
         "name": "temp_exterior",
         "orientation": "v",
         "showlegend": true,
         "type": "scatter",
         "x": [
          "2024-12-13T16:41:31+01:00",
          "2024-12-13T18:21:15+01:00",
          "2024-12-13T18:25:21+01:00",
          "2024-12-13T18:25:58+01:00",
          "2024-12-13T18:26:08+01:00",
          "2024-12-13T18:28:55+01:00",
          "2024-12-13T18:29:12+01:00",
          "2024-12-13T18:29:46+01:00",
          "2024-12-13T18:30:08+01:00",
          "2024-12-13T22:58:09+01:00",
          "2024-12-13T23:00:08+01:00",
          "2024-12-13T23:02:50+01:00",
          "2024-12-13T23:05:30+01:00",
          "2024-12-13T23:06:29+01:00",
          "2024-12-13T23:23:45+01:00",
          "2024-12-13T23:24:10+01:00",
          "2024-12-13T23:26:22+01:00",
          "2024-12-13T23:27:24+01:00",
          "2024-12-13T23:28:25+01:00",
          "2024-12-13T23:29:26+01:00",
          "2024-12-13T23:30:16+01:00",
          "2024-12-13T23:31:17+01:00",
          "2024-12-13T23:32:15+01:00",
          "2024-12-13T23:32:27+01:00",
          "2024-12-13T23:35:24+01:00",
          "2024-12-13T23:36:24+01:00",
          "2024-12-13T23:37:25+01:00",
          "2024-12-13T23:38:26+01:00"
         ],
         "xaxis": "x",
         "y": [
          52.9,
          52.7,
          52.7,
          52.7,
          52.7,
          52.7,
          52.7,
          52.7,
          52.7,
          52,
          51.9,
          51.8,
          51.9,
          52,
          52,
          52,
          52,
          52,
          51.9,
          51.9,
          51.9,
          51.9,
          51.8,
          51.8,
          51.9,
          51.8,
          51.8,
          51.8
         ],
         "yaxis": "y"
        },
        {
         "hovertemplate": "device=temp_interior<br>fecha=%{x}<br>humidity=%{y}<extra></extra>",
         "legendgroup": "temp_interior",
         "line": {
          "color": "#ab63fa",
          "dash": "solid"
         },
         "marker": {
          "symbol": "circle"
         },
         "mode": "lines",
         "name": "temp_interior",
         "orientation": "v",
         "showlegend": true,
         "type": "scatter",
         "x": [
          "2024-12-13T16:41:31+01:00",
          "2024-12-13T18:21:15+01:00",
          "2024-12-13T18:25:20+01:00",
          "2024-12-13T18:25:58+01:00",
          "2024-12-13T18:26:08+01:00",
          "2024-12-13T18:28:55+01:00",
          "2024-12-13T18:29:12+01:00",
          "2024-12-13T18:29:46+01:00",
          "2024-12-13T18:30:08+01:00",
          "2024-12-13T22:58:09+01:00",
          "2024-12-13T23:00:08+01:00",
          "2024-12-13T23:02:50+01:00",
          "2024-12-13T23:05:30+01:00",
          "2024-12-13T23:06:29+01:00",
          "2024-12-13T23:23:44+01:00",
          "2024-12-13T23:24:10+01:00",
          "2024-12-13T23:26:22+01:00",
          "2024-12-13T23:27:24+01:00",
          "2024-12-13T23:28:25+01:00",
          "2024-12-13T23:29:26+01:00",
          "2024-12-13T23:30:16+01:00",
          "2024-12-13T23:31:17+01:00",
          "2024-12-13T23:32:15+01:00",
          "2024-12-13T23:32:27+01:00",
          "2024-12-13T23:35:24+01:00",
          "2024-12-13T23:36:24+01:00",
          "2024-12-13T23:37:25+01:00",
          "2024-12-13T23:38:26+01:00"
         ],
         "xaxis": "x",
         "y": [
          68.7,
          73.7,
          74.2,
          74.1,
          73.9,
          74.9,
          74.8,
          74.8,
          75,
          78.9,
          79,
          78.8,
          78.9,
          79.1,
          79.1,
          79.4,
          79,
          78.9,
          79.2,
          79.5,
          79.1,
          79.3,
          79.1,
          79,
          79.2,
          79.1,
          79,
          79.4
         ],
         "yaxis": "y"
        }
       ],
       "layout": {
        "height": 500,
        "legend": {
         "title": {
          "text": ""
         },
         "tracegroupgap": 0,
         "x": 0.01,
         "xanchor": "left",
         "y": 0.99,
         "yanchor": "top"
        },
        "margin": {
         "b": 0,
         "l": 0,
         "r": 0,
         "t": 20
        },
        "template": {
         "data": {
          "bar": [
           {
            "error_x": {
             "color": "#2a3f5f"
            },
            "error_y": {
             "color": "#2a3f5f"
            },
            "marker": {
             "line": {
              "color": "#E5ECF6",
              "width": 0.5
             },
             "pattern": {
              "fillmode": "overlay",
              "size": 10,
              "solidity": 0.2
             }
            },
            "type": "bar"
           }
          ],
          "barpolar": [
           {
            "marker": {
             "line": {
              "color": "#E5ECF6",
              "width": 0.5
             },
             "pattern": {
              "fillmode": "overlay",
              "size": 10,
              "solidity": 0.2
             }
            },
            "type": "barpolar"
           }
          ],
          "carpet": [
           {
            "aaxis": {
             "endlinecolor": "#2a3f5f",
             "gridcolor": "white",
             "linecolor": "white",
             "minorgridcolor": "white",
             "startlinecolor": "#2a3f5f"
            },
            "baxis": {
             "endlinecolor": "#2a3f5f",
             "gridcolor": "white",
             "linecolor": "white",
             "minorgridcolor": "white",
             "startlinecolor": "#2a3f5f"
            },
            "type": "carpet"
           }
          ],
          "choropleth": [
           {
            "colorbar": {
             "outlinewidth": 0,
             "ticks": ""
            },
            "type": "choropleth"
           }
          ],
          "contour": [
           {
            "colorbar": {
             "outlinewidth": 0,
             "ticks": ""
            },
            "colorscale": [
             [
              0,
              "#0d0887"
             ],
             [
              0.1111111111111111,
              "#46039f"
             ],
             [
              0.2222222222222222,
              "#7201a8"
             ],
             [
              0.3333333333333333,
              "#9c179e"
             ],
             [
              0.4444444444444444,
              "#bd3786"
             ],
             [
              0.5555555555555556,
              "#d8576b"
             ],
             [
              0.6666666666666666,
              "#ed7953"
             ],
             [
              0.7777777777777778,
              "#fb9f3a"
             ],
             [
              0.8888888888888888,
              "#fdca26"
             ],
             [
              1,
              "#f0f921"
             ]
            ],
            "type": "contour"
           }
          ],
          "contourcarpet": [
           {
            "colorbar": {
             "outlinewidth": 0,
             "ticks": ""
            },
            "type": "contourcarpet"
           }
          ],
          "heatmap": [
           {
            "colorbar": {
             "outlinewidth": 0,
             "ticks": ""
            },
            "colorscale": [
             [
              0,
              "#0d0887"
             ],
             [
              0.1111111111111111,
              "#46039f"
             ],
             [
              0.2222222222222222,
              "#7201a8"
             ],
             [
              0.3333333333333333,
              "#9c179e"
             ],
             [
              0.4444444444444444,
              "#bd3786"
             ],
             [
              0.5555555555555556,
              "#d8576b"
             ],
             [
              0.6666666666666666,
              "#ed7953"
             ],
             [
              0.7777777777777778,
              "#fb9f3a"
             ],
             [
              0.8888888888888888,
              "#fdca26"
             ],
             [
              1,
              "#f0f921"
             ]
            ],
            "type": "heatmap"
           }
          ],
          "heatmapgl": [
           {
            "colorbar": {
             "outlinewidth": 0,
             "ticks": ""
            },
            "colorscale": [
             [
              0,
              "#0d0887"
             ],
             [
              0.1111111111111111,
              "#46039f"
             ],
             [
              0.2222222222222222,
              "#7201a8"
             ],
             [
              0.3333333333333333,
              "#9c179e"
             ],
             [
              0.4444444444444444,
              "#bd3786"
             ],
             [
              0.5555555555555556,
              "#d8576b"
             ],
             [
              0.6666666666666666,
              "#ed7953"
             ],
             [
              0.7777777777777778,
              "#fb9f3a"
             ],
             [
              0.8888888888888888,
              "#fdca26"
             ],
             [
              1,
              "#f0f921"
             ]
            ],
            "type": "heatmapgl"
           }
          ],
          "histogram": [
           {
            "marker": {
             "pattern": {
              "fillmode": "overlay",
              "size": 10,
              "solidity": 0.2
             }
            },
            "type": "histogram"
           }
          ],
          "histogram2d": [
           {
            "colorbar": {
             "outlinewidth": 0,
             "ticks": ""
            },
            "colorscale": [
             [
              0,
              "#0d0887"
             ],
             [
              0.1111111111111111,
              "#46039f"
             ],
             [
              0.2222222222222222,
              "#7201a8"
             ],
             [
              0.3333333333333333,
              "#9c179e"
             ],
             [
              0.4444444444444444,
              "#bd3786"
             ],
             [
              0.5555555555555556,
              "#d8576b"
             ],
             [
              0.6666666666666666,
              "#ed7953"
             ],
             [
              0.7777777777777778,
              "#fb9f3a"
             ],
             [
              0.8888888888888888,
              "#fdca26"
             ],
             [
              1,
              "#f0f921"
             ]
            ],
            "type": "histogram2d"
           }
          ],
          "histogram2dcontour": [
           {
            "colorbar": {
             "outlinewidth": 0,
             "ticks": ""
            },
            "colorscale": [
             [
              0,
              "#0d0887"
             ],
             [
              0.1111111111111111,
              "#46039f"
             ],
             [
              0.2222222222222222,
              "#7201a8"
             ],
             [
              0.3333333333333333,
              "#9c179e"
             ],
             [
              0.4444444444444444,
              "#bd3786"
             ],
             [
              0.5555555555555556,
              "#d8576b"
             ],
             [
              0.6666666666666666,
              "#ed7953"
             ],
             [
              0.7777777777777778,
              "#fb9f3a"
             ],
             [
              0.8888888888888888,
              "#fdca26"
             ],
             [
              1,
              "#f0f921"
             ]
            ],
            "type": "histogram2dcontour"
           }
          ],
          "mesh3d": [
           {
            "colorbar": {
             "outlinewidth": 0,
             "ticks": ""
            },
            "type": "mesh3d"
           }
          ],
          "parcoords": [
           {
            "line": {
             "colorbar": {
              "outlinewidth": 0,
              "ticks": ""
             }
            },
            "type": "parcoords"
           }
          ],
          "pie": [
           {
            "automargin": true,
            "type": "pie"
           }
          ],
          "scatter": [
           {
            "fillpattern": {
             "fillmode": "overlay",
             "size": 10,
             "solidity": 0.2
            },
            "type": "scatter"
           }
          ],
          "scatter3d": [
           {
            "line": {
             "colorbar": {
              "outlinewidth": 0,
              "ticks": ""
             }
            },
            "marker": {
             "colorbar": {
              "outlinewidth": 0,
              "ticks": ""
             }
            },
            "type": "scatter3d"
           }
          ],
          "scattercarpet": [
           {
            "marker": {
             "colorbar": {
              "outlinewidth": 0,
              "ticks": ""
             }
            },
            "type": "scattercarpet"
           }
          ],
          "scattergeo": [
           {
            "marker": {
             "colorbar": {
              "outlinewidth": 0,
              "ticks": ""
             }
            },
            "type": "scattergeo"
           }
          ],
          "scattergl": [
           {
            "marker": {
             "colorbar": {
              "outlinewidth": 0,
              "ticks": ""
             }
            },
            "type": "scattergl"
           }
          ],
          "scattermapbox": [
           {
            "marker": {
             "colorbar": {
              "outlinewidth": 0,
              "ticks": ""
             }
            },
            "type": "scattermapbox"
           }
          ],
          "scatterpolar": [
           {
            "marker": {
             "colorbar": {
              "outlinewidth": 0,
              "ticks": ""
             }
            },
            "type": "scatterpolar"
           }
          ],
          "scatterpolargl": [
           {
            "marker": {
             "colorbar": {
              "outlinewidth": 0,
              "ticks": ""
             }
            },
            "type": "scatterpolargl"
           }
          ],
          "scatterternary": [
           {
            "marker": {
             "colorbar": {
              "outlinewidth": 0,
              "ticks": ""
             }
            },
            "type": "scatterternary"
           }
          ],
          "surface": [
           {
            "colorbar": {
             "outlinewidth": 0,
             "ticks": ""
            },
            "colorscale": [
             [
              0,
              "#0d0887"
             ],
             [
              0.1111111111111111,
              "#46039f"
             ],
             [
              0.2222222222222222,
              "#7201a8"
             ],
             [
              0.3333333333333333,
              "#9c179e"
             ],
             [
              0.4444444444444444,
              "#bd3786"
             ],
             [
              0.5555555555555556,
              "#d8576b"
             ],
             [
              0.6666666666666666,
              "#ed7953"
             ],
             [
              0.7777777777777778,
              "#fb9f3a"
             ],
             [
              0.8888888888888888,
              "#fdca26"
             ],
             [
              1,
              "#f0f921"
             ]
            ],
            "type": "surface"
           }
          ],
          "table": [
           {
            "cells": {
             "fill": {
              "color": "#EBF0F8"
             },
             "line": {
              "color": "white"
             }
            },
            "header": {
             "fill": {
              "color": "#C8D4E3"
             },
             "line": {
              "color": "white"
             }
            },
            "type": "table"
           }
          ]
         },
         "layout": {
          "annotationdefaults": {
           "arrowcolor": "#2a3f5f",
           "arrowhead": 0,
           "arrowwidth": 1
          },
          "autotypenumbers": "strict",
          "coloraxis": {
           "colorbar": {
            "outlinewidth": 0,
            "ticks": ""
           }
          },
          "colorscale": {
           "diverging": [
            [
             0,
             "#8e0152"
            ],
            [
             0.1,
             "#c51b7d"
            ],
            [
             0.2,
             "#de77ae"
            ],
            [
             0.3,
             "#f1b6da"
            ],
            [
             0.4,
             "#fde0ef"
            ],
            [
             0.5,
             "#f7f7f7"
            ],
            [
             0.6,
             "#e6f5d0"
            ],
            [
             0.7,
             "#b8e186"
            ],
            [
             0.8,
             "#7fbc41"
            ],
            [
             0.9,
             "#4d9221"
            ],
            [
             1,
             "#276419"
            ]
           ],
           "sequential": [
            [
             0,
             "#0d0887"
            ],
            [
             0.1111111111111111,
             "#46039f"
            ],
            [
             0.2222222222222222,
             "#7201a8"
            ],
            [
             0.3333333333333333,
             "#9c179e"
            ],
            [
             0.4444444444444444,
             "#bd3786"
            ],
            [
             0.5555555555555556,
             "#d8576b"
            ],
            [
             0.6666666666666666,
             "#ed7953"
            ],
            [
             0.7777777777777778,
             "#fb9f3a"
            ],
            [
             0.8888888888888888,
             "#fdca26"
            ],
            [
             1,
             "#f0f921"
            ]
           ],
           "sequentialminus": [
            [
             0,
             "#0d0887"
            ],
            [
             0.1111111111111111,
             "#46039f"
            ],
            [
             0.2222222222222222,
             "#7201a8"
            ],
            [
             0.3333333333333333,
             "#9c179e"
            ],
            [
             0.4444444444444444,
             "#bd3786"
            ],
            [
             0.5555555555555556,
             "#d8576b"
            ],
            [
             0.6666666666666666,
             "#ed7953"
            ],
            [
             0.7777777777777778,
             "#fb9f3a"
            ],
            [
             0.8888888888888888,
             "#fdca26"
            ],
            [
             1,
             "#f0f921"
            ]
           ]
          },
          "colorway": [
           "#636efa",
           "#EF553B",
           "#00cc96",
           "#ab63fa",
           "#FFA15A",
           "#19d3f3",
           "#FF6692",
           "#B6E880",
           "#FF97FF",
           "#FECB52"
          ],
          "font": {
           "color": "#2a3f5f"
          },
          "geo": {
           "bgcolor": "white",
           "lakecolor": "white",
           "landcolor": "#E5ECF6",
           "showlakes": true,
           "showland": true,
           "subunitcolor": "white"
          },
          "hoverlabel": {
           "align": "left"
          },
          "hovermode": "closest",
          "mapbox": {
           "style": "light"
          },
          "paper_bgcolor": "white",
          "plot_bgcolor": "#E5ECF6",
          "polar": {
           "angularaxis": {
            "gridcolor": "white",
            "linecolor": "white",
            "ticks": ""
           },
           "bgcolor": "#E5ECF6",
           "radialaxis": {
            "gridcolor": "white",
            "linecolor": "white",
            "ticks": ""
           }
          },
          "scene": {
           "xaxis": {
            "backgroundcolor": "#E5ECF6",
            "gridcolor": "white",
            "gridwidth": 2,
            "linecolor": "white",
            "showbackground": true,
            "ticks": "",
            "zerolinecolor": "white"
           },
           "yaxis": {
            "backgroundcolor": "#E5ECF6",
            "gridcolor": "white",
            "gridwidth": 2,
            "linecolor": "white",
            "showbackground": true,
            "ticks": "",
            "zerolinecolor": "white"
           },
           "zaxis": {
            "backgroundcolor": "#E5ECF6",
            "gridcolor": "white",
            "gridwidth": 2,
            "linecolor": "white",
            "showbackground": true,
            "ticks": "",
            "zerolinecolor": "white"
           }
          },
          "shapedefaults": {
           "line": {
            "color": "#2a3f5f"
           }
          },
          "ternary": {
           "aaxis": {
            "gridcolor": "white",
            "linecolor": "white",
            "ticks": ""
           },
           "baxis": {
            "gridcolor": "white",
            "linecolor": "white",
            "ticks": ""
           },
           "bgcolor": "#E5ECF6",
           "caxis": {
            "gridcolor": "white",
            "linecolor": "white",
            "ticks": ""
           }
          },
          "title": {
           "x": 0.05
          },
          "xaxis": {
           "automargin": true,
           "gridcolor": "white",
           "linecolor": "white",
           "ticks": "",
           "title": {
            "standoff": 15
           },
           "zerolinecolor": "white",
           "zerolinewidth": 2
          },
          "yaxis": {
           "automargin": true,
           "gridcolor": "white",
           "linecolor": "white",
           "ticks": "",
           "title": {
            "standoff": 15
           },
           "zerolinecolor": "white",
           "zerolinewidth": 2
          }
         }
        },
        "title": {
         "text": ""
        },
        "xaxis": {
         "anchor": "y",
         "domain": [
          0,
          1
         ],
         "title": {
          "text": ""
         }
        },
        "yaxis": {
         "anchor": "x",
         "domain": [
          0,
          1
         ],
         "title": {
          "text": ""
         }
        }
       }
      }
     },
     "metadata": {},
     "output_type": "display_data"
    },
    {
     "data": {
      "application/vnd.plotly.v1+json": {
       "config": {
        "plotlyServerURL": "https://plot.ly"
       },
       "data": [
        {
         "hovertemplate": "device=presion caldera<br>fecha=%{x}<br>presion=%{y}<extra></extra>",
         "legendgroup": "presion caldera",
         "line": {
          "color": "#636efa",
          "dash": "solid"
         },
         "marker": {
          "symbol": "circle"
         },
         "mode": "lines",
         "name": "presion caldera",
         "orientation": "v",
         "showlegend": true,
         "type": "scatter",
         "x": [
          "2024-12-13T23:00:08+01:00",
          "2024-12-13T23:02:50+01:00",
          "2024-12-13T23:05:30+01:00",
          "2024-12-13T23:06:30+01:00",
          "2024-12-13T23:23:45+01:00",
          "2024-12-13T23:24:10+01:00",
          "2024-12-13T23:26:22+01:00",
          "2024-12-13T23:27:25+01:00",
          "2024-12-13T23:28:25+01:00",
          "2024-12-13T23:29:26+01:00",
          "2024-12-13T23:30:16+01:00",
          "2024-12-13T23:31:17+01:00",
          "2024-12-13T23:32:16+01:00",
          "2024-12-13T23:32:27+01:00",
          "2024-12-13T23:35:24+01:00",
          "2024-12-13T23:36:24+01:00",
          "2024-12-13T23:37:25+01:00",
          "2024-12-13T23:38:26+01:00"
         ],
         "xaxis": "x",
         "y": [
          1.51,
          1.5,
          1.49,
          1.47,
          1.37,
          1.37,
          1.34,
          1.34,
          1.33,
          1.32,
          1.31,
          1.3,
          1.3,
          1.29,
          1.27,
          1.27,
          1.26,
          1.25
         ],
         "yaxis": "y"
        }
       ],
       "layout": {
        "height": 500,
        "legend": {
         "title": {
          "text": ""
         },
         "tracegroupgap": 0,
         "x": 0.01,
         "xanchor": "left",
         "y": 0.99,
         "yanchor": "top"
        },
        "margin": {
         "b": 0,
         "l": 0,
         "r": 0,
         "t": 20
        },
        "template": {
         "data": {
          "bar": [
           {
            "error_x": {
             "color": "#2a3f5f"
            },
            "error_y": {
             "color": "#2a3f5f"
            },
            "marker": {
             "line": {
              "color": "#E5ECF6",
              "width": 0.5
             },
             "pattern": {
              "fillmode": "overlay",
              "size": 10,
              "solidity": 0.2
             }
            },
            "type": "bar"
           }
          ],
          "barpolar": [
           {
            "marker": {
             "line": {
              "color": "#E5ECF6",
              "width": 0.5
             },
             "pattern": {
              "fillmode": "overlay",
              "size": 10,
              "solidity": 0.2
             }
            },
            "type": "barpolar"
           }
          ],
          "carpet": [
           {
            "aaxis": {
             "endlinecolor": "#2a3f5f",
             "gridcolor": "white",
             "linecolor": "white",
             "minorgridcolor": "white",
             "startlinecolor": "#2a3f5f"
            },
            "baxis": {
             "endlinecolor": "#2a3f5f",
             "gridcolor": "white",
             "linecolor": "white",
             "minorgridcolor": "white",
             "startlinecolor": "#2a3f5f"
            },
            "type": "carpet"
           }
          ],
          "choropleth": [
           {
            "colorbar": {
             "outlinewidth": 0,
             "ticks": ""
            },
            "type": "choropleth"
           }
          ],
          "contour": [
           {
            "colorbar": {
             "outlinewidth": 0,
             "ticks": ""
            },
            "colorscale": [
             [
              0,
              "#0d0887"
             ],
             [
              0.1111111111111111,
              "#46039f"
             ],
             [
              0.2222222222222222,
              "#7201a8"
             ],
             [
              0.3333333333333333,
              "#9c179e"
             ],
             [
              0.4444444444444444,
              "#bd3786"
             ],
             [
              0.5555555555555556,
              "#d8576b"
             ],
             [
              0.6666666666666666,
              "#ed7953"
             ],
             [
              0.7777777777777778,
              "#fb9f3a"
             ],
             [
              0.8888888888888888,
              "#fdca26"
             ],
             [
              1,
              "#f0f921"
             ]
            ],
            "type": "contour"
           }
          ],
          "contourcarpet": [
           {
            "colorbar": {
             "outlinewidth": 0,
             "ticks": ""
            },
            "type": "contourcarpet"
           }
          ],
          "heatmap": [
           {
            "colorbar": {
             "outlinewidth": 0,
             "ticks": ""
            },
            "colorscale": [
             [
              0,
              "#0d0887"
             ],
             [
              0.1111111111111111,
              "#46039f"
             ],
             [
              0.2222222222222222,
              "#7201a8"
             ],
             [
              0.3333333333333333,
              "#9c179e"
             ],
             [
              0.4444444444444444,
              "#bd3786"
             ],
             [
              0.5555555555555556,
              "#d8576b"
             ],
             [
              0.6666666666666666,
              "#ed7953"
             ],
             [
              0.7777777777777778,
              "#fb9f3a"
             ],
             [
              0.8888888888888888,
              "#fdca26"
             ],
             [
              1,
              "#f0f921"
             ]
            ],
            "type": "heatmap"
           }
          ],
          "heatmapgl": [
           {
            "colorbar": {
             "outlinewidth": 0,
             "ticks": ""
            },
            "colorscale": [
             [
              0,
              "#0d0887"
             ],
             [
              0.1111111111111111,
              "#46039f"
             ],
             [
              0.2222222222222222,
              "#7201a8"
             ],
             [
              0.3333333333333333,
              "#9c179e"
             ],
             [
              0.4444444444444444,
              "#bd3786"
             ],
             [
              0.5555555555555556,
              "#d8576b"
             ],
             [
              0.6666666666666666,
              "#ed7953"
             ],
             [
              0.7777777777777778,
              "#fb9f3a"
             ],
             [
              0.8888888888888888,
              "#fdca26"
             ],
             [
              1,
              "#f0f921"
             ]
            ],
            "type": "heatmapgl"
           }
          ],
          "histogram": [
           {
            "marker": {
             "pattern": {
              "fillmode": "overlay",
              "size": 10,
              "solidity": 0.2
             }
            },
            "type": "histogram"
           }
          ],
          "histogram2d": [
           {
            "colorbar": {
             "outlinewidth": 0,
             "ticks": ""
            },
            "colorscale": [
             [
              0,
              "#0d0887"
             ],
             [
              0.1111111111111111,
              "#46039f"
             ],
             [
              0.2222222222222222,
              "#7201a8"
             ],
             [
              0.3333333333333333,
              "#9c179e"
             ],
             [
              0.4444444444444444,
              "#bd3786"
             ],
             [
              0.5555555555555556,
              "#d8576b"
             ],
             [
              0.6666666666666666,
              "#ed7953"
             ],
             [
              0.7777777777777778,
              "#fb9f3a"
             ],
             [
              0.8888888888888888,
              "#fdca26"
             ],
             [
              1,
              "#f0f921"
             ]
            ],
            "type": "histogram2d"
           }
          ],
          "histogram2dcontour": [
           {
            "colorbar": {
             "outlinewidth": 0,
             "ticks": ""
            },
            "colorscale": [
             [
              0,
              "#0d0887"
             ],
             [
              0.1111111111111111,
              "#46039f"
             ],
             [
              0.2222222222222222,
              "#7201a8"
             ],
             [
              0.3333333333333333,
              "#9c179e"
             ],
             [
              0.4444444444444444,
              "#bd3786"
             ],
             [
              0.5555555555555556,
              "#d8576b"
             ],
             [
              0.6666666666666666,
              "#ed7953"
             ],
             [
              0.7777777777777778,
              "#fb9f3a"
             ],
             [
              0.8888888888888888,
              "#fdca26"
             ],
             [
              1,
              "#f0f921"
             ]
            ],
            "type": "histogram2dcontour"
           }
          ],
          "mesh3d": [
           {
            "colorbar": {
             "outlinewidth": 0,
             "ticks": ""
            },
            "type": "mesh3d"
           }
          ],
          "parcoords": [
           {
            "line": {
             "colorbar": {
              "outlinewidth": 0,
              "ticks": ""
             }
            },
            "type": "parcoords"
           }
          ],
          "pie": [
           {
            "automargin": true,
            "type": "pie"
           }
          ],
          "scatter": [
           {
            "fillpattern": {
             "fillmode": "overlay",
             "size": 10,
             "solidity": 0.2
            },
            "type": "scatter"
           }
          ],
          "scatter3d": [
           {
            "line": {
             "colorbar": {
              "outlinewidth": 0,
              "ticks": ""
             }
            },
            "marker": {
             "colorbar": {
              "outlinewidth": 0,
              "ticks": ""
             }
            },
            "type": "scatter3d"
           }
          ],
          "scattercarpet": [
           {
            "marker": {
             "colorbar": {
              "outlinewidth": 0,
              "ticks": ""
             }
            },
            "type": "scattercarpet"
           }
          ],
          "scattergeo": [
           {
            "marker": {
             "colorbar": {
              "outlinewidth": 0,
              "ticks": ""
             }
            },
            "type": "scattergeo"
           }
          ],
          "scattergl": [
           {
            "marker": {
             "colorbar": {
              "outlinewidth": 0,
              "ticks": ""
             }
            },
            "type": "scattergl"
           }
          ],
          "scattermapbox": [
           {
            "marker": {
             "colorbar": {
              "outlinewidth": 0,
              "ticks": ""
             }
            },
            "type": "scattermapbox"
           }
          ],
          "scatterpolar": [
           {
            "marker": {
             "colorbar": {
              "outlinewidth": 0,
              "ticks": ""
             }
            },
            "type": "scatterpolar"
           }
          ],
          "scatterpolargl": [
           {
            "marker": {
             "colorbar": {
              "outlinewidth": 0,
              "ticks": ""
             }
            },
            "type": "scatterpolargl"
           }
          ],
          "scatterternary": [
           {
            "marker": {
             "colorbar": {
              "outlinewidth": 0,
              "ticks": ""
             }
            },
            "type": "scatterternary"
           }
          ],
          "surface": [
           {
            "colorbar": {
             "outlinewidth": 0,
             "ticks": ""
            },
            "colorscale": [
             [
              0,
              "#0d0887"
             ],
             [
              0.1111111111111111,
              "#46039f"
             ],
             [
              0.2222222222222222,
              "#7201a8"
             ],
             [
              0.3333333333333333,
              "#9c179e"
             ],
             [
              0.4444444444444444,
              "#bd3786"
             ],
             [
              0.5555555555555556,
              "#d8576b"
             ],
             [
              0.6666666666666666,
              "#ed7953"
             ],
             [
              0.7777777777777778,
              "#fb9f3a"
             ],
             [
              0.8888888888888888,
              "#fdca26"
             ],
             [
              1,
              "#f0f921"
             ]
            ],
            "type": "surface"
           }
          ],
          "table": [
           {
            "cells": {
             "fill": {
              "color": "#EBF0F8"
             },
             "line": {
              "color": "white"
             }
            },
            "header": {
             "fill": {
              "color": "#C8D4E3"
             },
             "line": {
              "color": "white"
             }
            },
            "type": "table"
           }
          ]
         },
         "layout": {
          "annotationdefaults": {
           "arrowcolor": "#2a3f5f",
           "arrowhead": 0,
           "arrowwidth": 1
          },
          "autotypenumbers": "strict",
          "coloraxis": {
           "colorbar": {
            "outlinewidth": 0,
            "ticks": ""
           }
          },
          "colorscale": {
           "diverging": [
            [
             0,
             "#8e0152"
            ],
            [
             0.1,
             "#c51b7d"
            ],
            [
             0.2,
             "#de77ae"
            ],
            [
             0.3,
             "#f1b6da"
            ],
            [
             0.4,
             "#fde0ef"
            ],
            [
             0.5,
             "#f7f7f7"
            ],
            [
             0.6,
             "#e6f5d0"
            ],
            [
             0.7,
             "#b8e186"
            ],
            [
             0.8,
             "#7fbc41"
            ],
            [
             0.9,
             "#4d9221"
            ],
            [
             1,
             "#276419"
            ]
           ],
           "sequential": [
            [
             0,
             "#0d0887"
            ],
            [
             0.1111111111111111,
             "#46039f"
            ],
            [
             0.2222222222222222,
             "#7201a8"
            ],
            [
             0.3333333333333333,
             "#9c179e"
            ],
            [
             0.4444444444444444,
             "#bd3786"
            ],
            [
             0.5555555555555556,
             "#d8576b"
            ],
            [
             0.6666666666666666,
             "#ed7953"
            ],
            [
             0.7777777777777778,
             "#fb9f3a"
            ],
            [
             0.8888888888888888,
             "#fdca26"
            ],
            [
             1,
             "#f0f921"
            ]
           ],
           "sequentialminus": [
            [
             0,
             "#0d0887"
            ],
            [
             0.1111111111111111,
             "#46039f"
            ],
            [
             0.2222222222222222,
             "#7201a8"
            ],
            [
             0.3333333333333333,
             "#9c179e"
            ],
            [
             0.4444444444444444,
             "#bd3786"
            ],
            [
             0.5555555555555556,
             "#d8576b"
            ],
            [
             0.6666666666666666,
             "#ed7953"
            ],
            [
             0.7777777777777778,
             "#fb9f3a"
            ],
            [
             0.8888888888888888,
             "#fdca26"
            ],
            [
             1,
             "#f0f921"
            ]
           ]
          },
          "colorway": [
           "#636efa",
           "#EF553B",
           "#00cc96",
           "#ab63fa",
           "#FFA15A",
           "#19d3f3",
           "#FF6692",
           "#B6E880",
           "#FF97FF",
           "#FECB52"
          ],
          "font": {
           "color": "#2a3f5f"
          },
          "geo": {
           "bgcolor": "white",
           "lakecolor": "white",
           "landcolor": "#E5ECF6",
           "showlakes": true,
           "showland": true,
           "subunitcolor": "white"
          },
          "hoverlabel": {
           "align": "left"
          },
          "hovermode": "closest",
          "mapbox": {
           "style": "light"
          },
          "paper_bgcolor": "white",
          "plot_bgcolor": "#E5ECF6",
          "polar": {
           "angularaxis": {
            "gridcolor": "white",
            "linecolor": "white",
            "ticks": ""
           },
           "bgcolor": "#E5ECF6",
           "radialaxis": {
            "gridcolor": "white",
            "linecolor": "white",
            "ticks": ""
           }
          },
          "scene": {
           "xaxis": {
            "backgroundcolor": "#E5ECF6",
            "gridcolor": "white",
            "gridwidth": 2,
            "linecolor": "white",
            "showbackground": true,
            "ticks": "",
            "zerolinecolor": "white"
           },
           "yaxis": {
            "backgroundcolor": "#E5ECF6",
            "gridcolor": "white",
            "gridwidth": 2,
            "linecolor": "white",
            "showbackground": true,
            "ticks": "",
            "zerolinecolor": "white"
           },
           "zaxis": {
            "backgroundcolor": "#E5ECF6",
            "gridcolor": "white",
            "gridwidth": 2,
            "linecolor": "white",
            "showbackground": true,
            "ticks": "",
            "zerolinecolor": "white"
           }
          },
          "shapedefaults": {
           "line": {
            "color": "#2a3f5f"
           }
          },
          "ternary": {
           "aaxis": {
            "gridcolor": "white",
            "linecolor": "white",
            "ticks": ""
           },
           "baxis": {
            "gridcolor": "white",
            "linecolor": "white",
            "ticks": ""
           },
           "bgcolor": "#E5ECF6",
           "caxis": {
            "gridcolor": "white",
            "linecolor": "white",
            "ticks": ""
           }
          },
          "title": {
           "x": 0.05
          },
          "xaxis": {
           "automargin": true,
           "gridcolor": "white",
           "linecolor": "white",
           "ticks": "",
           "title": {
            "standoff": 15
           },
           "zerolinecolor": "white",
           "zerolinewidth": 2
          },
          "yaxis": {
           "automargin": true,
           "gridcolor": "white",
           "linecolor": "white",
           "ticks": "",
           "title": {
            "standoff": 15
           },
           "zerolinecolor": "white",
           "zerolinewidth": 2
          }
         }
        },
        "title": {
         "text": ""
        },
        "xaxis": {
         "anchor": "y",
         "domain": [
          0,
          1
         ],
         "title": {
          "text": ""
         }
        },
        "yaxis": {
         "anchor": "x",
         "domain": [
          0,
          1
         ],
         "title": {
          "text": ""
         }
        }
       }
      }
     },
     "metadata": {},
     "output_type": "display_data"
    },
    {
     "data": {
      "application/vnd.plotly.v1+json": {
       "config": {
        "plotlyServerURL": "https://plot.ly"
       },
       "data": [
        {
         "hovertemplate": "device=co2<br>fecha=%{x}<br>co2=%{y}<extra></extra>",
         "legendgroup": "co2",
         "line": {
          "color": "#636efa",
          "dash": "solid"
         },
         "marker": {
          "symbol": "circle"
         },
         "mode": "lines",
         "name": "co2",
         "orientation": "v",
         "showlegend": true,
         "type": "scatter",
         "x": [
          "2024-12-13T16:41:31+01:00",
          "2024-12-13T18:21:15+01:00",
          "2024-12-13T18:25:21+01:00",
          "2024-12-13T18:25:58+01:00",
          "2024-12-13T18:26:08+01:00",
          "2024-12-13T18:28:56+01:00",
          "2024-12-13T18:29:12+01:00",
          "2024-12-13T18:29:46+01:00",
          "2024-12-13T18:30:08+01:00",
          "2024-12-13T22:58:09+01:00",
          "2024-12-13T23:00:08+01:00",
          "2024-12-13T23:02:50+01:00",
          "2024-12-13T23:05:30+01:00",
          "2024-12-13T23:06:29+01:00",
          "2024-12-13T23:23:45+01:00",
          "2024-12-13T23:24:10+01:00",
          "2024-12-13T23:26:22+01:00",
          "2024-12-13T23:27:24+01:00",
          "2024-12-13T23:28:25+01:00",
          "2024-12-13T23:29:26+01:00",
          "2024-12-13T23:30:16+01:00",
          "2024-12-13T23:31:17+01:00",
          "2024-12-13T23:32:15+01:00",
          "2024-12-13T23:32:27+01:00",
          "2024-12-13T23:35:24+01:00",
          "2024-12-13T23:36:24+01:00",
          "2024-12-13T23:37:25+01:00",
          "2024-12-13T23:38:26+01:00"
         ],
         "xaxis": "x",
         "y": [
          569,
          614,
          615,
          615,
          615,
          615,
          616,
          615,
          611,
          663,
          663,
          661,
          663,
          662,
          663,
          665,
          669,
          669,
          670,
          672,
          672,
          669,
          668,
          669,
          666,
          665,
          670,
          667
         ],
         "yaxis": "y"
        }
       ],
       "layout": {
        "height": 500,
        "legend": {
         "title": {
          "text": ""
         },
         "tracegroupgap": 0,
         "x": 0.01,
         "xanchor": "left",
         "y": 0.99,
         "yanchor": "top"
        },
        "margin": {
         "b": 0,
         "l": 0,
         "r": 0,
         "t": 20
        },
        "template": {
         "data": {
          "bar": [
           {
            "error_x": {
             "color": "#2a3f5f"
            },
            "error_y": {
             "color": "#2a3f5f"
            },
            "marker": {
             "line": {
              "color": "#E5ECF6",
              "width": 0.5
             },
             "pattern": {
              "fillmode": "overlay",
              "size": 10,
              "solidity": 0.2
             }
            },
            "type": "bar"
           }
          ],
          "barpolar": [
           {
            "marker": {
             "line": {
              "color": "#E5ECF6",
              "width": 0.5
             },
             "pattern": {
              "fillmode": "overlay",
              "size": 10,
              "solidity": 0.2
             }
            },
            "type": "barpolar"
           }
          ],
          "carpet": [
           {
            "aaxis": {
             "endlinecolor": "#2a3f5f",
             "gridcolor": "white",
             "linecolor": "white",
             "minorgridcolor": "white",
             "startlinecolor": "#2a3f5f"
            },
            "baxis": {
             "endlinecolor": "#2a3f5f",
             "gridcolor": "white",
             "linecolor": "white",
             "minorgridcolor": "white",
             "startlinecolor": "#2a3f5f"
            },
            "type": "carpet"
           }
          ],
          "choropleth": [
           {
            "colorbar": {
             "outlinewidth": 0,
             "ticks": ""
            },
            "type": "choropleth"
           }
          ],
          "contour": [
           {
            "colorbar": {
             "outlinewidth": 0,
             "ticks": ""
            },
            "colorscale": [
             [
              0,
              "#0d0887"
             ],
             [
              0.1111111111111111,
              "#46039f"
             ],
             [
              0.2222222222222222,
              "#7201a8"
             ],
             [
              0.3333333333333333,
              "#9c179e"
             ],
             [
              0.4444444444444444,
              "#bd3786"
             ],
             [
              0.5555555555555556,
              "#d8576b"
             ],
             [
              0.6666666666666666,
              "#ed7953"
             ],
             [
              0.7777777777777778,
              "#fb9f3a"
             ],
             [
              0.8888888888888888,
              "#fdca26"
             ],
             [
              1,
              "#f0f921"
             ]
            ],
            "type": "contour"
           }
          ],
          "contourcarpet": [
           {
            "colorbar": {
             "outlinewidth": 0,
             "ticks": ""
            },
            "type": "contourcarpet"
           }
          ],
          "heatmap": [
           {
            "colorbar": {
             "outlinewidth": 0,
             "ticks": ""
            },
            "colorscale": [
             [
              0,
              "#0d0887"
             ],
             [
              0.1111111111111111,
              "#46039f"
             ],
             [
              0.2222222222222222,
              "#7201a8"
             ],
             [
              0.3333333333333333,
              "#9c179e"
             ],
             [
              0.4444444444444444,
              "#bd3786"
             ],
             [
              0.5555555555555556,
              "#d8576b"
             ],
             [
              0.6666666666666666,
              "#ed7953"
             ],
             [
              0.7777777777777778,
              "#fb9f3a"
             ],
             [
              0.8888888888888888,
              "#fdca26"
             ],
             [
              1,
              "#f0f921"
             ]
            ],
            "type": "heatmap"
           }
          ],
          "heatmapgl": [
           {
            "colorbar": {
             "outlinewidth": 0,
             "ticks": ""
            },
            "colorscale": [
             [
              0,
              "#0d0887"
             ],
             [
              0.1111111111111111,
              "#46039f"
             ],
             [
              0.2222222222222222,
              "#7201a8"
             ],
             [
              0.3333333333333333,
              "#9c179e"
             ],
             [
              0.4444444444444444,
              "#bd3786"
             ],
             [
              0.5555555555555556,
              "#d8576b"
             ],
             [
              0.6666666666666666,
              "#ed7953"
             ],
             [
              0.7777777777777778,
              "#fb9f3a"
             ],
             [
              0.8888888888888888,
              "#fdca26"
             ],
             [
              1,
              "#f0f921"
             ]
            ],
            "type": "heatmapgl"
           }
          ],
          "histogram": [
           {
            "marker": {
             "pattern": {
              "fillmode": "overlay",
              "size": 10,
              "solidity": 0.2
             }
            },
            "type": "histogram"
           }
          ],
          "histogram2d": [
           {
            "colorbar": {
             "outlinewidth": 0,
             "ticks": ""
            },
            "colorscale": [
             [
              0,
              "#0d0887"
             ],
             [
              0.1111111111111111,
              "#46039f"
             ],
             [
              0.2222222222222222,
              "#7201a8"
             ],
             [
              0.3333333333333333,
              "#9c179e"
             ],
             [
              0.4444444444444444,
              "#bd3786"
             ],
             [
              0.5555555555555556,
              "#d8576b"
             ],
             [
              0.6666666666666666,
              "#ed7953"
             ],
             [
              0.7777777777777778,
              "#fb9f3a"
             ],
             [
              0.8888888888888888,
              "#fdca26"
             ],
             [
              1,
              "#f0f921"
             ]
            ],
            "type": "histogram2d"
           }
          ],
          "histogram2dcontour": [
           {
            "colorbar": {
             "outlinewidth": 0,
             "ticks": ""
            },
            "colorscale": [
             [
              0,
              "#0d0887"
             ],
             [
              0.1111111111111111,
              "#46039f"
             ],
             [
              0.2222222222222222,
              "#7201a8"
             ],
             [
              0.3333333333333333,
              "#9c179e"
             ],
             [
              0.4444444444444444,
              "#bd3786"
             ],
             [
              0.5555555555555556,
              "#d8576b"
             ],
             [
              0.6666666666666666,
              "#ed7953"
             ],
             [
              0.7777777777777778,
              "#fb9f3a"
             ],
             [
              0.8888888888888888,
              "#fdca26"
             ],
             [
              1,
              "#f0f921"
             ]
            ],
            "type": "histogram2dcontour"
           }
          ],
          "mesh3d": [
           {
            "colorbar": {
             "outlinewidth": 0,
             "ticks": ""
            },
            "type": "mesh3d"
           }
          ],
          "parcoords": [
           {
            "line": {
             "colorbar": {
              "outlinewidth": 0,
              "ticks": ""
             }
            },
            "type": "parcoords"
           }
          ],
          "pie": [
           {
            "automargin": true,
            "type": "pie"
           }
          ],
          "scatter": [
           {
            "fillpattern": {
             "fillmode": "overlay",
             "size": 10,
             "solidity": 0.2
            },
            "type": "scatter"
           }
          ],
          "scatter3d": [
           {
            "line": {
             "colorbar": {
              "outlinewidth": 0,
              "ticks": ""
             }
            },
            "marker": {
             "colorbar": {
              "outlinewidth": 0,
              "ticks": ""
             }
            },
            "type": "scatter3d"
           }
          ],
          "scattercarpet": [
           {
            "marker": {
             "colorbar": {
              "outlinewidth": 0,
              "ticks": ""
             }
            },
            "type": "scattercarpet"
           }
          ],
          "scattergeo": [
           {
            "marker": {
             "colorbar": {
              "outlinewidth": 0,
              "ticks": ""
             }
            },
            "type": "scattergeo"
           }
          ],
          "scattergl": [
           {
            "marker": {
             "colorbar": {
              "outlinewidth": 0,
              "ticks": ""
             }
            },
            "type": "scattergl"
           }
          ],
          "scattermapbox": [
           {
            "marker": {
             "colorbar": {
              "outlinewidth": 0,
              "ticks": ""
             }
            },
            "type": "scattermapbox"
           }
          ],
          "scatterpolar": [
           {
            "marker": {
             "colorbar": {
              "outlinewidth": 0,
              "ticks": ""
             }
            },
            "type": "scatterpolar"
           }
          ],
          "scatterpolargl": [
           {
            "marker": {
             "colorbar": {
              "outlinewidth": 0,
              "ticks": ""
             }
            },
            "type": "scatterpolargl"
           }
          ],
          "scatterternary": [
           {
            "marker": {
             "colorbar": {
              "outlinewidth": 0,
              "ticks": ""
             }
            },
            "type": "scatterternary"
           }
          ],
          "surface": [
           {
            "colorbar": {
             "outlinewidth": 0,
             "ticks": ""
            },
            "colorscale": [
             [
              0,
              "#0d0887"
             ],
             [
              0.1111111111111111,
              "#46039f"
             ],
             [
              0.2222222222222222,
              "#7201a8"
             ],
             [
              0.3333333333333333,
              "#9c179e"
             ],
             [
              0.4444444444444444,
              "#bd3786"
             ],
             [
              0.5555555555555556,
              "#d8576b"
             ],
             [
              0.6666666666666666,
              "#ed7953"
             ],
             [
              0.7777777777777778,
              "#fb9f3a"
             ],
             [
              0.8888888888888888,
              "#fdca26"
             ],
             [
              1,
              "#f0f921"
             ]
            ],
            "type": "surface"
           }
          ],
          "table": [
           {
            "cells": {
             "fill": {
              "color": "#EBF0F8"
             },
             "line": {
              "color": "white"
             }
            },
            "header": {
             "fill": {
              "color": "#C8D4E3"
             },
             "line": {
              "color": "white"
             }
            },
            "type": "table"
           }
          ]
         },
         "layout": {
          "annotationdefaults": {
           "arrowcolor": "#2a3f5f",
           "arrowhead": 0,
           "arrowwidth": 1
          },
          "autotypenumbers": "strict",
          "coloraxis": {
           "colorbar": {
            "outlinewidth": 0,
            "ticks": ""
           }
          },
          "colorscale": {
           "diverging": [
            [
             0,
             "#8e0152"
            ],
            [
             0.1,
             "#c51b7d"
            ],
            [
             0.2,
             "#de77ae"
            ],
            [
             0.3,
             "#f1b6da"
            ],
            [
             0.4,
             "#fde0ef"
            ],
            [
             0.5,
             "#f7f7f7"
            ],
            [
             0.6,
             "#e6f5d0"
            ],
            [
             0.7,
             "#b8e186"
            ],
            [
             0.8,
             "#7fbc41"
            ],
            [
             0.9,
             "#4d9221"
            ],
            [
             1,
             "#276419"
            ]
           ],
           "sequential": [
            [
             0,
             "#0d0887"
            ],
            [
             0.1111111111111111,
             "#46039f"
            ],
            [
             0.2222222222222222,
             "#7201a8"
            ],
            [
             0.3333333333333333,
             "#9c179e"
            ],
            [
             0.4444444444444444,
             "#bd3786"
            ],
            [
             0.5555555555555556,
             "#d8576b"
            ],
            [
             0.6666666666666666,
             "#ed7953"
            ],
            [
             0.7777777777777778,
             "#fb9f3a"
            ],
            [
             0.8888888888888888,
             "#fdca26"
            ],
            [
             1,
             "#f0f921"
            ]
           ],
           "sequentialminus": [
            [
             0,
             "#0d0887"
            ],
            [
             0.1111111111111111,
             "#46039f"
            ],
            [
             0.2222222222222222,
             "#7201a8"
            ],
            [
             0.3333333333333333,
             "#9c179e"
            ],
            [
             0.4444444444444444,
             "#bd3786"
            ],
            [
             0.5555555555555556,
             "#d8576b"
            ],
            [
             0.6666666666666666,
             "#ed7953"
            ],
            [
             0.7777777777777778,
             "#fb9f3a"
            ],
            [
             0.8888888888888888,
             "#fdca26"
            ],
            [
             1,
             "#f0f921"
            ]
           ]
          },
          "colorway": [
           "#636efa",
           "#EF553B",
           "#00cc96",
           "#ab63fa",
           "#FFA15A",
           "#19d3f3",
           "#FF6692",
           "#B6E880",
           "#FF97FF",
           "#FECB52"
          ],
          "font": {
           "color": "#2a3f5f"
          },
          "geo": {
           "bgcolor": "white",
           "lakecolor": "white",
           "landcolor": "#E5ECF6",
           "showlakes": true,
           "showland": true,
           "subunitcolor": "white"
          },
          "hoverlabel": {
           "align": "left"
          },
          "hovermode": "closest",
          "mapbox": {
           "style": "light"
          },
          "paper_bgcolor": "white",
          "plot_bgcolor": "#E5ECF6",
          "polar": {
           "angularaxis": {
            "gridcolor": "white",
            "linecolor": "white",
            "ticks": ""
           },
           "bgcolor": "#E5ECF6",
           "radialaxis": {
            "gridcolor": "white",
            "linecolor": "white",
            "ticks": ""
           }
          },
          "scene": {
           "xaxis": {
            "backgroundcolor": "#E5ECF6",
            "gridcolor": "white",
            "gridwidth": 2,
            "linecolor": "white",
            "showbackground": true,
            "ticks": "",
            "zerolinecolor": "white"
           },
           "yaxis": {
            "backgroundcolor": "#E5ECF6",
            "gridcolor": "white",
            "gridwidth": 2,
            "linecolor": "white",
            "showbackground": true,
            "ticks": "",
            "zerolinecolor": "white"
           },
           "zaxis": {
            "backgroundcolor": "#E5ECF6",
            "gridcolor": "white",
            "gridwidth": 2,
            "linecolor": "white",
            "showbackground": true,
            "ticks": "",
            "zerolinecolor": "white"
           }
          },
          "shapedefaults": {
           "line": {
            "color": "#2a3f5f"
           }
          },
          "ternary": {
           "aaxis": {
            "gridcolor": "white",
            "linecolor": "white",
            "ticks": ""
           },
           "baxis": {
            "gridcolor": "white",
            "linecolor": "white",
            "ticks": ""
           },
           "bgcolor": "#E5ECF6",
           "caxis": {
            "gridcolor": "white",
            "linecolor": "white",
            "ticks": ""
           }
          },
          "title": {
           "x": 0.05
          },
          "xaxis": {
           "automargin": true,
           "gridcolor": "white",
           "linecolor": "white",
           "ticks": "",
           "title": {
            "standoff": 15
           },
           "zerolinecolor": "white",
           "zerolinewidth": 2
          },
          "yaxis": {
           "automargin": true,
           "gridcolor": "white",
           "linecolor": "white",
           "ticks": "",
           "title": {
            "standoff": 15
           },
           "zerolinecolor": "white",
           "zerolinewidth": 2
          }
         }
        },
        "title": {
         "text": ""
        },
        "xaxis": {
         "anchor": "y",
         "domain": [
          0,
          1
         ],
         "title": {
          "text": ""
         }
        },
        "yaxis": {
         "anchor": "x",
         "domain": [
          0,
          1
         ],
         "title": {
          "text": ""
         }
        }
       }
      }
     },
     "metadata": {},
     "output_type": "display_data"
    },
    {
     "data": {
      "application/vnd.plotly.v1+json": {
       "config": {
        "plotlyServerURL": "https://plot.ly"
       },
       "data": [
        {
         "hovertemplate": "device=temp_interior<br>metric=temperature<br>variable=temperature<br>fecha=%{x}<br>value=%{y}<extra></extra>",
         "legendgroup": "temp_interior, temperature",
         "line": {
          "color": "#636efa",
          "dash": "solid"
         },
         "marker": {
          "symbol": "circle"
         },
         "mode": "lines",
         "name": "temp_interior, temperature",
         "orientation": "v",
         "showlegend": true,
         "type": "scatter",
         "x": [
          "2024-12-13T16:41:31+01:00",
          "2024-12-13T18:21:15+01:00",
          "2024-12-13T18:25:20+01:00",
          "2024-12-13T18:25:58+01:00",
          "2024-12-13T18:26:08+01:00",
          "2024-12-13T18:28:55+01:00",
          "2024-12-13T18:29:12+01:00",
          "2024-12-13T18:29:46+01:00",
          "2024-12-13T18:30:08+01:00",
          "2024-12-13T22:58:09+01:00",
          "2024-12-13T23:00:08+01:00",
          "2024-12-13T23:02:50+01:00",
          "2024-12-13T23:05:30+01:00",
          "2024-12-13T23:06:29+01:00",
          "2024-12-13T23:23:44+01:00",
          "2024-12-13T23:24:10+01:00",
          "2024-12-13T23:26:22+01:00",
          "2024-12-13T23:27:24+01:00",
          "2024-12-13T23:28:25+01:00",
          "2024-12-13T23:29:26+01:00",
          "2024-12-13T23:30:16+01:00",
          "2024-12-13T23:31:17+01:00",
          "2024-12-13T23:32:15+01:00",
          "2024-12-13T23:32:27+01:00",
          "2024-12-13T23:35:24+01:00",
          "2024-12-13T23:36:24+01:00",
          "2024-12-13T23:37:25+01:00",
          "2024-12-13T23:38:26+01:00"
         ],
         "xaxis": "x",
         "y": [
          10.9,
          9.1,
          9,
          9.2,
          9,
          8.9,
          8.9,
          8.9,
          8.9,
          5.9,
          5.9,
          5.8,
          5.8,
          5.8,
          5.6,
          5.6,
          5.6,
          5.6,
          5.5,
          5.6,
          5.5,
          5.6,
          5.6,
          5.6,
          5.6,
          5.5,
          5.5,
          5.5
         ],
         "yaxis": "y"
        },
        {
         "hovertemplate": "device=temp_interior<br>metric=temperature<br>variable=humidity<br>fecha=%{x}<br>value=%{y}<extra></extra>",
         "legendgroup": "temp_interior, temperature",
         "line": {
          "color": "#636efa",
          "dash": "solid"
         },
         "marker": {
          "symbol": "circle"
         },
         "mode": "lines",
         "name": "temp_interior, temperature",
         "orientation": "v",
         "showlegend": false,
         "type": "scatter",
         "x": [
          "2024-12-13T16:41:31+01:00",
          "2024-12-13T18:21:15+01:00",
          "2024-12-13T18:25:20+01:00",
          "2024-12-13T18:25:58+01:00",
          "2024-12-13T18:26:08+01:00",
          "2024-12-13T18:28:55+01:00",
          "2024-12-13T18:29:12+01:00",
          "2024-12-13T18:29:46+01:00",
          "2024-12-13T18:30:08+01:00",
          "2024-12-13T22:58:09+01:00",
          "2024-12-13T23:00:08+01:00",
          "2024-12-13T23:02:50+01:00",
          "2024-12-13T23:05:30+01:00",
          "2024-12-13T23:06:29+01:00",
          "2024-12-13T23:23:44+01:00",
          "2024-12-13T23:24:10+01:00",
          "2024-12-13T23:26:22+01:00",
          "2024-12-13T23:27:24+01:00",
          "2024-12-13T23:28:25+01:00",
          "2024-12-13T23:29:26+01:00",
          "2024-12-13T23:30:16+01:00",
          "2024-12-13T23:31:17+01:00",
          "2024-12-13T23:32:15+01:00",
          "2024-12-13T23:32:27+01:00",
          "2024-12-13T23:35:24+01:00",
          "2024-12-13T23:36:24+01:00",
          "2024-12-13T23:37:25+01:00",
          "2024-12-13T23:38:26+01:00"
         ],
         "xaxis": "x",
         "y": [
          null,
          null,
          null,
          null,
          null,
          null,
          null,
          null,
          null,
          null,
          null,
          null,
          null,
          null,
          null,
          null,
          null,
          null,
          null,
          null,
          null,
          null,
          null,
          null,
          null,
          null,
          null,
          null
         ],
         "yaxis": "y"
        },
        {
         "hovertemplate": "device=temp_interior<br>metric=temperature<br>variable=vpd<br>fecha=%{x}<br>value=%{y}<extra></extra>",
         "legendgroup": "temp_interior, temperature",
         "line": {
          "color": "#636efa",
          "dash": "solid"
         },
         "marker": {
          "symbol": "circle"
         },
         "mode": "lines",
         "name": "temp_interior, temperature",
         "orientation": "v",
         "showlegend": false,
         "type": "scatter",
         "x": [
          "2024-12-13T16:41:31+01:00",
          "2024-12-13T18:21:15+01:00",
          "2024-12-13T18:25:20+01:00",
          "2024-12-13T18:25:58+01:00",
          "2024-12-13T18:26:08+01:00",
          "2024-12-13T18:28:55+01:00",
          "2024-12-13T18:29:12+01:00",
          "2024-12-13T18:29:46+01:00",
          "2024-12-13T18:30:08+01:00",
          "2024-12-13T22:58:09+01:00",
          "2024-12-13T23:00:08+01:00",
          "2024-12-13T23:02:50+01:00",
          "2024-12-13T23:05:30+01:00",
          "2024-12-13T23:06:29+01:00",
          "2024-12-13T23:23:44+01:00",
          "2024-12-13T23:24:10+01:00",
          "2024-12-13T23:26:22+01:00",
          "2024-12-13T23:27:24+01:00",
          "2024-12-13T23:28:25+01:00",
          "2024-12-13T23:29:26+01:00",
          "2024-12-13T23:30:16+01:00",
          "2024-12-13T23:31:17+01:00",
          "2024-12-13T23:32:15+01:00",
          "2024-12-13T23:32:27+01:00",
          "2024-12-13T23:35:24+01:00",
          "2024-12-13T23:36:24+01:00",
          "2024-12-13T23:37:25+01:00",
          "2024-12-13T23:38:26+01:00"
         ],
         "xaxis": "x",
         "y": [
          null,
          null,
          null,
          null,
          null,
          null,
          null,
          null,
          null,
          null,
          null,
          null,
          null,
          null,
          null,
          null,
          null,
          null,
          null,
          null,
          null,
          null,
          null,
          null,
          null,
          null,
          null,
          null
         ],
         "yaxis": "y"
        },
        {
         "hovertemplate": "device=temp_interior<br>metric=humidity<br>variable=temperature<br>fecha=%{x}<br>value=%{y}<extra></extra>",
         "legendgroup": "temp_interior, humidity",
         "line": {
          "color": "#636efa",
          "dash": "dot"
         },
         "marker": {
          "symbol": "circle"
         },
         "mode": "lines",
         "name": "temp_interior, humidity",
         "orientation": "v",
         "showlegend": true,
         "type": "scatter",
         "x": [
          "2024-12-13T16:41:31+01:00",
          "2024-12-13T18:21:15+01:00",
          "2024-12-13T18:25:20+01:00",
          "2024-12-13T18:25:58+01:00",
          "2024-12-13T18:26:08+01:00",
          "2024-12-13T18:28:55+01:00",
          "2024-12-13T18:29:12+01:00",
          "2024-12-13T18:29:46+01:00",
          "2024-12-13T18:30:08+01:00",
          "2024-12-13T22:58:09+01:00",
          "2024-12-13T23:00:08+01:00",
          "2024-12-13T23:02:50+01:00",
          "2024-12-13T23:05:30+01:00",
          "2024-12-13T23:06:29+01:00",
          "2024-12-13T23:23:44+01:00",
          "2024-12-13T23:24:10+01:00",
          "2024-12-13T23:26:22+01:00",
          "2024-12-13T23:27:24+01:00",
          "2024-12-13T23:28:25+01:00",
          "2024-12-13T23:29:26+01:00",
          "2024-12-13T23:30:16+01:00",
          "2024-12-13T23:31:17+01:00",
          "2024-12-13T23:32:15+01:00",
          "2024-12-13T23:32:27+01:00",
          "2024-12-13T23:35:24+01:00",
          "2024-12-13T23:36:24+01:00",
          "2024-12-13T23:37:25+01:00",
          "2024-12-13T23:38:26+01:00"
         ],
         "xaxis": "x",
         "y": [
          null,
          null,
          null,
          null,
          null,
          null,
          null,
          null,
          null,
          null,
          null,
          null,
          null,
          null,
          null,
          null,
          null,
          null,
          null,
          null,
          null,
          null,
          null,
          null,
          null,
          null,
          null,
          null
         ],
         "yaxis": "y"
        },
        {
         "hovertemplate": "device=temp_interior<br>metric=humidity<br>variable=humidity<br>fecha=%{x}<br>value=%{y}<extra></extra>",
         "legendgroup": "temp_interior, humidity",
         "line": {
          "color": "#636efa",
          "dash": "dot"
         },
         "marker": {
          "symbol": "circle"
         },
         "mode": "lines",
         "name": "temp_interior, humidity",
         "orientation": "v",
         "showlegend": false,
         "type": "scatter",
         "x": [
          "2024-12-13T16:41:31+01:00",
          "2024-12-13T18:21:15+01:00",
          "2024-12-13T18:25:20+01:00",
          "2024-12-13T18:25:58+01:00",
          "2024-12-13T18:26:08+01:00",
          "2024-12-13T18:28:55+01:00",
          "2024-12-13T18:29:12+01:00",
          "2024-12-13T18:29:46+01:00",
          "2024-12-13T18:30:08+01:00",
          "2024-12-13T22:58:09+01:00",
          "2024-12-13T23:00:08+01:00",
          "2024-12-13T23:02:50+01:00",
          "2024-12-13T23:05:30+01:00",
          "2024-12-13T23:06:29+01:00",
          "2024-12-13T23:23:44+01:00",
          "2024-12-13T23:24:10+01:00",
          "2024-12-13T23:26:22+01:00",
          "2024-12-13T23:27:24+01:00",
          "2024-12-13T23:28:25+01:00",
          "2024-12-13T23:29:26+01:00",
          "2024-12-13T23:30:16+01:00",
          "2024-12-13T23:31:17+01:00",
          "2024-12-13T23:32:15+01:00",
          "2024-12-13T23:32:27+01:00",
          "2024-12-13T23:35:24+01:00",
          "2024-12-13T23:36:24+01:00",
          "2024-12-13T23:37:25+01:00",
          "2024-12-13T23:38:26+01:00"
         ],
         "xaxis": "x",
         "y": [
          68.7,
          73.7,
          74.2,
          74.1,
          73.9,
          74.9,
          74.8,
          74.8,
          75,
          78.9,
          79,
          78.8,
          78.9,
          79.1,
          79.1,
          79.4,
          79,
          78.9,
          79.2,
          79.5,
          79.1,
          79.3,
          79.1,
          79,
          79.2,
          79.1,
          79,
          79.4
         ],
         "yaxis": "y"
        },
        {
         "hovertemplate": "device=temp_interior<br>metric=humidity<br>variable=vpd<br>fecha=%{x}<br>value=%{y}<extra></extra>",
         "legendgroup": "temp_interior, humidity",
         "line": {
          "color": "#636efa",
          "dash": "dot"
         },
         "marker": {
          "symbol": "circle"
         },
         "mode": "lines",
         "name": "temp_interior, humidity",
         "orientation": "v",
         "showlegend": false,
         "type": "scatter",
         "x": [
          "2024-12-13T16:41:31+01:00",
          "2024-12-13T18:21:15+01:00",
          "2024-12-13T18:25:20+01:00",
          "2024-12-13T18:25:58+01:00",
          "2024-12-13T18:26:08+01:00",
          "2024-12-13T18:28:55+01:00",
          "2024-12-13T18:29:12+01:00",
          "2024-12-13T18:29:46+01:00",
          "2024-12-13T18:30:08+01:00",
          "2024-12-13T22:58:09+01:00",
          "2024-12-13T23:00:08+01:00",
          "2024-12-13T23:02:50+01:00",
          "2024-12-13T23:05:30+01:00",
          "2024-12-13T23:06:29+01:00",
          "2024-12-13T23:23:44+01:00",
          "2024-12-13T23:24:10+01:00",
          "2024-12-13T23:26:22+01:00",
          "2024-12-13T23:27:24+01:00",
          "2024-12-13T23:28:25+01:00",
          "2024-12-13T23:29:26+01:00",
          "2024-12-13T23:30:16+01:00",
          "2024-12-13T23:31:17+01:00",
          "2024-12-13T23:32:15+01:00",
          "2024-12-13T23:32:27+01:00",
          "2024-12-13T23:35:24+01:00",
          "2024-12-13T23:36:24+01:00",
          "2024-12-13T23:37:25+01:00",
          "2024-12-13T23:38:26+01:00"
         ],
         "xaxis": "x",
         "y": [
          null,
          null,
          null,
          null,
          null,
          null,
          null,
          null,
          null,
          null,
          null,
          null,
          null,
          null,
          null,
          null,
          null,
          null,
          null,
          null,
          null,
          null,
          null,
          null,
          null,
          null,
          null,
          null
         ],
         "yaxis": "y"
        },
        {
         "hovertemplate": "device=temp_interior<br>metric=vpd<br>variable=temperature<br>fecha=%{x}<br>value=%{y}<extra></extra>",
         "legendgroup": "temp_interior, vpd",
         "line": {
          "color": "#636efa",
          "dash": "dash"
         },
         "marker": {
          "symbol": "circle"
         },
         "mode": "lines",
         "name": "temp_interior, vpd",
         "orientation": "v",
         "showlegend": true,
         "type": "scatter",
         "x": [
          "2024-12-13T16:41:31+01:00",
          "2024-12-13T18:21:15+01:00",
          "2024-12-13T18:25:20+01:00",
          "2024-12-13T18:25:58+01:00",
          "2024-12-13T18:26:08+01:00",
          "2024-12-13T18:28:55+01:00",
          "2024-12-13T18:29:12+01:00",
          "2024-12-13T18:29:46+01:00",
          "2024-12-13T18:30:08+01:00",
          "2024-12-13T22:58:09+01:00",
          "2024-12-13T23:00:08+01:00",
          "2024-12-13T23:02:50+01:00",
          "2024-12-13T23:05:30+01:00",
          "2024-12-13T23:06:29+01:00",
          "2024-12-13T23:23:44+01:00",
          "2024-12-13T23:24:10+01:00",
          "2024-12-13T23:26:22+01:00",
          "2024-12-13T23:27:24+01:00",
          "2024-12-13T23:28:25+01:00",
          "2024-12-13T23:29:26+01:00",
          "2024-12-13T23:30:16+01:00",
          "2024-12-13T23:31:17+01:00",
          "2024-12-13T23:32:15+01:00",
          "2024-12-13T23:32:27+01:00",
          "2024-12-13T23:35:24+01:00",
          "2024-12-13T23:36:24+01:00",
          "2024-12-13T23:37:25+01:00",
          "2024-12-13T23:38:26+01:00"
         ],
         "xaxis": "x",
         "y": [
          10.9,
          9.1,
          9,
          9.2,
          9,
          8.9,
          8.9,
          8.9,
          8.9,
          5.9,
          5.9,
          5.8,
          5.8,
          5.8,
          5.6,
          5.6,
          5.6,
          5.6,
          5.5,
          5.6,
          5.5,
          5.6,
          5.6,
          5.6,
          5.6,
          5.5,
          5.5,
          5.5
         ],
         "yaxis": "y"
        },
        {
         "hovertemplate": "device=temp_interior<br>metric=vpd<br>variable=humidity<br>fecha=%{x}<br>value=%{y}<extra></extra>",
         "legendgroup": "temp_interior, vpd",
         "line": {
          "color": "#636efa",
          "dash": "dash"
         },
         "marker": {
          "symbol": "circle"
         },
         "mode": "lines",
         "name": "temp_interior, vpd",
         "orientation": "v",
         "showlegend": false,
         "type": "scatter",
         "x": [
          "2024-12-13T16:41:31+01:00",
          "2024-12-13T18:21:15+01:00",
          "2024-12-13T18:25:20+01:00",
          "2024-12-13T18:25:58+01:00",
          "2024-12-13T18:26:08+01:00",
          "2024-12-13T18:28:55+01:00",
          "2024-12-13T18:29:12+01:00",
          "2024-12-13T18:29:46+01:00",
          "2024-12-13T18:30:08+01:00",
          "2024-12-13T22:58:09+01:00",
          "2024-12-13T23:00:08+01:00",
          "2024-12-13T23:02:50+01:00",
          "2024-12-13T23:05:30+01:00",
          "2024-12-13T23:06:29+01:00",
          "2024-12-13T23:23:44+01:00",
          "2024-12-13T23:24:10+01:00",
          "2024-12-13T23:26:22+01:00",
          "2024-12-13T23:27:24+01:00",
          "2024-12-13T23:28:25+01:00",
          "2024-12-13T23:29:26+01:00",
          "2024-12-13T23:30:16+01:00",
          "2024-12-13T23:31:17+01:00",
          "2024-12-13T23:32:15+01:00",
          "2024-12-13T23:32:27+01:00",
          "2024-12-13T23:35:24+01:00",
          "2024-12-13T23:36:24+01:00",
          "2024-12-13T23:37:25+01:00",
          "2024-12-13T23:38:26+01:00"
         ],
         "xaxis": "x",
         "y": [
          68.7,
          73.7,
          74.2,
          74.1,
          73.9,
          74.9,
          74.8,
          74.8,
          75,
          78.9,
          79,
          78.8,
          78.9,
          79.1,
          79.1,
          79.4,
          79,
          78.9,
          79.2,
          79.5,
          79.1,
          79.3,
          79.1,
          79,
          79.2,
          79.1,
          79,
          79.4
         ],
         "yaxis": "y"
        },
        {
         "hovertemplate": "device=temp_interior<br>metric=vpd<br>variable=vpd<br>fecha=%{x}<br>value=%{y}<extra></extra>",
         "legendgroup": "temp_interior, vpd",
         "line": {
          "color": "#636efa",
          "dash": "dash"
         },
         "marker": {
          "symbol": "circle"
         },
         "mode": "lines",
         "name": "temp_interior, vpd",
         "orientation": "v",
         "showlegend": false,
         "type": "scatter",
         "x": [
          "2024-12-13T16:41:31+01:00",
          "2024-12-13T18:21:15+01:00",
          "2024-12-13T18:25:20+01:00",
          "2024-12-13T18:25:58+01:00",
          "2024-12-13T18:26:08+01:00",
          "2024-12-13T18:28:55+01:00",
          "2024-12-13T18:29:12+01:00",
          "2024-12-13T18:29:46+01:00",
          "2024-12-13T18:30:08+01:00",
          "2024-12-13T22:58:09+01:00",
          "2024-12-13T23:00:08+01:00",
          "2024-12-13T23:02:50+01:00",
          "2024-12-13T23:05:30+01:00",
          "2024-12-13T23:06:29+01:00",
          "2024-12-13T23:23:44+01:00",
          "2024-12-13T23:24:10+01:00",
          "2024-12-13T23:26:22+01:00",
          "2024-12-13T23:27:24+01:00",
          "2024-12-13T23:28:25+01:00",
          "2024-12-13T23:29:26+01:00",
          "2024-12-13T23:30:16+01:00",
          "2024-12-13T23:31:17+01:00",
          "2024-12-13T23:32:15+01:00",
          "2024-12-13T23:32:27+01:00",
          "2024-12-13T23:35:24+01:00",
          "2024-12-13T23:36:24+01:00",
          "2024-12-13T23:37:25+01:00",
          "2024-12-13T23:38:26+01:00"
         ],
         "xaxis": "x",
         "y": [
          3.773259580472253,
          2.810259558263753,
          2.738279971455375,
          2.7862533975657175,
          2.770120436239738,
          2.646043270834385,
          2.656585275897471,
          2.656585275897471,
          2.6355012657713006,
          1.8114888015143995,
          1.802903546530918,
          1.8075021480902356,
          1.798976194561507,
          1.7819242875040535,
          1.7573624288342966,
          1.7321371308127507,
          1.7657708615081447,
          1.7741792941819927,
          1.7368435776753444,
          1.7237286981389017,
          1.7451937871833998,
          1.7405455634866005,
          1.7573624288342966,
          1.7657708615081447,
          1.7489539961604468,
          1.7451937871833998,
          1.7535439966914534,
          1.7201431586592353
         ],
         "yaxis": "y"
        }
       ],
       "layout": {
        "height": 800,
        "legend": {
         "title": {
          "text": "device, metric"
         },
         "tracegroupgap": 0
        },
        "template": {
         "data": {
          "bar": [
           {
            "error_x": {
             "color": "#2a3f5f"
            },
            "error_y": {
             "color": "#2a3f5f"
            },
            "marker": {
             "line": {
              "color": "#E5ECF6",
              "width": 0.5
             },
             "pattern": {
              "fillmode": "overlay",
              "size": 10,
              "solidity": 0.2
             }
            },
            "type": "bar"
           }
          ],
          "barpolar": [
           {
            "marker": {
             "line": {
              "color": "#E5ECF6",
              "width": 0.5
             },
             "pattern": {
              "fillmode": "overlay",
              "size": 10,
              "solidity": 0.2
             }
            },
            "type": "barpolar"
           }
          ],
          "carpet": [
           {
            "aaxis": {
             "endlinecolor": "#2a3f5f",
             "gridcolor": "white",
             "linecolor": "white",
             "minorgridcolor": "white",
             "startlinecolor": "#2a3f5f"
            },
            "baxis": {
             "endlinecolor": "#2a3f5f",
             "gridcolor": "white",
             "linecolor": "white",
             "minorgridcolor": "white",
             "startlinecolor": "#2a3f5f"
            },
            "type": "carpet"
           }
          ],
          "choropleth": [
           {
            "colorbar": {
             "outlinewidth": 0,
             "ticks": ""
            },
            "type": "choropleth"
           }
          ],
          "contour": [
           {
            "colorbar": {
             "outlinewidth": 0,
             "ticks": ""
            },
            "colorscale": [
             [
              0,
              "#0d0887"
             ],
             [
              0.1111111111111111,
              "#46039f"
             ],
             [
              0.2222222222222222,
              "#7201a8"
             ],
             [
              0.3333333333333333,
              "#9c179e"
             ],
             [
              0.4444444444444444,
              "#bd3786"
             ],
             [
              0.5555555555555556,
              "#d8576b"
             ],
             [
              0.6666666666666666,
              "#ed7953"
             ],
             [
              0.7777777777777778,
              "#fb9f3a"
             ],
             [
              0.8888888888888888,
              "#fdca26"
             ],
             [
              1,
              "#f0f921"
             ]
            ],
            "type": "contour"
           }
          ],
          "contourcarpet": [
           {
            "colorbar": {
             "outlinewidth": 0,
             "ticks": ""
            },
            "type": "contourcarpet"
           }
          ],
          "heatmap": [
           {
            "colorbar": {
             "outlinewidth": 0,
             "ticks": ""
            },
            "colorscale": [
             [
              0,
              "#0d0887"
             ],
             [
              0.1111111111111111,
              "#46039f"
             ],
             [
              0.2222222222222222,
              "#7201a8"
             ],
             [
              0.3333333333333333,
              "#9c179e"
             ],
             [
              0.4444444444444444,
              "#bd3786"
             ],
             [
              0.5555555555555556,
              "#d8576b"
             ],
             [
              0.6666666666666666,
              "#ed7953"
             ],
             [
              0.7777777777777778,
              "#fb9f3a"
             ],
             [
              0.8888888888888888,
              "#fdca26"
             ],
             [
              1,
              "#f0f921"
             ]
            ],
            "type": "heatmap"
           }
          ],
          "heatmapgl": [
           {
            "colorbar": {
             "outlinewidth": 0,
             "ticks": ""
            },
            "colorscale": [
             [
              0,
              "#0d0887"
             ],
             [
              0.1111111111111111,
              "#46039f"
             ],
             [
              0.2222222222222222,
              "#7201a8"
             ],
             [
              0.3333333333333333,
              "#9c179e"
             ],
             [
              0.4444444444444444,
              "#bd3786"
             ],
             [
              0.5555555555555556,
              "#d8576b"
             ],
             [
              0.6666666666666666,
              "#ed7953"
             ],
             [
              0.7777777777777778,
              "#fb9f3a"
             ],
             [
              0.8888888888888888,
              "#fdca26"
             ],
             [
              1,
              "#f0f921"
             ]
            ],
            "type": "heatmapgl"
           }
          ],
          "histogram": [
           {
            "marker": {
             "pattern": {
              "fillmode": "overlay",
              "size": 10,
              "solidity": 0.2
             }
            },
            "type": "histogram"
           }
          ],
          "histogram2d": [
           {
            "colorbar": {
             "outlinewidth": 0,
             "ticks": ""
            },
            "colorscale": [
             [
              0,
              "#0d0887"
             ],
             [
              0.1111111111111111,
              "#46039f"
             ],
             [
              0.2222222222222222,
              "#7201a8"
             ],
             [
              0.3333333333333333,
              "#9c179e"
             ],
             [
              0.4444444444444444,
              "#bd3786"
             ],
             [
              0.5555555555555556,
              "#d8576b"
             ],
             [
              0.6666666666666666,
              "#ed7953"
             ],
             [
              0.7777777777777778,
              "#fb9f3a"
             ],
             [
              0.8888888888888888,
              "#fdca26"
             ],
             [
              1,
              "#f0f921"
             ]
            ],
            "type": "histogram2d"
           }
          ],
          "histogram2dcontour": [
           {
            "colorbar": {
             "outlinewidth": 0,
             "ticks": ""
            },
            "colorscale": [
             [
              0,
              "#0d0887"
             ],
             [
              0.1111111111111111,
              "#46039f"
             ],
             [
              0.2222222222222222,
              "#7201a8"
             ],
             [
              0.3333333333333333,
              "#9c179e"
             ],
             [
              0.4444444444444444,
              "#bd3786"
             ],
             [
              0.5555555555555556,
              "#d8576b"
             ],
             [
              0.6666666666666666,
              "#ed7953"
             ],
             [
              0.7777777777777778,
              "#fb9f3a"
             ],
             [
              0.8888888888888888,
              "#fdca26"
             ],
             [
              1,
              "#f0f921"
             ]
            ],
            "type": "histogram2dcontour"
           }
          ],
          "mesh3d": [
           {
            "colorbar": {
             "outlinewidth": 0,
             "ticks": ""
            },
            "type": "mesh3d"
           }
          ],
          "parcoords": [
           {
            "line": {
             "colorbar": {
              "outlinewidth": 0,
              "ticks": ""
             }
            },
            "type": "parcoords"
           }
          ],
          "pie": [
           {
            "automargin": true,
            "type": "pie"
           }
          ],
          "scatter": [
           {
            "fillpattern": {
             "fillmode": "overlay",
             "size": 10,
             "solidity": 0.2
            },
            "type": "scatter"
           }
          ],
          "scatter3d": [
           {
            "line": {
             "colorbar": {
              "outlinewidth": 0,
              "ticks": ""
             }
            },
            "marker": {
             "colorbar": {
              "outlinewidth": 0,
              "ticks": ""
             }
            },
            "type": "scatter3d"
           }
          ],
          "scattercarpet": [
           {
            "marker": {
             "colorbar": {
              "outlinewidth": 0,
              "ticks": ""
             }
            },
            "type": "scattercarpet"
           }
          ],
          "scattergeo": [
           {
            "marker": {
             "colorbar": {
              "outlinewidth": 0,
              "ticks": ""
             }
            },
            "type": "scattergeo"
           }
          ],
          "scattergl": [
           {
            "marker": {
             "colorbar": {
              "outlinewidth": 0,
              "ticks": ""
             }
            },
            "type": "scattergl"
           }
          ],
          "scattermapbox": [
           {
            "marker": {
             "colorbar": {
              "outlinewidth": 0,
              "ticks": ""
             }
            },
            "type": "scattermapbox"
           }
          ],
          "scatterpolar": [
           {
            "marker": {
             "colorbar": {
              "outlinewidth": 0,
              "ticks": ""
             }
            },
            "type": "scatterpolar"
           }
          ],
          "scatterpolargl": [
           {
            "marker": {
             "colorbar": {
              "outlinewidth": 0,
              "ticks": ""
             }
            },
            "type": "scatterpolargl"
           }
          ],
          "scatterternary": [
           {
            "marker": {
             "colorbar": {
              "outlinewidth": 0,
              "ticks": ""
             }
            },
            "type": "scatterternary"
           }
          ],
          "surface": [
           {
            "colorbar": {
             "outlinewidth": 0,
             "ticks": ""
            },
            "colorscale": [
             [
              0,
              "#0d0887"
             ],
             [
              0.1111111111111111,
              "#46039f"
             ],
             [
              0.2222222222222222,
              "#7201a8"
             ],
             [
              0.3333333333333333,
              "#9c179e"
             ],
             [
              0.4444444444444444,
              "#bd3786"
             ],
             [
              0.5555555555555556,
              "#d8576b"
             ],
             [
              0.6666666666666666,
              "#ed7953"
             ],
             [
              0.7777777777777778,
              "#fb9f3a"
             ],
             [
              0.8888888888888888,
              "#fdca26"
             ],
             [
              1,
              "#f0f921"
             ]
            ],
            "type": "surface"
           }
          ],
          "table": [
           {
            "cells": {
             "fill": {
              "color": "#EBF0F8"
             },
             "line": {
              "color": "white"
             }
            },
            "header": {
             "fill": {
              "color": "#C8D4E3"
             },
             "line": {
              "color": "white"
             }
            },
            "type": "table"
           }
          ]
         },
         "layout": {
          "annotationdefaults": {
           "arrowcolor": "#2a3f5f",
           "arrowhead": 0,
           "arrowwidth": 1
          },
          "autotypenumbers": "strict",
          "coloraxis": {
           "colorbar": {
            "outlinewidth": 0,
            "ticks": ""
           }
          },
          "colorscale": {
           "diverging": [
            [
             0,
             "#8e0152"
            ],
            [
             0.1,
             "#c51b7d"
            ],
            [
             0.2,
             "#de77ae"
            ],
            [
             0.3,
             "#f1b6da"
            ],
            [
             0.4,
             "#fde0ef"
            ],
            [
             0.5,
             "#f7f7f7"
            ],
            [
             0.6,
             "#e6f5d0"
            ],
            [
             0.7,
             "#b8e186"
            ],
            [
             0.8,
             "#7fbc41"
            ],
            [
             0.9,
             "#4d9221"
            ],
            [
             1,
             "#276419"
            ]
           ],
           "sequential": [
            [
             0,
             "#0d0887"
            ],
            [
             0.1111111111111111,
             "#46039f"
            ],
            [
             0.2222222222222222,
             "#7201a8"
            ],
            [
             0.3333333333333333,
             "#9c179e"
            ],
            [
             0.4444444444444444,
             "#bd3786"
            ],
            [
             0.5555555555555556,
             "#d8576b"
            ],
            [
             0.6666666666666666,
             "#ed7953"
            ],
            [
             0.7777777777777778,
             "#fb9f3a"
            ],
            [
             0.8888888888888888,
             "#fdca26"
            ],
            [
             1,
             "#f0f921"
            ]
           ],
           "sequentialminus": [
            [
             0,
             "#0d0887"
            ],
            [
             0.1111111111111111,
             "#46039f"
            ],
            [
             0.2222222222222222,
             "#7201a8"
            ],
            [
             0.3333333333333333,
             "#9c179e"
            ],
            [
             0.4444444444444444,
             "#bd3786"
            ],
            [
             0.5555555555555556,
             "#d8576b"
            ],
            [
             0.6666666666666666,
             "#ed7953"
            ],
            [
             0.7777777777777778,
             "#fb9f3a"
            ],
            [
             0.8888888888888888,
             "#fdca26"
            ],
            [
             1,
             "#f0f921"
            ]
           ]
          },
          "colorway": [
           "#636efa",
           "#EF553B",
           "#00cc96",
           "#ab63fa",
           "#FFA15A",
           "#19d3f3",
           "#FF6692",
           "#B6E880",
           "#FF97FF",
           "#FECB52"
          ],
          "font": {
           "color": "#2a3f5f"
          },
          "geo": {
           "bgcolor": "white",
           "lakecolor": "white",
           "landcolor": "#E5ECF6",
           "showlakes": true,
           "showland": true,
           "subunitcolor": "white"
          },
          "hoverlabel": {
           "align": "left"
          },
          "hovermode": "closest",
          "mapbox": {
           "style": "light"
          },
          "paper_bgcolor": "white",
          "plot_bgcolor": "#E5ECF6",
          "polar": {
           "angularaxis": {
            "gridcolor": "white",
            "linecolor": "white",
            "ticks": ""
           },
           "bgcolor": "#E5ECF6",
           "radialaxis": {
            "gridcolor": "white",
            "linecolor": "white",
            "ticks": ""
           }
          },
          "scene": {
           "xaxis": {
            "backgroundcolor": "#E5ECF6",
            "gridcolor": "white",
            "gridwidth": 2,
            "linecolor": "white",
            "showbackground": true,
            "ticks": "",
            "zerolinecolor": "white"
           },
           "yaxis": {
            "backgroundcolor": "#E5ECF6",
            "gridcolor": "white",
            "gridwidth": 2,
            "linecolor": "white",
            "showbackground": true,
            "ticks": "",
            "zerolinecolor": "white"
           },
           "zaxis": {
            "backgroundcolor": "#E5ECF6",
            "gridcolor": "white",
            "gridwidth": 2,
            "linecolor": "white",
            "showbackground": true,
            "ticks": "",
            "zerolinecolor": "white"
           }
          },
          "shapedefaults": {
           "line": {
            "color": "#2a3f5f"
           }
          },
          "ternary": {
           "aaxis": {
            "gridcolor": "white",
            "linecolor": "white",
            "ticks": ""
           },
           "baxis": {
            "gridcolor": "white",
            "linecolor": "white",
            "ticks": ""
           },
           "bgcolor": "#E5ECF6",
           "caxis": {
            "gridcolor": "white",
            "linecolor": "white",
            "ticks": ""
           }
          },
          "title": {
           "x": 0.05
          },
          "xaxis": {
           "automargin": true,
           "gridcolor": "white",
           "linecolor": "white",
           "ticks": "",
           "title": {
            "standoff": 15
           },
           "zerolinecolor": "white",
           "zerolinewidth": 2
          },
          "yaxis": {
           "automargin": true,
           "gridcolor": "white",
           "linecolor": "white",
           "ticks": "",
           "title": {
            "standoff": 15
           },
           "zerolinecolor": "white",
           "zerolinewidth": 2
          }
         }
        },
        "title": {
         "text": "Combined Metrics Plot"
        },
        "xaxis": {
         "anchor": "y",
         "domain": [
          0,
          1
         ],
         "title": {
          "text": "fecha"
         }
        },
        "yaxis": {
         "anchor": "x",
         "domain": [
          0,
          1
         ],
         "title": {
          "text": "value"
         }
        }
       }
      }
     },
     "metadata": {},
     "output_type": "display_data"
    },
    {
     "data": {
      "application/vnd.plotly.v1+json": {
       "config": {
        "plotlyServerURL": "https://plot.ly"
       },
       "data": [
        {
         "hovertemplate": "device=temp_exterior<br>metric=temperature<br>variable=temperature<br>fecha=%{x}<br>value=%{y}<extra></extra>",
         "legendgroup": "temp_exterior, temperature",
         "line": {
          "color": "#636efa",
          "dash": "solid"
         },
         "marker": {
          "symbol": "circle"
         },
         "mode": "lines",
         "name": "temp_exterior, temperature",
         "orientation": "v",
         "showlegend": true,
         "type": "scatter",
         "x": [
          "2024-12-13T16:41:31+01:00",
          "2024-12-13T18:21:15+01:00",
          "2024-12-13T18:25:21+01:00",
          "2024-12-13T18:25:58+01:00",
          "2024-12-13T18:26:08+01:00",
          "2024-12-13T18:28:55+01:00",
          "2024-12-13T18:29:12+01:00",
          "2024-12-13T18:29:46+01:00",
          "2024-12-13T18:30:08+01:00",
          "2024-12-13T22:58:09+01:00",
          "2024-12-13T23:00:08+01:00",
          "2024-12-13T23:02:50+01:00",
          "2024-12-13T23:05:30+01:00",
          "2024-12-13T23:06:29+01:00",
          "2024-12-13T23:23:45+01:00",
          "2024-12-13T23:24:10+01:00",
          "2024-12-13T23:26:22+01:00",
          "2024-12-13T23:27:24+01:00",
          "2024-12-13T23:28:25+01:00",
          "2024-12-13T23:29:26+01:00",
          "2024-12-13T23:30:16+01:00",
          "2024-12-13T23:31:17+01:00",
          "2024-12-13T23:32:15+01:00",
          "2024-12-13T23:32:27+01:00",
          "2024-12-13T23:35:24+01:00",
          "2024-12-13T23:36:24+01:00",
          "2024-12-13T23:37:25+01:00",
          "2024-12-13T23:38:26+01:00"
         ],
         "xaxis": "x",
         "y": [
          8.3,
          7.4,
          7.4,
          7.4,
          7.4,
          7.4,
          7.4,
          7.4,
          7.4,
          4.1,
          3.9,
          3.6,
          3.8,
          4,
          4.3,
          4.2,
          4.2,
          4,
          3.9,
          3.8,
          3.7,
          3.6,
          3.6,
          3.6,
          3.6,
          3.5,
          3.4,
          3.4
         ],
         "yaxis": "y"
        },
        {
         "hovertemplate": "device=temp_exterior<br>metric=temperature<br>variable=humidity<br>fecha=%{x}<br>value=%{y}<extra></extra>",
         "legendgroup": "temp_exterior, temperature",
         "line": {
          "color": "#636efa",
          "dash": "solid"
         },
         "marker": {
          "symbol": "circle"
         },
         "mode": "lines",
         "name": "temp_exterior, temperature",
         "orientation": "v",
         "showlegend": false,
         "type": "scatter",
         "x": [
          "2024-12-13T16:41:31+01:00",
          "2024-12-13T18:21:15+01:00",
          "2024-12-13T18:25:21+01:00",
          "2024-12-13T18:25:58+01:00",
          "2024-12-13T18:26:08+01:00",
          "2024-12-13T18:28:55+01:00",
          "2024-12-13T18:29:12+01:00",
          "2024-12-13T18:29:46+01:00",
          "2024-12-13T18:30:08+01:00",
          "2024-12-13T22:58:09+01:00",
          "2024-12-13T23:00:08+01:00",
          "2024-12-13T23:02:50+01:00",
          "2024-12-13T23:05:30+01:00",
          "2024-12-13T23:06:29+01:00",
          "2024-12-13T23:23:45+01:00",
          "2024-12-13T23:24:10+01:00",
          "2024-12-13T23:26:22+01:00",
          "2024-12-13T23:27:24+01:00",
          "2024-12-13T23:28:25+01:00",
          "2024-12-13T23:29:26+01:00",
          "2024-12-13T23:30:16+01:00",
          "2024-12-13T23:31:17+01:00",
          "2024-12-13T23:32:15+01:00",
          "2024-12-13T23:32:27+01:00",
          "2024-12-13T23:35:24+01:00",
          "2024-12-13T23:36:24+01:00",
          "2024-12-13T23:37:25+01:00",
          "2024-12-13T23:38:26+01:00"
         ],
         "xaxis": "x",
         "y": [
          null,
          null,
          null,
          null,
          null,
          null,
          null,
          null,
          null,
          null,
          null,
          null,
          null,
          null,
          null,
          null,
          null,
          null,
          null,
          null,
          null,
          null,
          null,
          null,
          null,
          null,
          null,
          null
         ],
         "yaxis": "y"
        },
        {
         "hovertemplate": "device=temp_exterior<br>metric=temperature<br>variable=vpd<br>fecha=%{x}<br>value=%{y}<extra></extra>",
         "legendgroup": "temp_exterior, temperature",
         "line": {
          "color": "#636efa",
          "dash": "solid"
         },
         "marker": {
          "symbol": "circle"
         },
         "mode": "lines",
         "name": "temp_exterior, temperature",
         "orientation": "v",
         "showlegend": false,
         "type": "scatter",
         "x": [
          "2024-12-13T16:41:31+01:00",
          "2024-12-13T18:21:15+01:00",
          "2024-12-13T18:25:21+01:00",
          "2024-12-13T18:25:58+01:00",
          "2024-12-13T18:26:08+01:00",
          "2024-12-13T18:28:55+01:00",
          "2024-12-13T18:29:12+01:00",
          "2024-12-13T18:29:46+01:00",
          "2024-12-13T18:30:08+01:00",
          "2024-12-13T22:58:09+01:00",
          "2024-12-13T23:00:08+01:00",
          "2024-12-13T23:02:50+01:00",
          "2024-12-13T23:05:30+01:00",
          "2024-12-13T23:06:29+01:00",
          "2024-12-13T23:23:45+01:00",
          "2024-12-13T23:24:10+01:00",
          "2024-12-13T23:26:22+01:00",
          "2024-12-13T23:27:24+01:00",
          "2024-12-13T23:28:25+01:00",
          "2024-12-13T23:29:26+01:00",
          "2024-12-13T23:30:16+01:00",
          "2024-12-13T23:31:17+01:00",
          "2024-12-13T23:32:15+01:00",
          "2024-12-13T23:32:27+01:00",
          "2024-12-13T23:35:24+01:00",
          "2024-12-13T23:36:24+01:00",
          "2024-12-13T23:37:25+01:00",
          "2024-12-13T23:38:26+01:00"
         ],
         "xaxis": "x",
         "y": [
          null,
          null,
          null,
          null,
          null,
          null,
          null,
          null,
          null,
          null,
          null,
          null,
          null,
          null,
          null,
          null,
          null,
          null,
          null,
          null,
          null,
          null,
          null,
          null,
          null,
          null,
          null,
          null
         ],
         "yaxis": "y"
        },
        {
         "hovertemplate": "device=temp_exterior<br>metric=humidity<br>variable=temperature<br>fecha=%{x}<br>value=%{y}<extra></extra>",
         "legendgroup": "temp_exterior, humidity",
         "line": {
          "color": "#636efa",
          "dash": "dot"
         },
         "marker": {
          "symbol": "circle"
         },
         "mode": "lines",
         "name": "temp_exterior, humidity",
         "orientation": "v",
         "showlegend": true,
         "type": "scatter",
         "x": [
          "2024-12-13T16:41:31+01:00",
          "2024-12-13T18:21:15+01:00",
          "2024-12-13T18:25:21+01:00",
          "2024-12-13T18:25:58+01:00",
          "2024-12-13T18:26:08+01:00",
          "2024-12-13T18:28:55+01:00",
          "2024-12-13T18:29:12+01:00",
          "2024-12-13T18:29:46+01:00",
          "2024-12-13T18:30:08+01:00",
          "2024-12-13T22:58:09+01:00",
          "2024-12-13T23:00:08+01:00",
          "2024-12-13T23:02:50+01:00",
          "2024-12-13T23:05:30+01:00",
          "2024-12-13T23:06:29+01:00",
          "2024-12-13T23:23:45+01:00",
          "2024-12-13T23:24:10+01:00",
          "2024-12-13T23:26:22+01:00",
          "2024-12-13T23:27:24+01:00",
          "2024-12-13T23:28:25+01:00",
          "2024-12-13T23:29:26+01:00",
          "2024-12-13T23:30:16+01:00",
          "2024-12-13T23:31:17+01:00",
          "2024-12-13T23:32:15+01:00",
          "2024-12-13T23:32:27+01:00",
          "2024-12-13T23:35:24+01:00",
          "2024-12-13T23:36:24+01:00",
          "2024-12-13T23:37:25+01:00",
          "2024-12-13T23:38:26+01:00"
         ],
         "xaxis": "x",
         "y": [
          null,
          null,
          null,
          null,
          null,
          null,
          null,
          null,
          null,
          null,
          null,
          null,
          null,
          null,
          null,
          null,
          null,
          null,
          null,
          null,
          null,
          null,
          null,
          null,
          null,
          null,
          null,
          null
         ],
         "yaxis": "y"
        },
        {
         "hovertemplate": "device=temp_exterior<br>metric=humidity<br>variable=humidity<br>fecha=%{x}<br>value=%{y}<extra></extra>",
         "legendgroup": "temp_exterior, humidity",
         "line": {
          "color": "#636efa",
          "dash": "dot"
         },
         "marker": {
          "symbol": "circle"
         },
         "mode": "lines",
         "name": "temp_exterior, humidity",
         "orientation": "v",
         "showlegend": false,
         "type": "scatter",
         "x": [
          "2024-12-13T16:41:31+01:00",
          "2024-12-13T18:21:15+01:00",
          "2024-12-13T18:25:21+01:00",
          "2024-12-13T18:25:58+01:00",
          "2024-12-13T18:26:08+01:00",
          "2024-12-13T18:28:55+01:00",
          "2024-12-13T18:29:12+01:00",
          "2024-12-13T18:29:46+01:00",
          "2024-12-13T18:30:08+01:00",
          "2024-12-13T22:58:09+01:00",
          "2024-12-13T23:00:08+01:00",
          "2024-12-13T23:02:50+01:00",
          "2024-12-13T23:05:30+01:00",
          "2024-12-13T23:06:29+01:00",
          "2024-12-13T23:23:45+01:00",
          "2024-12-13T23:24:10+01:00",
          "2024-12-13T23:26:22+01:00",
          "2024-12-13T23:27:24+01:00",
          "2024-12-13T23:28:25+01:00",
          "2024-12-13T23:29:26+01:00",
          "2024-12-13T23:30:16+01:00",
          "2024-12-13T23:31:17+01:00",
          "2024-12-13T23:32:15+01:00",
          "2024-12-13T23:32:27+01:00",
          "2024-12-13T23:35:24+01:00",
          "2024-12-13T23:36:24+01:00",
          "2024-12-13T23:37:25+01:00",
          "2024-12-13T23:38:26+01:00"
         ],
         "xaxis": "x",
         "y": [
          52.9,
          52.7,
          52.7,
          52.7,
          52.7,
          52.7,
          52.7,
          52.7,
          52.7,
          52,
          51.9,
          51.8,
          51.9,
          52,
          52,
          52,
          52,
          52,
          51.9,
          51.9,
          51.9,
          51.9,
          51.8,
          51.8,
          51.9,
          51.8,
          51.8,
          51.8
         ],
         "yaxis": "y"
        },
        {
         "hovertemplate": "device=temp_exterior<br>metric=humidity<br>variable=vpd<br>fecha=%{x}<br>value=%{y}<extra></extra>",
         "legendgroup": "temp_exterior, humidity",
         "line": {
          "color": "#636efa",
          "dash": "dot"
         },
         "marker": {
          "symbol": "circle"
         },
         "mode": "lines",
         "name": "temp_exterior, humidity",
         "orientation": "v",
         "showlegend": false,
         "type": "scatter",
         "x": [
          "2024-12-13T16:41:31+01:00",
          "2024-12-13T18:21:15+01:00",
          "2024-12-13T18:25:21+01:00",
          "2024-12-13T18:25:58+01:00",
          "2024-12-13T18:26:08+01:00",
          "2024-12-13T18:28:55+01:00",
          "2024-12-13T18:29:12+01:00",
          "2024-12-13T18:29:46+01:00",
          "2024-12-13T18:30:08+01:00",
          "2024-12-13T22:58:09+01:00",
          "2024-12-13T23:00:08+01:00",
          "2024-12-13T23:02:50+01:00",
          "2024-12-13T23:05:30+01:00",
          "2024-12-13T23:06:29+01:00",
          "2024-12-13T23:23:45+01:00",
          "2024-12-13T23:24:10+01:00",
          "2024-12-13T23:26:22+01:00",
          "2024-12-13T23:27:24+01:00",
          "2024-12-13T23:28:25+01:00",
          "2024-12-13T23:29:26+01:00",
          "2024-12-13T23:30:16+01:00",
          "2024-12-13T23:31:17+01:00",
          "2024-12-13T23:32:15+01:00",
          "2024-12-13T23:32:27+01:00",
          "2024-12-13T23:35:24+01:00",
          "2024-12-13T23:36:24+01:00",
          "2024-12-13T23:37:25+01:00",
          "2024-12-13T23:38:26+01:00"
         ],
         "xaxis": "x",
         "y": [
          null,
          null,
          null,
          null,
          null,
          null,
          null,
          null,
          null,
          null,
          null,
          null,
          null,
          null,
          null,
          null,
          null,
          null,
          null,
          null,
          null,
          null,
          null,
          null,
          null,
          null,
          null,
          null
         ],
         "yaxis": "y"
        },
        {
         "hovertemplate": "device=temp_exterior<br>metric=vpd<br>variable=temperature<br>fecha=%{x}<br>value=%{y}<extra></extra>",
         "legendgroup": "temp_exterior, vpd",
         "line": {
          "color": "#636efa",
          "dash": "dash"
         },
         "marker": {
          "symbol": "circle"
         },
         "mode": "lines",
         "name": "temp_exterior, vpd",
         "orientation": "v",
         "showlegend": true,
         "type": "scatter",
         "x": [
          "2024-12-13T16:41:31+01:00",
          "2024-12-13T18:21:15+01:00",
          "2024-12-13T18:25:21+01:00",
          "2024-12-13T18:25:58+01:00",
          "2024-12-13T18:26:08+01:00",
          "2024-12-13T18:28:55+01:00",
          "2024-12-13T18:29:12+01:00",
          "2024-12-13T18:29:46+01:00",
          "2024-12-13T18:30:08+01:00",
          "2024-12-13T22:58:09+01:00",
          "2024-12-13T23:00:08+01:00",
          "2024-12-13T23:02:50+01:00",
          "2024-12-13T23:05:30+01:00",
          "2024-12-13T23:06:29+01:00",
          "2024-12-13T23:23:45+01:00",
          "2024-12-13T23:24:10+01:00",
          "2024-12-13T23:26:22+01:00",
          "2024-12-13T23:27:24+01:00",
          "2024-12-13T23:28:25+01:00",
          "2024-12-13T23:29:26+01:00",
          "2024-12-13T23:30:16+01:00",
          "2024-12-13T23:31:17+01:00",
          "2024-12-13T23:32:15+01:00",
          "2024-12-13T23:32:27+01:00",
          "2024-12-13T23:35:24+01:00",
          "2024-12-13T23:36:24+01:00",
          "2024-12-13T23:37:25+01:00",
          "2024-12-13T23:38:26+01:00"
         ],
         "xaxis": "x",
         "y": [
          8.3,
          7.4,
          7.4,
          7.4,
          7.4,
          7.4,
          7.4,
          7.4,
          7.4,
          4.1,
          3.9,
          3.6,
          3.8,
          4,
          4.3,
          4.2,
          4.2,
          4,
          3.9,
          3.8,
          3.7,
          3.6,
          3.6,
          3.6,
          3.6,
          3.5,
          3.4,
          3.4
         ],
         "yaxis": "y"
        },
        {
         "hovertemplate": "device=temp_exterior<br>metric=vpd<br>variable=humidity<br>fecha=%{x}<br>value=%{y}<extra></extra>",
         "legendgroup": "temp_exterior, vpd",
         "line": {
          "color": "#636efa",
          "dash": "dash"
         },
         "marker": {
          "symbol": "circle"
         },
         "mode": "lines",
         "name": "temp_exterior, vpd",
         "orientation": "v",
         "showlegend": false,
         "type": "scatter",
         "x": [
          "2024-12-13T16:41:31+01:00",
          "2024-12-13T18:21:15+01:00",
          "2024-12-13T18:25:21+01:00",
          "2024-12-13T18:25:58+01:00",
          "2024-12-13T18:26:08+01:00",
          "2024-12-13T18:28:55+01:00",
          "2024-12-13T18:29:12+01:00",
          "2024-12-13T18:29:46+01:00",
          "2024-12-13T18:30:08+01:00",
          "2024-12-13T22:58:09+01:00",
          "2024-12-13T23:00:08+01:00",
          "2024-12-13T23:02:50+01:00",
          "2024-12-13T23:05:30+01:00",
          "2024-12-13T23:06:29+01:00",
          "2024-12-13T23:23:45+01:00",
          "2024-12-13T23:24:10+01:00",
          "2024-12-13T23:26:22+01:00",
          "2024-12-13T23:27:24+01:00",
          "2024-12-13T23:28:25+01:00",
          "2024-12-13T23:29:26+01:00",
          "2024-12-13T23:30:16+01:00",
          "2024-12-13T23:31:17+01:00",
          "2024-12-13T23:32:15+01:00",
          "2024-12-13T23:32:27+01:00",
          "2024-12-13T23:35:24+01:00",
          "2024-12-13T23:36:24+01:00",
          "2024-12-13T23:37:25+01:00",
          "2024-12-13T23:38:26+01:00"
         ],
         "xaxis": "x",
         "y": [
          52.9,
          52.7,
          52.7,
          52.7,
          52.7,
          52.7,
          52.7,
          52.7,
          52.7,
          52,
          51.9,
          51.8,
          51.9,
          52,
          52,
          52,
          52,
          52,
          51.9,
          51.9,
          51.9,
          51.9,
          51.8,
          51.8,
          51.9,
          51.8,
          51.8,
          51.8
         ],
         "yaxis": "y"
        },
        {
         "hovertemplate": "device=temp_exterior<br>metric=vpd<br>variable=vpd<br>fecha=%{x}<br>value=%{y}<extra></extra>",
         "legendgroup": "temp_exterior, vpd",
         "line": {
          "color": "#636efa",
          "dash": "dash"
         },
         "marker": {
          "symbol": "circle"
         },
         "mode": "lines",
         "name": "temp_exterior, vpd",
         "orientation": "v",
         "showlegend": false,
         "type": "scatter",
         "x": [
          "2024-12-13T16:41:31+01:00",
          "2024-12-13T18:21:15+01:00",
          "2024-12-13T18:25:21+01:00",
          "2024-12-13T18:25:58+01:00",
          "2024-12-13T18:26:08+01:00",
          "2024-12-13T18:28:55+01:00",
          "2024-12-13T18:29:12+01:00",
          "2024-12-13T18:29:46+01:00",
          "2024-12-13T18:30:08+01:00",
          "2024-12-13T22:58:09+01:00",
          "2024-12-13T23:00:08+01:00",
          "2024-12-13T23:02:50+01:00",
          "2024-12-13T23:05:30+01:00",
          "2024-12-13T23:06:29+01:00",
          "2024-12-13T23:23:45+01:00",
          "2024-12-13T23:24:10+01:00",
          "2024-12-13T23:26:22+01:00",
          "2024-12-13T23:27:24+01:00",
          "2024-12-13T23:28:25+01:00",
          "2024-12-13T23:29:26+01:00",
          "2024-12-13T23:30:16+01:00",
          "2024-12-13T23:31:17+01:00",
          "2024-12-13T23:32:15+01:00",
          "2024-12-13T23:32:27+01:00",
          "2024-12-13T23:35:24+01:00",
          "2024-12-13T23:36:24+01:00",
          "2024-12-13T23:37:25+01:00",
          "2024-12-13T23:38:26+01:00"
         ],
         "xaxis": "x",
         "y": [
          4.767430787988387,
          4.50269628739917,
          4.50269628739917,
          4.50269628739917,
          4.50269628739917,
          4.50269628739917,
          4.50269628739917,
          4.50269628739917,
          4.50269628739917,
          3.6343653881330935,
          3.59103205861274,
          3.5231610425518873,
          3.565815814105128,
          3.6088869870112212,
          3.685798689417354,
          3.660002340499099,
          3.660002340499099,
          3.6088869870112212,
          3.59103205861274,
          3.565815814105128,
          3.5407559319779076,
          3.515851579808004,
          3.5231610425518873,
          3.5231610425518873,
          3.515851579808004,
          3.4983599369721414,
          3.4737130272956587,
          3.4737130272956587
         ],
         "yaxis": "y"
        }
       ],
       "layout": {
        "height": 800,
        "legend": {
         "title": {
          "text": "device, metric"
         },
         "tracegroupgap": 0
        },
        "template": {
         "data": {
          "bar": [
           {
            "error_x": {
             "color": "#2a3f5f"
            },
            "error_y": {
             "color": "#2a3f5f"
            },
            "marker": {
             "line": {
              "color": "#E5ECF6",
              "width": 0.5
             },
             "pattern": {
              "fillmode": "overlay",
              "size": 10,
              "solidity": 0.2
             }
            },
            "type": "bar"
           }
          ],
          "barpolar": [
           {
            "marker": {
             "line": {
              "color": "#E5ECF6",
              "width": 0.5
             },
             "pattern": {
              "fillmode": "overlay",
              "size": 10,
              "solidity": 0.2
             }
            },
            "type": "barpolar"
           }
          ],
          "carpet": [
           {
            "aaxis": {
             "endlinecolor": "#2a3f5f",
             "gridcolor": "white",
             "linecolor": "white",
             "minorgridcolor": "white",
             "startlinecolor": "#2a3f5f"
            },
            "baxis": {
             "endlinecolor": "#2a3f5f",
             "gridcolor": "white",
             "linecolor": "white",
             "minorgridcolor": "white",
             "startlinecolor": "#2a3f5f"
            },
            "type": "carpet"
           }
          ],
          "choropleth": [
           {
            "colorbar": {
             "outlinewidth": 0,
             "ticks": ""
            },
            "type": "choropleth"
           }
          ],
          "contour": [
           {
            "colorbar": {
             "outlinewidth": 0,
             "ticks": ""
            },
            "colorscale": [
             [
              0,
              "#0d0887"
             ],
             [
              0.1111111111111111,
              "#46039f"
             ],
             [
              0.2222222222222222,
              "#7201a8"
             ],
             [
              0.3333333333333333,
              "#9c179e"
             ],
             [
              0.4444444444444444,
              "#bd3786"
             ],
             [
              0.5555555555555556,
              "#d8576b"
             ],
             [
              0.6666666666666666,
              "#ed7953"
             ],
             [
              0.7777777777777778,
              "#fb9f3a"
             ],
             [
              0.8888888888888888,
              "#fdca26"
             ],
             [
              1,
              "#f0f921"
             ]
            ],
            "type": "contour"
           }
          ],
          "contourcarpet": [
           {
            "colorbar": {
             "outlinewidth": 0,
             "ticks": ""
            },
            "type": "contourcarpet"
           }
          ],
          "heatmap": [
           {
            "colorbar": {
             "outlinewidth": 0,
             "ticks": ""
            },
            "colorscale": [
             [
              0,
              "#0d0887"
             ],
             [
              0.1111111111111111,
              "#46039f"
             ],
             [
              0.2222222222222222,
              "#7201a8"
             ],
             [
              0.3333333333333333,
              "#9c179e"
             ],
             [
              0.4444444444444444,
              "#bd3786"
             ],
             [
              0.5555555555555556,
              "#d8576b"
             ],
             [
              0.6666666666666666,
              "#ed7953"
             ],
             [
              0.7777777777777778,
              "#fb9f3a"
             ],
             [
              0.8888888888888888,
              "#fdca26"
             ],
             [
              1,
              "#f0f921"
             ]
            ],
            "type": "heatmap"
           }
          ],
          "heatmapgl": [
           {
            "colorbar": {
             "outlinewidth": 0,
             "ticks": ""
            },
            "colorscale": [
             [
              0,
              "#0d0887"
             ],
             [
              0.1111111111111111,
              "#46039f"
             ],
             [
              0.2222222222222222,
              "#7201a8"
             ],
             [
              0.3333333333333333,
              "#9c179e"
             ],
             [
              0.4444444444444444,
              "#bd3786"
             ],
             [
              0.5555555555555556,
              "#d8576b"
             ],
             [
              0.6666666666666666,
              "#ed7953"
             ],
             [
              0.7777777777777778,
              "#fb9f3a"
             ],
             [
              0.8888888888888888,
              "#fdca26"
             ],
             [
              1,
              "#f0f921"
             ]
            ],
            "type": "heatmapgl"
           }
          ],
          "histogram": [
           {
            "marker": {
             "pattern": {
              "fillmode": "overlay",
              "size": 10,
              "solidity": 0.2
             }
            },
            "type": "histogram"
           }
          ],
          "histogram2d": [
           {
            "colorbar": {
             "outlinewidth": 0,
             "ticks": ""
            },
            "colorscale": [
             [
              0,
              "#0d0887"
             ],
             [
              0.1111111111111111,
              "#46039f"
             ],
             [
              0.2222222222222222,
              "#7201a8"
             ],
             [
              0.3333333333333333,
              "#9c179e"
             ],
             [
              0.4444444444444444,
              "#bd3786"
             ],
             [
              0.5555555555555556,
              "#d8576b"
             ],
             [
              0.6666666666666666,
              "#ed7953"
             ],
             [
              0.7777777777777778,
              "#fb9f3a"
             ],
             [
              0.8888888888888888,
              "#fdca26"
             ],
             [
              1,
              "#f0f921"
             ]
            ],
            "type": "histogram2d"
           }
          ],
          "histogram2dcontour": [
           {
            "colorbar": {
             "outlinewidth": 0,
             "ticks": ""
            },
            "colorscale": [
             [
              0,
              "#0d0887"
             ],
             [
              0.1111111111111111,
              "#46039f"
             ],
             [
              0.2222222222222222,
              "#7201a8"
             ],
             [
              0.3333333333333333,
              "#9c179e"
             ],
             [
              0.4444444444444444,
              "#bd3786"
             ],
             [
              0.5555555555555556,
              "#d8576b"
             ],
             [
              0.6666666666666666,
              "#ed7953"
             ],
             [
              0.7777777777777778,
              "#fb9f3a"
             ],
             [
              0.8888888888888888,
              "#fdca26"
             ],
             [
              1,
              "#f0f921"
             ]
            ],
            "type": "histogram2dcontour"
           }
          ],
          "mesh3d": [
           {
            "colorbar": {
             "outlinewidth": 0,
             "ticks": ""
            },
            "type": "mesh3d"
           }
          ],
          "parcoords": [
           {
            "line": {
             "colorbar": {
              "outlinewidth": 0,
              "ticks": ""
             }
            },
            "type": "parcoords"
           }
          ],
          "pie": [
           {
            "automargin": true,
            "type": "pie"
           }
          ],
          "scatter": [
           {
            "fillpattern": {
             "fillmode": "overlay",
             "size": 10,
             "solidity": 0.2
            },
            "type": "scatter"
           }
          ],
          "scatter3d": [
           {
            "line": {
             "colorbar": {
              "outlinewidth": 0,
              "ticks": ""
             }
            },
            "marker": {
             "colorbar": {
              "outlinewidth": 0,
              "ticks": ""
             }
            },
            "type": "scatter3d"
           }
          ],
          "scattercarpet": [
           {
            "marker": {
             "colorbar": {
              "outlinewidth": 0,
              "ticks": ""
             }
            },
            "type": "scattercarpet"
           }
          ],
          "scattergeo": [
           {
            "marker": {
             "colorbar": {
              "outlinewidth": 0,
              "ticks": ""
             }
            },
            "type": "scattergeo"
           }
          ],
          "scattergl": [
           {
            "marker": {
             "colorbar": {
              "outlinewidth": 0,
              "ticks": ""
             }
            },
            "type": "scattergl"
           }
          ],
          "scattermapbox": [
           {
            "marker": {
             "colorbar": {
              "outlinewidth": 0,
              "ticks": ""
             }
            },
            "type": "scattermapbox"
           }
          ],
          "scatterpolar": [
           {
            "marker": {
             "colorbar": {
              "outlinewidth": 0,
              "ticks": ""
             }
            },
            "type": "scatterpolar"
           }
          ],
          "scatterpolargl": [
           {
            "marker": {
             "colorbar": {
              "outlinewidth": 0,
              "ticks": ""
             }
            },
            "type": "scatterpolargl"
           }
          ],
          "scatterternary": [
           {
            "marker": {
             "colorbar": {
              "outlinewidth": 0,
              "ticks": ""
             }
            },
            "type": "scatterternary"
           }
          ],
          "surface": [
           {
            "colorbar": {
             "outlinewidth": 0,
             "ticks": ""
            },
            "colorscale": [
             [
              0,
              "#0d0887"
             ],
             [
              0.1111111111111111,
              "#46039f"
             ],
             [
              0.2222222222222222,
              "#7201a8"
             ],
             [
              0.3333333333333333,
              "#9c179e"
             ],
             [
              0.4444444444444444,
              "#bd3786"
             ],
             [
              0.5555555555555556,
              "#d8576b"
             ],
             [
              0.6666666666666666,
              "#ed7953"
             ],
             [
              0.7777777777777778,
              "#fb9f3a"
             ],
             [
              0.8888888888888888,
              "#fdca26"
             ],
             [
              1,
              "#f0f921"
             ]
            ],
            "type": "surface"
           }
          ],
          "table": [
           {
            "cells": {
             "fill": {
              "color": "#EBF0F8"
             },
             "line": {
              "color": "white"
             }
            },
            "header": {
             "fill": {
              "color": "#C8D4E3"
             },
             "line": {
              "color": "white"
             }
            },
            "type": "table"
           }
          ]
         },
         "layout": {
          "annotationdefaults": {
           "arrowcolor": "#2a3f5f",
           "arrowhead": 0,
           "arrowwidth": 1
          },
          "autotypenumbers": "strict",
          "coloraxis": {
           "colorbar": {
            "outlinewidth": 0,
            "ticks": ""
           }
          },
          "colorscale": {
           "diverging": [
            [
             0,
             "#8e0152"
            ],
            [
             0.1,
             "#c51b7d"
            ],
            [
             0.2,
             "#de77ae"
            ],
            [
             0.3,
             "#f1b6da"
            ],
            [
             0.4,
             "#fde0ef"
            ],
            [
             0.5,
             "#f7f7f7"
            ],
            [
             0.6,
             "#e6f5d0"
            ],
            [
             0.7,
             "#b8e186"
            ],
            [
             0.8,
             "#7fbc41"
            ],
            [
             0.9,
             "#4d9221"
            ],
            [
             1,
             "#276419"
            ]
           ],
           "sequential": [
            [
             0,
             "#0d0887"
            ],
            [
             0.1111111111111111,
             "#46039f"
            ],
            [
             0.2222222222222222,
             "#7201a8"
            ],
            [
             0.3333333333333333,
             "#9c179e"
            ],
            [
             0.4444444444444444,
             "#bd3786"
            ],
            [
             0.5555555555555556,
             "#d8576b"
            ],
            [
             0.6666666666666666,
             "#ed7953"
            ],
            [
             0.7777777777777778,
             "#fb9f3a"
            ],
            [
             0.8888888888888888,
             "#fdca26"
            ],
            [
             1,
             "#f0f921"
            ]
           ],
           "sequentialminus": [
            [
             0,
             "#0d0887"
            ],
            [
             0.1111111111111111,
             "#46039f"
            ],
            [
             0.2222222222222222,
             "#7201a8"
            ],
            [
             0.3333333333333333,
             "#9c179e"
            ],
            [
             0.4444444444444444,
             "#bd3786"
            ],
            [
             0.5555555555555556,
             "#d8576b"
            ],
            [
             0.6666666666666666,
             "#ed7953"
            ],
            [
             0.7777777777777778,
             "#fb9f3a"
            ],
            [
             0.8888888888888888,
             "#fdca26"
            ],
            [
             1,
             "#f0f921"
            ]
           ]
          },
          "colorway": [
           "#636efa",
           "#EF553B",
           "#00cc96",
           "#ab63fa",
           "#FFA15A",
           "#19d3f3",
           "#FF6692",
           "#B6E880",
           "#FF97FF",
           "#FECB52"
          ],
          "font": {
           "color": "#2a3f5f"
          },
          "geo": {
           "bgcolor": "white",
           "lakecolor": "white",
           "landcolor": "#E5ECF6",
           "showlakes": true,
           "showland": true,
           "subunitcolor": "white"
          },
          "hoverlabel": {
           "align": "left"
          },
          "hovermode": "closest",
          "mapbox": {
           "style": "light"
          },
          "paper_bgcolor": "white",
          "plot_bgcolor": "#E5ECF6",
          "polar": {
           "angularaxis": {
            "gridcolor": "white",
            "linecolor": "white",
            "ticks": ""
           },
           "bgcolor": "#E5ECF6",
           "radialaxis": {
            "gridcolor": "white",
            "linecolor": "white",
            "ticks": ""
           }
          },
          "scene": {
           "xaxis": {
            "backgroundcolor": "#E5ECF6",
            "gridcolor": "white",
            "gridwidth": 2,
            "linecolor": "white",
            "showbackground": true,
            "ticks": "",
            "zerolinecolor": "white"
           },
           "yaxis": {
            "backgroundcolor": "#E5ECF6",
            "gridcolor": "white",
            "gridwidth": 2,
            "linecolor": "white",
            "showbackground": true,
            "ticks": "",
            "zerolinecolor": "white"
           },
           "zaxis": {
            "backgroundcolor": "#E5ECF6",
            "gridcolor": "white",
            "gridwidth": 2,
            "linecolor": "white",
            "showbackground": true,
            "ticks": "",
            "zerolinecolor": "white"
           }
          },
          "shapedefaults": {
           "line": {
            "color": "#2a3f5f"
           }
          },
          "ternary": {
           "aaxis": {
            "gridcolor": "white",
            "linecolor": "white",
            "ticks": ""
           },
           "baxis": {
            "gridcolor": "white",
            "linecolor": "white",
            "ticks": ""
           },
           "bgcolor": "#E5ECF6",
           "caxis": {
            "gridcolor": "white",
            "linecolor": "white",
            "ticks": ""
           }
          },
          "title": {
           "x": 0.05
          },
          "xaxis": {
           "automargin": true,
           "gridcolor": "white",
           "linecolor": "white",
           "ticks": "",
           "title": {
            "standoff": 15
           },
           "zerolinecolor": "white",
           "zerolinewidth": 2
          },
          "yaxis": {
           "automargin": true,
           "gridcolor": "white",
           "linecolor": "white",
           "ticks": "",
           "title": {
            "standoff": 15
           },
           "zerolinecolor": "white",
           "zerolinewidth": 2
          }
         }
        },
        "title": {
         "text": "Combined Metrics Plot"
        },
        "xaxis": {
         "anchor": "y",
         "domain": [
          0,
          1
         ],
         "title": {
          "text": "fecha"
         }
        },
        "yaxis": {
         "anchor": "x",
         "domain": [
          0,
          1
         ],
         "title": {
          "text": "value"
         }
        }
       }
      }
     },
     "metadata": {},
     "output_type": "display_data"
    },
    {
     "data": {
      "application/vnd.plotly.v1+json": {
       "config": {
        "plotlyServerURL": "https://plot.ly"
       },
       "data": [
        {
         "hovertemplate": "device=Shelly PM 0<br>fecha=%{x}<br>power=%{y}<extra></extra>",
         "legendgroup": "Shelly PM 0",
         "line": {
          "color": "#636efa",
          "dash": "solid"
         },
         "marker": {
          "symbol": "circle"
         },
         "mode": "lines",
         "name": "Shelly PM 0",
         "orientation": "v",
         "showlegend": true,
         "type": "scatter",
         "x": [
          "2024-12-13T16:41:30+01:00",
          "2024-12-13T18:21:14+01:00",
          "2024-12-13T18:25:19+01:00",
          "2024-12-13T18:25:58+01:00",
          "2024-12-13T18:26:05+01:00",
          "2024-12-13T18:28:55+01:00",
          "2024-12-13T18:29:12+01:00",
          "2024-12-13T18:29:45+01:00",
          "2024-12-13T18:30:08+01:00",
          "2024-12-13T22:58:09+01:00",
          "2024-12-13T23:00:07+01:00",
          "2024-12-13T23:02:50+01:00",
          "2024-12-13T23:05:30+01:00",
          "2024-12-13T23:06:29+01:00",
          "2024-12-13T23:23:44+01:00",
          "2024-12-13T23:24:09+01:00",
          "2024-12-13T23:26:21+01:00",
          "2024-12-13T23:27:22+01:00",
          "2024-12-13T23:28:25+01:00",
          "2024-12-13T23:29:26+01:00",
          "2024-12-13T23:30:16+01:00",
          "2024-12-13T23:31:17+01:00",
          "2024-12-13T23:32:15+01:00",
          "2024-12-13T23:32:25+01:00",
          "2024-12-13T23:35:23+01:00",
          "2024-12-13T23:36:24+01:00",
          "2024-12-13T23:37:25+01:00",
          "2024-12-13T23:38:25+01:00"
         ],
         "xaxis": "x",
         "y": [
          4197.86,
          3220.65,
          3185.03,
          3027.4,
          3015.43,
          3122.16,
          3112.61,
          3171.23,
          2978.59,
          2578.38,
          2547.54,
          2707.64,
          2624.43,
          2817.78,
          1074.63,
          3025.87,
          1049.56,
          1000.45,
          1025.32,
          955.42,
          1015.4,
          1061.46,
          979.63,
          1073.07,
          955.87,
          1047.18,
          955.84,
          983.48
         ],
         "yaxis": "y"
        },
        {
         "hovertemplate": "device=solar<br>fecha=%{x}<br>power=%{y}<extra></extra>",
         "legendgroup": "solar",
         "line": {
          "color": "#EF553B",
          "dash": "solid"
         },
         "marker": {
          "symbol": "circle"
         },
         "mode": "lines",
         "name": "solar",
         "orientation": "v",
         "showlegend": true,
         "type": "scatter",
         "x": [
          "2024-12-13T16:41:30+01:00",
          "2024-12-13T18:21:14+01:00",
          "2024-12-13T18:25:20+01:00",
          "2024-12-13T18:25:58+01:00",
          "2024-12-13T18:26:07+01:00",
          "2024-12-13T18:28:55+01:00",
          "2024-12-13T18:29:12+01:00",
          "2024-12-13T18:29:45+01:00",
          "2024-12-13T18:30:08+01:00",
          "2024-12-13T22:58:09+01:00",
          "2024-12-13T23:00:07+01:00",
          "2024-12-13T23:02:50+01:00",
          "2024-12-13T23:05:30+01:00",
          "2024-12-13T23:06:29+01:00",
          "2024-12-13T23:23:44+01:00",
          "2024-12-13T23:24:09+01:00",
          "2024-12-13T23:26:21+01:00",
          "2024-12-13T23:27:24+01:00",
          "2024-12-13T23:28:25+01:00",
          "2024-12-13T23:29:26+01:00",
          "2024-12-13T23:30:16+01:00",
          "2024-12-13T23:31:17+01:00",
          "2024-12-13T23:32:15+01:00",
          "2024-12-13T23:32:27+01:00",
          "2024-12-13T23:35:23+01:00",
          "2024-12-13T23:36:24+01:00",
          "2024-12-13T23:37:25+01:00",
          "2024-12-13T23:38:25+01:00"
         ],
         "xaxis": "x",
         "y": [
          -20,
          0,
          0,
          0,
          0,
          0,
          0,
          0,
          0,
          0,
          0,
          0,
          0,
          0,
          0,
          0,
          0,
          0,
          0,
          0,
          0,
          0,
          0,
          0,
          0,
          0,
          0,
          0
         ],
         "yaxis": "y"
        }
       ],
       "layout": {
        "height": 500,
        "legend": {
         "title": {
          "text": ""
         },
         "tracegroupgap": 0,
         "x": 0.01,
         "xanchor": "left",
         "y": 0.99,
         "yanchor": "top"
        },
        "margin": {
         "b": 0,
         "l": 0,
         "r": 0,
         "t": 20
        },
        "template": {
         "data": {
          "bar": [
           {
            "error_x": {
             "color": "#2a3f5f"
            },
            "error_y": {
             "color": "#2a3f5f"
            },
            "marker": {
             "line": {
              "color": "#E5ECF6",
              "width": 0.5
             },
             "pattern": {
              "fillmode": "overlay",
              "size": 10,
              "solidity": 0.2
             }
            },
            "type": "bar"
           }
          ],
          "barpolar": [
           {
            "marker": {
             "line": {
              "color": "#E5ECF6",
              "width": 0.5
             },
             "pattern": {
              "fillmode": "overlay",
              "size": 10,
              "solidity": 0.2
             }
            },
            "type": "barpolar"
           }
          ],
          "carpet": [
           {
            "aaxis": {
             "endlinecolor": "#2a3f5f",
             "gridcolor": "white",
             "linecolor": "white",
             "minorgridcolor": "white",
             "startlinecolor": "#2a3f5f"
            },
            "baxis": {
             "endlinecolor": "#2a3f5f",
             "gridcolor": "white",
             "linecolor": "white",
             "minorgridcolor": "white",
             "startlinecolor": "#2a3f5f"
            },
            "type": "carpet"
           }
          ],
          "choropleth": [
           {
            "colorbar": {
             "outlinewidth": 0,
             "ticks": ""
            },
            "type": "choropleth"
           }
          ],
          "contour": [
           {
            "colorbar": {
             "outlinewidth": 0,
             "ticks": ""
            },
            "colorscale": [
             [
              0,
              "#0d0887"
             ],
             [
              0.1111111111111111,
              "#46039f"
             ],
             [
              0.2222222222222222,
              "#7201a8"
             ],
             [
              0.3333333333333333,
              "#9c179e"
             ],
             [
              0.4444444444444444,
              "#bd3786"
             ],
             [
              0.5555555555555556,
              "#d8576b"
             ],
             [
              0.6666666666666666,
              "#ed7953"
             ],
             [
              0.7777777777777778,
              "#fb9f3a"
             ],
             [
              0.8888888888888888,
              "#fdca26"
             ],
             [
              1,
              "#f0f921"
             ]
            ],
            "type": "contour"
           }
          ],
          "contourcarpet": [
           {
            "colorbar": {
             "outlinewidth": 0,
             "ticks": ""
            },
            "type": "contourcarpet"
           }
          ],
          "heatmap": [
           {
            "colorbar": {
             "outlinewidth": 0,
             "ticks": ""
            },
            "colorscale": [
             [
              0,
              "#0d0887"
             ],
             [
              0.1111111111111111,
              "#46039f"
             ],
             [
              0.2222222222222222,
              "#7201a8"
             ],
             [
              0.3333333333333333,
              "#9c179e"
             ],
             [
              0.4444444444444444,
              "#bd3786"
             ],
             [
              0.5555555555555556,
              "#d8576b"
             ],
             [
              0.6666666666666666,
              "#ed7953"
             ],
             [
              0.7777777777777778,
              "#fb9f3a"
             ],
             [
              0.8888888888888888,
              "#fdca26"
             ],
             [
              1,
              "#f0f921"
             ]
            ],
            "type": "heatmap"
           }
          ],
          "heatmapgl": [
           {
            "colorbar": {
             "outlinewidth": 0,
             "ticks": ""
            },
            "colorscale": [
             [
              0,
              "#0d0887"
             ],
             [
              0.1111111111111111,
              "#46039f"
             ],
             [
              0.2222222222222222,
              "#7201a8"
             ],
             [
              0.3333333333333333,
              "#9c179e"
             ],
             [
              0.4444444444444444,
              "#bd3786"
             ],
             [
              0.5555555555555556,
              "#d8576b"
             ],
             [
              0.6666666666666666,
              "#ed7953"
             ],
             [
              0.7777777777777778,
              "#fb9f3a"
             ],
             [
              0.8888888888888888,
              "#fdca26"
             ],
             [
              1,
              "#f0f921"
             ]
            ],
            "type": "heatmapgl"
           }
          ],
          "histogram": [
           {
            "marker": {
             "pattern": {
              "fillmode": "overlay",
              "size": 10,
              "solidity": 0.2
             }
            },
            "type": "histogram"
           }
          ],
          "histogram2d": [
           {
            "colorbar": {
             "outlinewidth": 0,
             "ticks": ""
            },
            "colorscale": [
             [
              0,
              "#0d0887"
             ],
             [
              0.1111111111111111,
              "#46039f"
             ],
             [
              0.2222222222222222,
              "#7201a8"
             ],
             [
              0.3333333333333333,
              "#9c179e"
             ],
             [
              0.4444444444444444,
              "#bd3786"
             ],
             [
              0.5555555555555556,
              "#d8576b"
             ],
             [
              0.6666666666666666,
              "#ed7953"
             ],
             [
              0.7777777777777778,
              "#fb9f3a"
             ],
             [
              0.8888888888888888,
              "#fdca26"
             ],
             [
              1,
              "#f0f921"
             ]
            ],
            "type": "histogram2d"
           }
          ],
          "histogram2dcontour": [
           {
            "colorbar": {
             "outlinewidth": 0,
             "ticks": ""
            },
            "colorscale": [
             [
              0,
              "#0d0887"
             ],
             [
              0.1111111111111111,
              "#46039f"
             ],
             [
              0.2222222222222222,
              "#7201a8"
             ],
             [
              0.3333333333333333,
              "#9c179e"
             ],
             [
              0.4444444444444444,
              "#bd3786"
             ],
             [
              0.5555555555555556,
              "#d8576b"
             ],
             [
              0.6666666666666666,
              "#ed7953"
             ],
             [
              0.7777777777777778,
              "#fb9f3a"
             ],
             [
              0.8888888888888888,
              "#fdca26"
             ],
             [
              1,
              "#f0f921"
             ]
            ],
            "type": "histogram2dcontour"
           }
          ],
          "mesh3d": [
           {
            "colorbar": {
             "outlinewidth": 0,
             "ticks": ""
            },
            "type": "mesh3d"
           }
          ],
          "parcoords": [
           {
            "line": {
             "colorbar": {
              "outlinewidth": 0,
              "ticks": ""
             }
            },
            "type": "parcoords"
           }
          ],
          "pie": [
           {
            "automargin": true,
            "type": "pie"
           }
          ],
          "scatter": [
           {
            "fillpattern": {
             "fillmode": "overlay",
             "size": 10,
             "solidity": 0.2
            },
            "type": "scatter"
           }
          ],
          "scatter3d": [
           {
            "line": {
             "colorbar": {
              "outlinewidth": 0,
              "ticks": ""
             }
            },
            "marker": {
             "colorbar": {
              "outlinewidth": 0,
              "ticks": ""
             }
            },
            "type": "scatter3d"
           }
          ],
          "scattercarpet": [
           {
            "marker": {
             "colorbar": {
              "outlinewidth": 0,
              "ticks": ""
             }
            },
            "type": "scattercarpet"
           }
          ],
          "scattergeo": [
           {
            "marker": {
             "colorbar": {
              "outlinewidth": 0,
              "ticks": ""
             }
            },
            "type": "scattergeo"
           }
          ],
          "scattergl": [
           {
            "marker": {
             "colorbar": {
              "outlinewidth": 0,
              "ticks": ""
             }
            },
            "type": "scattergl"
           }
          ],
          "scattermapbox": [
           {
            "marker": {
             "colorbar": {
              "outlinewidth": 0,
              "ticks": ""
             }
            },
            "type": "scattermapbox"
           }
          ],
          "scatterpolar": [
           {
            "marker": {
             "colorbar": {
              "outlinewidth": 0,
              "ticks": ""
             }
            },
            "type": "scatterpolar"
           }
          ],
          "scatterpolargl": [
           {
            "marker": {
             "colorbar": {
              "outlinewidth": 0,
              "ticks": ""
             }
            },
            "type": "scatterpolargl"
           }
          ],
          "scatterternary": [
           {
            "marker": {
             "colorbar": {
              "outlinewidth": 0,
              "ticks": ""
             }
            },
            "type": "scatterternary"
           }
          ],
          "surface": [
           {
            "colorbar": {
             "outlinewidth": 0,
             "ticks": ""
            },
            "colorscale": [
             [
              0,
              "#0d0887"
             ],
             [
              0.1111111111111111,
              "#46039f"
             ],
             [
              0.2222222222222222,
              "#7201a8"
             ],
             [
              0.3333333333333333,
              "#9c179e"
             ],
             [
              0.4444444444444444,
              "#bd3786"
             ],
             [
              0.5555555555555556,
              "#d8576b"
             ],
             [
              0.6666666666666666,
              "#ed7953"
             ],
             [
              0.7777777777777778,
              "#fb9f3a"
             ],
             [
              0.8888888888888888,
              "#fdca26"
             ],
             [
              1,
              "#f0f921"
             ]
            ],
            "type": "surface"
           }
          ],
          "table": [
           {
            "cells": {
             "fill": {
              "color": "#EBF0F8"
             },
             "line": {
              "color": "white"
             }
            },
            "header": {
             "fill": {
              "color": "#C8D4E3"
             },
             "line": {
              "color": "white"
             }
            },
            "type": "table"
           }
          ]
         },
         "layout": {
          "annotationdefaults": {
           "arrowcolor": "#2a3f5f",
           "arrowhead": 0,
           "arrowwidth": 1
          },
          "autotypenumbers": "strict",
          "coloraxis": {
           "colorbar": {
            "outlinewidth": 0,
            "ticks": ""
           }
          },
          "colorscale": {
           "diverging": [
            [
             0,
             "#8e0152"
            ],
            [
             0.1,
             "#c51b7d"
            ],
            [
             0.2,
             "#de77ae"
            ],
            [
             0.3,
             "#f1b6da"
            ],
            [
             0.4,
             "#fde0ef"
            ],
            [
             0.5,
             "#f7f7f7"
            ],
            [
             0.6,
             "#e6f5d0"
            ],
            [
             0.7,
             "#b8e186"
            ],
            [
             0.8,
             "#7fbc41"
            ],
            [
             0.9,
             "#4d9221"
            ],
            [
             1,
             "#276419"
            ]
           ],
           "sequential": [
            [
             0,
             "#0d0887"
            ],
            [
             0.1111111111111111,
             "#46039f"
            ],
            [
             0.2222222222222222,
             "#7201a8"
            ],
            [
             0.3333333333333333,
             "#9c179e"
            ],
            [
             0.4444444444444444,
             "#bd3786"
            ],
            [
             0.5555555555555556,
             "#d8576b"
            ],
            [
             0.6666666666666666,
             "#ed7953"
            ],
            [
             0.7777777777777778,
             "#fb9f3a"
            ],
            [
             0.8888888888888888,
             "#fdca26"
            ],
            [
             1,
             "#f0f921"
            ]
           ],
           "sequentialminus": [
            [
             0,
             "#0d0887"
            ],
            [
             0.1111111111111111,
             "#46039f"
            ],
            [
             0.2222222222222222,
             "#7201a8"
            ],
            [
             0.3333333333333333,
             "#9c179e"
            ],
            [
             0.4444444444444444,
             "#bd3786"
            ],
            [
             0.5555555555555556,
             "#d8576b"
            ],
            [
             0.6666666666666666,
             "#ed7953"
            ],
            [
             0.7777777777777778,
             "#fb9f3a"
            ],
            [
             0.8888888888888888,
             "#fdca26"
            ],
            [
             1,
             "#f0f921"
            ]
           ]
          },
          "colorway": [
           "#636efa",
           "#EF553B",
           "#00cc96",
           "#ab63fa",
           "#FFA15A",
           "#19d3f3",
           "#FF6692",
           "#B6E880",
           "#FF97FF",
           "#FECB52"
          ],
          "font": {
           "color": "#2a3f5f"
          },
          "geo": {
           "bgcolor": "white",
           "lakecolor": "white",
           "landcolor": "#E5ECF6",
           "showlakes": true,
           "showland": true,
           "subunitcolor": "white"
          },
          "hoverlabel": {
           "align": "left"
          },
          "hovermode": "closest",
          "mapbox": {
           "style": "light"
          },
          "paper_bgcolor": "white",
          "plot_bgcolor": "#E5ECF6",
          "polar": {
           "angularaxis": {
            "gridcolor": "white",
            "linecolor": "white",
            "ticks": ""
           },
           "bgcolor": "#E5ECF6",
           "radialaxis": {
            "gridcolor": "white",
            "linecolor": "white",
            "ticks": ""
           }
          },
          "scene": {
           "xaxis": {
            "backgroundcolor": "#E5ECF6",
            "gridcolor": "white",
            "gridwidth": 2,
            "linecolor": "white",
            "showbackground": true,
            "ticks": "",
            "zerolinecolor": "white"
           },
           "yaxis": {
            "backgroundcolor": "#E5ECF6",
            "gridcolor": "white",
            "gridwidth": 2,
            "linecolor": "white",
            "showbackground": true,
            "ticks": "",
            "zerolinecolor": "white"
           },
           "zaxis": {
            "backgroundcolor": "#E5ECF6",
            "gridcolor": "white",
            "gridwidth": 2,
            "linecolor": "white",
            "showbackground": true,
            "ticks": "",
            "zerolinecolor": "white"
           }
          },
          "shapedefaults": {
           "line": {
            "color": "#2a3f5f"
           }
          },
          "ternary": {
           "aaxis": {
            "gridcolor": "white",
            "linecolor": "white",
            "ticks": ""
           },
           "baxis": {
            "gridcolor": "white",
            "linecolor": "white",
            "ticks": ""
           },
           "bgcolor": "#E5ECF6",
           "caxis": {
            "gridcolor": "white",
            "linecolor": "white",
            "ticks": ""
           }
          },
          "title": {
           "x": 0.05
          },
          "xaxis": {
           "automargin": true,
           "gridcolor": "white",
           "linecolor": "white",
           "ticks": "",
           "title": {
            "standoff": 15
           },
           "zerolinecolor": "white",
           "zerolinewidth": 2
          },
          "yaxis": {
           "automargin": true,
           "gridcolor": "white",
           "linecolor": "white",
           "ticks": "",
           "title": {
            "standoff": 15
           },
           "zerolinecolor": "white",
           "zerolinewidth": 2
          }
         }
        },
        "title": {
         "text": ""
        },
        "xaxis": {
         "anchor": "y",
         "domain": [
          0,
          1
         ],
         "title": {
          "text": ""
         }
        },
        "yaxis": {
         "anchor": "x",
         "domain": [
          0,
          1
         ],
         "title": {
          "text": ""
         }
        }
       }
      }
     },
     "metadata": {},
     "output_type": "display_data"
    }
   ],
   "source": [
    "plot('vpd', devices=['temp_interior', 'temp_exterior'], height=600, hours=25)[0].show()\n",
    "plot('temperature', hours=25)[0].show()\n",
    "plot('humidity', hours=25)[0].show()\n",
    "plot('presion', hours=25)[0].show()\n",
    "plot('co2')[0].show()\n",
    "multiplot(metrics = ['temperature', 'vpd', 'humidity'], devices=['temp_interior'], height=800)[0].show()\n",
    "multiplot(metrics = ['temperature', 'vpd', 'humidity'], devices=['temp_exterior'], height=800)[0].show()\n",
    "plot('power', hours=12)[0].show()"
   ]
  },
  {
   "cell_type": "markdown",
   "metadata": {},
   "source": [
    "Temperature:\n",
    "- To raise VPD: increase temperature\n",
    "- To lower VPD: decrease temperature\n",
    "\n",
    "Humidity\n",
    "- To raise VPD: decrease humidity (turn dehumidifier on)\n",
    "- To lower VPD: increase humidity (turn dehumidifier off)"
   ]
  },
  {
   "cell_type": "code",
   "execution_count": 78,
   "metadata": {},
   "outputs": [
    {
     "data": {
      "text/html": [
       "<div>\n",
       "<style scoped>\n",
       "    .dataframe tbody tr th:only-of-type {\n",
       "        vertical-align: middle;\n",
       "    }\n",
       "\n",
       "    .dataframe tbody tr th {\n",
       "        vertical-align: top;\n",
       "    }\n",
       "\n",
       "    .dataframe thead th {\n",
       "        text-align: right;\n",
       "    }\n",
       "</style>\n",
       "<table border=\"1\" class=\"dataframe\">\n",
       "  <thead>\n",
       "    <tr style=\"text-align: right;\">\n",
       "      <th></th>\n",
       "      <th>fecha</th>\n",
       "      <th>device</th>\n",
       "      <th>metric</th>\n",
       "      <th>value</th>\n",
       "    </tr>\n",
       "  </thead>\n",
       "  <tbody>\n",
       "    <tr>\n",
       "      <th>0</th>\n",
       "      <td>2024-12-07 19:26:49+01:00</td>\n",
       "      <td>ventilador 1</td>\n",
       "      <td>action</td>\n",
       "      <td>1.0</td>\n",
       "    </tr>\n",
       "    <tr>\n",
       "      <th>1</th>\n",
       "      <td>2024-12-07 19:16:33+01:00</td>\n",
       "      <td>ventilador 1</td>\n",
       "      <td>action</td>\n",
       "      <td>0.0</td>\n",
       "    </tr>\n",
       "    <tr>\n",
       "      <th>2</th>\n",
       "      <td>2024-12-07 19:10:22+01:00</td>\n",
       "      <td>ventilador 1</td>\n",
       "      <td>action</td>\n",
       "      <td>1.0</td>\n",
       "    </tr>\n",
       "    <tr>\n",
       "      <th>3</th>\n",
       "      <td>2024-12-07 18:56:57+01:00</td>\n",
       "      <td>ventilador 1</td>\n",
       "      <td>action</td>\n",
       "      <td>0.0</td>\n",
       "    </tr>\n",
       "    <tr>\n",
       "      <th>4</th>\n",
       "      <td>2024-12-07 18:47:41+01:00</td>\n",
       "      <td>ventilador 1</td>\n",
       "      <td>action</td>\n",
       "      <td>1.0</td>\n",
       "    </tr>\n",
       "    <tr>\n",
       "      <th>5</th>\n",
       "      <td>2024-12-07 18:36:26+01:00</td>\n",
       "      <td>ventilador 1</td>\n",
       "      <td>action</td>\n",
       "      <td>0.0</td>\n",
       "    </tr>\n",
       "    <tr>\n",
       "      <th>6</th>\n",
       "      <td>2024-12-07 18:32:21+01:00</td>\n",
       "      <td>ventilador 1</td>\n",
       "      <td>action</td>\n",
       "      <td>1.0</td>\n",
       "    </tr>\n",
       "    <tr>\n",
       "      <th>7</th>\n",
       "      <td>2024-12-07 15:00:11+01:00</td>\n",
       "      <td>ventilador 1</td>\n",
       "      <td>action</td>\n",
       "      <td>0.0</td>\n",
       "    </tr>\n",
       "    <tr>\n",
       "      <th>8</th>\n",
       "      <td>2024-12-07 12:09:24+01:00</td>\n",
       "      <td>ventilador 1</td>\n",
       "      <td>action</td>\n",
       "      <td>1.0</td>\n",
       "    </tr>\n",
       "    <tr>\n",
       "      <th>9</th>\n",
       "      <td>2024-12-07 12:08:22+01:00</td>\n",
       "      <td>ventilador 1</td>\n",
       "      <td>action</td>\n",
       "      <td>0.0</td>\n",
       "    </tr>\n",
       "    <tr>\n",
       "      <th>10</th>\n",
       "      <td>2024-12-07 12:07:18+01:00</td>\n",
       "      <td>ventilador 1</td>\n",
       "      <td>action</td>\n",
       "      <td>1.0</td>\n",
       "    </tr>\n",
       "    <tr>\n",
       "      <th>11</th>\n",
       "      <td>2024-12-07 11:43:12+01:00</td>\n",
       "      <td>ventilador 1</td>\n",
       "      <td>action</td>\n",
       "      <td>0.0</td>\n",
       "    </tr>\n",
       "  </tbody>\n",
       "</table>\n",
       "</div>"
      ],
      "text/plain": [
       "                       fecha        device  metric  value\n",
       "0  2024-12-07 19:26:49+01:00  ventilador 1  action    1.0\n",
       "1  2024-12-07 19:16:33+01:00  ventilador 1  action    0.0\n",
       "2  2024-12-07 19:10:22+01:00  ventilador 1  action    1.0\n",
       "3  2024-12-07 18:56:57+01:00  ventilador 1  action    0.0\n",
       "4  2024-12-07 18:47:41+01:00  ventilador 1  action    1.0\n",
       "5  2024-12-07 18:36:26+01:00  ventilador 1  action    0.0\n",
       "6  2024-12-07 18:32:21+01:00  ventilador 1  action    1.0\n",
       "7  2024-12-07 15:00:11+01:00  ventilador 1  action    0.0\n",
       "8  2024-12-07 12:09:24+01:00  ventilador 1  action    1.0\n",
       "9  2024-12-07 12:08:22+01:00  ventilador 1  action    0.0\n",
       "10 2024-12-07 12:07:18+01:00  ventilador 1  action    1.0\n",
       "11 2024-12-07 11:43:12+01:00  ventilador 1  action    0.0"
      ]
     },
     "execution_count": 78,
     "metadata": {},
     "output_type": "execute_result"
    }
   ],
   "source": [
    "query = f\"\"\"\n",
    "                select\n",
    "                to_timestamp(timestamp) as fecha,\n",
    "                device,\n",
    "                metric,\n",
    "                value\n",
    "                from 'csv/*/*.csv'\n",
    "                where to_timestamp(timestamp) >= current_timestamp - interval 24 hour\n",
    "                and metric = 'action'\n",
    "                and device = 'ventilador 1'\n",
    "                order by timestamp desc\n",
    "                \"\"\"\n",
    "        \n",
    "duckdb.sql(query).df()"
   ]
  },
  {
   "cell_type": "code",
   "execution_count": 58,
   "metadata": {},
   "outputs": [
    {
     "data": {
      "text/html": [
       "\n",
       "        <iframe\n",
       "            width=\"100%\"\n",
       "            height=\"650\"\n",
       "            src=\"http://0.0.0.0:8050/\"\n",
       "            frameborder=\"0\"\n",
       "            allowfullscreen\n",
       "            \n",
       "        ></iframe>\n",
       "        "
      ],
      "text/plain": [
       "<IPython.lib.display.IFrame at 0x12a6ed090>"
      ]
     },
     "metadata": {},
     "output_type": "display_data"
    }
   ],
   "source": [
    "from dash import Dash, html, dcc, callback, Input, Output\n",
    "from plot_logger import *\n",
    "\n",
    "app = Dash()\n",
    "\n",
    "app.layout = html.Div([\n",
    "    html.Div(\n",
    "        [\n",
    "            dcc.RadioItems(\n",
    "                options=['VPD', 'Temperature', 'Humidity'], \n",
    "                value='VPD',\n",
    "                id='metric_selector', \n",
    "                inline=True\n",
    "            ),\n",
    "            dcc.Checklist(\n",
    "                options=['temp_interior', 'temp_exterior', 'suelo', 'humedad suelo'],\n",
    "                value=['temp_interior', 'temp_exterior'],\n",
    "                inline=True,\n",
    "                id='device_selector'\n",
    "            )\n",
    "        ],\n",
    "        style={\n",
    "            'display': 'flex',\n",
    "            'alignItems': 'center',\n",
    "            'gap': '50px',\n",
    "            'margin-left': '30px',\n",
    "            'margin-top': '10px'\n",
    "        }\n",
    "    ),\n",
    "    html.Div(\n",
    "        dcc.Slider(\n",
    "            id=\"hours_selector\",\n",
    "            min=1,\n",
    "            max=25,\n",
    "            value=25,\n",
    "            step=1\n",
    "        ),\n",
    "        style={\n",
    "            'alignItems': 'left',\n",
    "            'maxWidth': '600px',\n",
    "            'margin-left': '30px',\n",
    "            'margin-top': '10px'\n",
    "        }\n",
    "    ),\n",
    "    dcc.Graph(\n",
    "        id = 'chart'\n",
    "        )\n",
    "    ])\n",
    "    \n",
    "\n",
    "@callback(\n",
    "    Output(component_id='chart', component_property='figure'),\n",
    "     [\n",
    "    Input(component_id='metric_selector', component_property='value'),\n",
    "    Input(component_id='device_selector', component_property='value'),\n",
    "    Input(component_id='hours_selector', component_property='value'),\n",
    "     ]\n",
    ")\n",
    "def update_chart(input_value, devices, hours):\n",
    "    return plot(input_value.lower(), devices=devices, height=600, hours=hours)[0]\n",
    "\n",
    "app.run(\n",
    "    debug=False,\n",
    "    host='0.0.0.0',\n",
    "    port=8050\n",
    "    )"
   ]
  }
 ],
 "metadata": {
  "kernelspec": {
   "display_name": "Python 3",
   "language": "python",
   "name": "python3"
  },
  "language_info": {
   "codemirror_mode": {
    "name": "ipython",
    "version": 3
   },
   "file_extension": ".py",
   "mimetype": "text/x-python",
   "name": "python",
   "nbconvert_exporter": "python",
   "pygments_lexer": "ipython3",
   "version": "3.10.8"
  }
 },
 "nbformat": 4,
 "nbformat_minor": 2
}
