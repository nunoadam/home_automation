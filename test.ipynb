{
 "cells": [
  {
   "cell_type": "code",
   "execution_count": 30,
   "metadata": {},
   "outputs": [],
   "source": [
    "%reload_ext autoreload\n",
    "%autoreload 2\n",
    "\n",
    "from logger import *\n",
    "from automation import *\n",
    "\n",
    "devices, logging_sort, automations, derived_metrics = load_config()\n",
    "\n",
    "client = ModbusTcpClient(\"192.168.1.200\", port=4196)\n"
   ]
  },
  {
   "cell_type": "code",
   "execution_count": 69,
   "metadata": {},
   "outputs": [],
   "source": [
    "automation = automations[0]"
   ]
  },
  {
   "cell_type": "code",
   "execution_count": 33,
   "metadata": {},
   "outputs": [],
   "source": [
    "condition = automation[\"conditions\"][0]"
   ]
  },
  {
   "cell_type": "code",
   "execution_count": 27,
   "metadata": {},
   "outputs": [],
   "source": [
    "device = find_object_by_name ('Rele suelo y ventilador', devices)"
   ]
  },
  {
   "cell_type": "code",
   "execution_count": 3,
   "metadata": {},
   "outputs": [
    {
     "data": {
      "text/plain": [
       "{'name': 'Shelly ventilador 2',\n",
       " 'description': 'Control Ventilador 1',\n",
       " 'type': 'Automation',\n",
       " 'connection': {'type': 'http', 'url': 'http://192.168.1.101/relay/0?'},\n",
       " 'relays': [{'name': 'ventilador 2', 'status': {'location': 'status'}}]}"
      ]
     },
     "execution_count": 3,
     "metadata": {},
     "output_type": "execute_result"
    }
   ],
   "source": [
    "device"
   ]
  },
  {
   "cell_type": "code",
   "execution_count": 34,
   "metadata": {},
   "outputs": [
    {
     "name": "stderr",
     "output_type": "stream",
     "text": [
      "Not connected, trying to connect!\n"
     ]
    },
    {
     "name": "stdout",
     "output_type": "stream",
     "text": [
      "Unexpected error while reading Modbus device 'Rele suelo y ventilador': ModbusClientMixin.write_coil() got an unexpected keyword argument 'action'\n"
     ]
    }
   ],
   "source": [
    "relay_modbus (device, \"ventilador 1\", \"off\", client)"
   ]
  },
  {
   "cell_type": "code",
   "execution_count": 15,
   "metadata": {},
   "outputs": [
    {
     "name": "stdout",
     "output_type": "stream",
     "text": [
      "http://192.168.1.101/relay/0?\n",
      "http://192.168.1.101/relay/0?status\n"
     ]
    }
   ],
   "source": [
    "url = device['connection'][\"url\"]\n",
    "relay = find_object_by_name (\"ventilador 2\" , device['relays'])\n",
    "print(url)\n",
    "print(f\"{url}{relay['status']['location']}\")"
   ]
  },
  {
   "cell_type": "code",
   "execution_count": 16,
   "metadata": {},
   "outputs": [],
   "source": [
    "response = requests.get(f\"{url}{relay['status']['location']}\", timeout = 3)"
   ]
  }
 ],
 "metadata": {
  "kernelspec": {
   "display_name": "base",
   "language": "python",
   "name": "python3"
  },
  "language_info": {
   "codemirror_mode": {
    "name": "ipython",
    "version": 3
   },
   "file_extension": ".py",
   "mimetype": "text/x-python",
   "name": "python",
   "nbconvert_exporter": "python",
   "pygments_lexer": "ipython3",
   "version": "3.12.2"
  }
 },
 "nbformat": 4,
 "nbformat_minor": 2
}
