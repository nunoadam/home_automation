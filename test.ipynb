{
 "cells": [
  {
   "cell_type": "code",
   "execution_count": 81,
   "metadata": {},
   "outputs": [],
   "source": [
    "%reload_ext autoreload\n",
    "%autoreload 2\n",
    "\n",
    "from logger import *\n",
    "from automation import *\n",
    "\n",
    "devices, automations = load_config()\n",
    "\n",
    "client = ModbusTcpClient(\"192.168.1.200\", port=4196)\n"
   ]
  },
  {
   "cell_type": "code",
   "execution_count": 83,
   "metadata": {},
   "outputs": [
    {
     "name": "stdout",
     "output_type": "stream",
     "text": [
      "Shelly PM 0\n",
      "solar\n"
     ]
    }
   ],
   "source": [
    "category = 'Energia'\n",
    "for device in devices:\n",
    "    if device['category'] == category and device['type'] == 'sensor':\n",
    "        print(device['name'])"
   ]
  },
  {
   "cell_type": "code",
   "execution_count": 79,
   "metadata": {},
   "outputs": [
    {
     "data": {
      "text/plain": [
       "{'name': 'humedad suelo',\n",
       " 'description': 'Sensor humedad suelo',\n",
       " 'type': 'sensor',\n",
       " 'enabled': True,\n",
       " 'category': 'Invernadero',\n",
       " 'display': 'Humedad suelo: {readings[0]}°C, {readings[1]}% HR',\n",
       " 'connection': {'type': 'modbus', 'slave': 1, 'method': 'input_register'},\n",
       " 'metrics': [{'address': 0,\n",
       "   'name': 'temperature',\n",
       "   'units': '°C',\n",
       "   'factor': 0.01,\n",
       "   'signed': True},\n",
       "  {'address': 1, 'name': 'humidity', 'units': '% HR', 'factor': 0.01},\n",
       "  {'address': 2, 'name': 'ec'}]}"
      ]
     },
     "execution_count": 79,
     "metadata": {},
     "output_type": "execute_result"
    }
   ],
   "source": [
    "devices[3]"
   ]
  },
  {
   "cell_type": "code",
   "execution_count": 62,
   "metadata": {},
   "outputs": [
    {
     "name": "stdout",
     "output_type": "stream",
     "text": [
      "ventiladores invernadero: temp_interior, temperature: 9.2 Condition not meet (>25)\n",
      "ventiladores invernadero: temp_interior, VPD: 2.8507998083201365<4. No changes in relay ventilador 2 (current state: on)\n",
      "ventiladores invernadero: temp_interior, VPD: 2.8507998083201365 Condition not meet (>6)\n"
     ]
    }
   ],
   "source": [
    "trigger (automation, devices, client)"
   ]
  },
  {
   "cell_type": "code",
   "execution_count": 43,
   "metadata": {},
   "outputs": [
    {
     "name": "stdout",
     "output_type": "stream",
     "text": [
      "{'temperature': 18.66, 'humidity': 32.84, 'ec': 235}\n"
     ]
    }
   ],
   "source": [
    "readings = read_device (devices[3], client)\n",
    "print(readings)"
   ]
  },
  {
   "cell_type": "code",
   "execution_count": 48,
   "metadata": {},
   "outputs": [
    {
     "data": {
      "text/plain": [
       "18.66"
      ]
     },
     "execution_count": 48,
     "metadata": {},
     "output_type": "execute_result"
    }
   ],
   "source": [
    "readings[\"temperature\"]"
   ]
  },
  {
   "cell_type": "code",
   "execution_count": 15,
   "metadata": {},
   "outputs": [
    {
     "name": "stdout",
     "output_type": "stream",
     "text": [
      "http://192.168.1.101/relay/0?\n",
      "http://192.168.1.101/relay/0?status\n"
     ]
    }
   ],
   "source": [
    "url = device['connection'][\"url\"]\n",
    "relay = find_object_by_name (\"ventilador 2\" , device['relays'])\n",
    "print(url)\n",
    "print(f\"{url}{relay['status']['location']}\")"
   ]
  },
  {
   "cell_type": "code",
   "execution_count": 70,
   "metadata": {},
   "outputs": [],
   "source": [
    "response = requests.get(\"http://192.168.0.14/rpc/Shelly.GetStatus\", timeout = 3).json()"
   ]
  },
  {
   "cell_type": "code",
   "execution_count": 73,
   "metadata": {},
   "outputs": [
    {
     "data": {
      "text/plain": [
       "1.52"
      ]
     },
     "execution_count": 73,
     "metadata": {},
     "output_type": "execute_result"
    }
   ],
   "source": [
    "devices"
   ]
  }
 ],
 "metadata": {
  "kernelspec": {
   "display_name": "Python 3",
   "language": "python",
   "name": "python3"
  },
  "language_info": {
   "codemirror_mode": {
    "name": "ipython",
    "version": 3
   },
   "file_extension": ".py",
   "mimetype": "text/x-python",
   "name": "python",
   "nbconvert_exporter": "python",
   "pygments_lexer": "ipython3",
   "version": "3.10.8"
  }
 },
 "nbformat": 4,
 "nbformat_minor": 2
}
