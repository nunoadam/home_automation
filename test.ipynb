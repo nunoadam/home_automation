{
 "cells": [
  {
   "cell_type": "code",
   "execution_count": 68,
   "metadata": {},
   "outputs": [],
   "source": [
    "%reload_ext autoreload\n",
    "%autoreload 2\n",
    "\n",
    "from logger import *\n",
    "from automation import *\n",
    "\n",
    "devices, logging_sort, automations, derived_metrics = load_config()"
   ]
  },
  {
   "cell_type": "code",
   "execution_count": 69,
   "metadata": {},
   "outputs": [],
   "source": [
    "automation = automations[0]"
   ]
  },
  {
   "cell_type": "code",
   "execution_count": 33,
   "metadata": {},
   "outputs": [],
   "source": [
    "condition = automation[\"conditions\"][0]"
   ]
  },
  {
   "cell_type": "code",
   "execution_count": 38,
   "metadata": {},
   "outputs": [],
   "source": [
    "device = find_object_by_name ('Rele suelo y ventilador', devices)"
   ]
  },
  {
   "cell_type": "code",
   "execution_count": 39,
   "metadata": {},
   "outputs": [
    {
     "data": {
      "text/plain": [
       "{'name': 'Rele suelo y ventilador',\n",
       " 'description': 'Relé control calefactor suelo y ventilador 1',\n",
       " 'type': 'Automation',\n",
       " 'connection': {'type': 'modbus', 'slave': 16, 'method': 'coil'},\n",
       " 'relays': [{'name': 'calefactor de suelo 1',\n",
       "   'address': 0,\n",
       "   'states': [{True: True}, {False: False}],\n",
       "   'status': {'address': 0, 'bit': 0}},\n",
       "  {'name': 'ventilador 1',\n",
       "   'address': 1,\n",
       "   'states': [{True: True}, {False: False}],\n",
       "   'status': {'address': 0, 'bit': 1}}]}"
      ]
     },
     "execution_count": 39,
     "metadata": {},
     "output_type": "execute_result"
    }
   ],
   "source": [
    "device"
   ]
  },
  {
   "cell_type": "code",
   "execution_count": 71,
   "metadata": {},
   "outputs": [
    {
     "name": "stdout",
     "output_type": "stream",
     "text": [
      "calefactor suelo 1: Condition 1 (temperature: 5.4<16) meet. No changes in relay calefactor de suelo 1 (current state: on)\n",
      "calefactor suelo 1: Condition 2 (temperature: 5.4>19) not meet\n"
     ]
    }
   ],
   "source": [
    "trigger (automation, devices, client)"
   ]
  },
  {
   "cell_type": "code",
   "execution_count": 61,
   "metadata": {},
   "outputs": [
    {
     "data": {
      "text/plain": [
       "('on', 'on')"
      ]
     },
     "execution_count": 61,
     "metadata": {},
     "output_type": "execute_result"
    }
   ],
   "source": [
    "relay_modbus (device, 'calefactor de suelo 1', 'on', client)"
   ]
  },
  {
   "cell_type": "code",
   "execution_count": null,
   "metadata": {},
   "outputs": [],
   "source": [
    "get_state_from_value(states_dict, current_state)"
   ]
  },
  {
   "cell_type": "code",
   "execution_count": 49,
   "metadata": {},
   "outputs": [
    {
     "data": {
      "text/plain": [
       "<pymodbus.bit_read_message.ReadCoilsResponse at 0x114d0a0e0>"
      ]
     },
     "execution_count": 49,
     "metadata": {},
     "output_type": "execute_result"
    }
   ],
   "source": [
    "client.read_coils(0, count=1, slave=16)"
   ]
  }
 ],
 "metadata": {
  "kernelspec": {
   "display_name": "Python 3",
   "language": "python",
   "name": "python3"
  },
  "language_info": {
   "codemirror_mode": {
    "name": "ipython",
    "version": 3
   },
   "file_extension": ".py",
   "mimetype": "text/x-python",
   "name": "python",
   "nbconvert_exporter": "python",
   "pygments_lexer": "ipython3",
   "version": "3.10.8"
  }
 },
 "nbformat": 4,
 "nbformat_minor": 2
}
